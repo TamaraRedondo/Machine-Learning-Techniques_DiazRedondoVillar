{
  "nbformat": 4,
  "nbformat_minor": 0,
  "metadata": {
    "colab": {
      "provenance": []
    },
    "kernelspec": {
      "name": "python3",
      "display_name": "Python 3"
    },
    "language_info": {
      "name": "python"
    }
  },
  "cells": [
    {
      "cell_type": "code",
      "source": [],
      "metadata": {
        "id": "VsyIRmiwxgXG"
      },
      "execution_count": 2,
      "outputs": []
    },
    {
      "cell_type": "markdown",
      "source": [
        "Import Libraries"
      ],
      "metadata": {
        "id": "SPnncgEvmEaA"
      }
    },
    {
      "cell_type": "code",
      "execution_count": 3,
      "metadata": {
        "id": "j_86x6qjln9L"
      },
      "outputs": [],
      "source": [
        "%matplotlib inline\n",
        "\n",
        "import numpy as np\n",
        "import pandas as pd\n",
        "\n",
        "import matplotlib.pyplot as plt\n",
        "import seaborn as sns"
      ]
    },
    {
      "cell_type": "markdown",
      "source": [
        "## Data Loading"
      ],
      "metadata": {
        "id": "ZZW8i0cZ7noM"
      }
    },
    {
      "cell_type": "markdown",
      "source": [
        "**Training Values**: There are 38 features, including structual information as well as legal information. Each building is identified by a unique (random) building_id, which you can use as an index.\n",
        "First of all, we download the data and we can see the amount and type of data we have"
      ],
      "metadata": {
        "id": "-5UrdfiVmEBz"
      }
    },
    {
      "cell_type": "code",
      "source": [
        "!wget https://github.com/alan-flint/Richter-DrivenData/raw/master/input/train_values.csv\n",
        "df_train_values= pd.read_csv(\"train_values.csv\", index_col = \"building_id\")\n",
        "df_train_values.shape"
      ],
      "metadata": {
        "colab": {
          "base_uri": "https://localhost:8080/"
        },
        "id": "m6tG9sYJ7CXu",
        "outputId": "73fd3c12-7b56-4fb0-e8f6-c046aaed8b89"
      },
      "execution_count": 4,
      "outputs": [
        {
          "output_type": "stream",
          "name": "stdout",
          "text": [
            "--2022-12-18 16:11:26--  https://github.com/alan-flint/Richter-DrivenData/raw/master/input/train_values.csv\n",
            "Resolving github.com (github.com)... 20.27.177.113\n",
            "Connecting to github.com (github.com)|20.27.177.113|:443... connected.\n",
            "HTTP request sent, awaiting response... 302 Found\n",
            "Location: https://raw.githubusercontent.com/alan-flint/Richter-DrivenData/master/input/train_values.csv [following]\n",
            "--2022-12-18 16:11:26--  https://raw.githubusercontent.com/alan-flint/Richter-DrivenData/master/input/train_values.csv\n",
            "Resolving raw.githubusercontent.com (raw.githubusercontent.com)... 185.199.110.133, 185.199.108.133, 185.199.111.133, ...\n",
            "Connecting to raw.githubusercontent.com (raw.githubusercontent.com)|185.199.110.133|:443... connected.\n",
            "HTTP request sent, awaiting response... 200 OK\n",
            "Length: 23442727 (22M) [text/plain]\n",
            "Saving to: ‘train_values.csv’\n",
            "\n",
            "train_values.csv    100%[===================>]  22.36M   129MB/s    in 0.2s    \n",
            "\n",
            "2022-12-18 16:11:29 (129 MB/s) - ‘train_values.csv’ saved [23442727/23442727]\n",
            "\n"
          ]
        },
        {
          "output_type": "execute_result",
          "data": {
            "text/plain": [
              "(260601, 38)"
            ]
          },
          "metadata": {},
          "execution_count": 4
        }
      ]
    },
    {
      "cell_type": "code",
      "source": [
        "df_train_values.dtypes"
      ],
      "metadata": {
        "colab": {
          "base_uri": "https://localhost:8080/"
        },
        "id": "kXdWAjKR8LmQ",
        "outputId": "54c550c1-8446-463b-acf3-ebb8e424046a"
      },
      "execution_count": 5,
      "outputs": [
        {
          "output_type": "execute_result",
          "data": {
            "text/plain": [
              "geo_level_1_id                             int64\n",
              "geo_level_2_id                             int64\n",
              "geo_level_3_id                             int64\n",
              "count_floors_pre_eq                        int64\n",
              "age                                        int64\n",
              "area_percentage                            int64\n",
              "height_percentage                          int64\n",
              "land_surface_condition                    object\n",
              "foundation_type                           object\n",
              "roof_type                                 object\n",
              "ground_floor_type                         object\n",
              "other_floor_type                          object\n",
              "position                                  object\n",
              "plan_configuration                        object\n",
              "has_superstructure_adobe_mud               int64\n",
              "has_superstructure_mud_mortar_stone        int64\n",
              "has_superstructure_stone_flag              int64\n",
              "has_superstructure_cement_mortar_stone     int64\n",
              "has_superstructure_mud_mortar_brick        int64\n",
              "has_superstructure_cement_mortar_brick     int64\n",
              "has_superstructure_timber                  int64\n",
              "has_superstructure_bamboo                  int64\n",
              "has_superstructure_rc_non_engineered       int64\n",
              "has_superstructure_rc_engineered           int64\n",
              "has_superstructure_other                   int64\n",
              "legal_ownership_status                    object\n",
              "count_families                             int64\n",
              "has_secondary_use                          int64\n",
              "has_secondary_use_agriculture              int64\n",
              "has_secondary_use_hotel                    int64\n",
              "has_secondary_use_rental                   int64\n",
              "has_secondary_use_institution              int64\n",
              "has_secondary_use_school                   int64\n",
              "has_secondary_use_industry                 int64\n",
              "has_secondary_use_health_post              int64\n",
              "has_secondary_use_gov_office               int64\n",
              "has_secondary_use_use_police               int64\n",
              "has_secondary_use_other                    int64\n",
              "dtype: object"
            ]
          },
          "metadata": {},
          "execution_count": 5
        }
      ]
    },
    {
      "cell_type": "markdown",
      "source": [
        "Every `building_id` in the training values data has a corresponding label in this file. A $1$ represents low damage, a $2$ represents a medium amount of damage, and a $3$ represents almost complete destruction."
      ],
      "metadata": {
        "id": "i6L4iOa339og"
      }
    },
    {
      "cell_type": "code",
      "source": [
        "!wget https://github.com/alan-flint/Richter-DrivenData/raw/master/input/train_labels.csv\n",
        "df_train_labels = pd.read_csv(\"train_labels.csv\", index_col = \"building_id\")\n",
        "df_train_labels"
      ],
      "metadata": {
        "colab": {
          "base_uri": "https://localhost:8080/",
          "height": 733
        },
        "id": "wXG0eonu7gQb",
        "outputId": "b7938b16-5fe3-4267-d05a-f3a2d87dcdfe"
      },
      "execution_count": 6,
      "outputs": [
        {
          "output_type": "stream",
          "name": "stdout",
          "text": [
            "--2022-12-18 16:11:30--  https://github.com/alan-flint/Richter-DrivenData/raw/master/input/train_labels.csv\n",
            "Resolving github.com (github.com)... 20.27.177.113\n",
            "Connecting to github.com (github.com)|20.27.177.113|:443... connected.\n",
            "HTTP request sent, awaiting response... 302 Found\n",
            "Location: https://raw.githubusercontent.com/alan-flint/Richter-DrivenData/master/input/train_labels.csv [following]\n",
            "--2022-12-18 16:11:31--  https://raw.githubusercontent.com/alan-flint/Richter-DrivenData/master/input/train_labels.csv\n",
            "Resolving raw.githubusercontent.com (raw.githubusercontent.com)... 185.199.110.133, 185.199.108.133, 185.199.111.133, ...\n",
            "Connecting to raw.githubusercontent.com (raw.githubusercontent.com)|185.199.110.133|:443... connected.\n",
            "HTTP request sent, awaiting response... 200 OK\n",
            "Length: 2330792 (2.2M) [text/plain]\n",
            "Saving to: ‘train_labels.csv’\n",
            "\n",
            "train_labels.csv    100%[===================>]   2.22M  --.-KB/s    in 0.07s   \n",
            "\n",
            "2022-12-18 16:11:34 (29.9 MB/s) - ‘train_labels.csv’ saved [2330792/2330792]\n",
            "\n"
          ]
        },
        {
          "output_type": "execute_result",
          "data": {
            "text/plain": [
              "             damage_grade\n",
              "building_id              \n",
              "802906                  3\n",
              "28830                   2\n",
              "94947                   3\n",
              "590882                  2\n",
              "201944                  3\n",
              "...                   ...\n",
              "688636                  2\n",
              "669485                  3\n",
              "602512                  3\n",
              "151409                  2\n",
              "747594                  3\n",
              "\n",
              "[260601 rows x 1 columns]"
            ],
            "text/html": [
              "\n",
              "  <div id=\"df-8824a989-db17-41e4-827b-2f4ce0c5d16c\">\n",
              "    <div class=\"colab-df-container\">\n",
              "      <div>\n",
              "<style scoped>\n",
              "    .dataframe tbody tr th:only-of-type {\n",
              "        vertical-align: middle;\n",
              "    }\n",
              "\n",
              "    .dataframe tbody tr th {\n",
              "        vertical-align: top;\n",
              "    }\n",
              "\n",
              "    .dataframe thead th {\n",
              "        text-align: right;\n",
              "    }\n",
              "</style>\n",
              "<table border=\"1\" class=\"dataframe\">\n",
              "  <thead>\n",
              "    <tr style=\"text-align: right;\">\n",
              "      <th></th>\n",
              "      <th>damage_grade</th>\n",
              "    </tr>\n",
              "    <tr>\n",
              "      <th>building_id</th>\n",
              "      <th></th>\n",
              "    </tr>\n",
              "  </thead>\n",
              "  <tbody>\n",
              "    <tr>\n",
              "      <th>802906</th>\n",
              "      <td>3</td>\n",
              "    </tr>\n",
              "    <tr>\n",
              "      <th>28830</th>\n",
              "      <td>2</td>\n",
              "    </tr>\n",
              "    <tr>\n",
              "      <th>94947</th>\n",
              "      <td>3</td>\n",
              "    </tr>\n",
              "    <tr>\n",
              "      <th>590882</th>\n",
              "      <td>2</td>\n",
              "    </tr>\n",
              "    <tr>\n",
              "      <th>201944</th>\n",
              "      <td>3</td>\n",
              "    </tr>\n",
              "    <tr>\n",
              "      <th>...</th>\n",
              "      <td>...</td>\n",
              "    </tr>\n",
              "    <tr>\n",
              "      <th>688636</th>\n",
              "      <td>2</td>\n",
              "    </tr>\n",
              "    <tr>\n",
              "      <th>669485</th>\n",
              "      <td>3</td>\n",
              "    </tr>\n",
              "    <tr>\n",
              "      <th>602512</th>\n",
              "      <td>3</td>\n",
              "    </tr>\n",
              "    <tr>\n",
              "      <th>151409</th>\n",
              "      <td>2</td>\n",
              "    </tr>\n",
              "    <tr>\n",
              "      <th>747594</th>\n",
              "      <td>3</td>\n",
              "    </tr>\n",
              "  </tbody>\n",
              "</table>\n",
              "<p>260601 rows × 1 columns</p>\n",
              "</div>\n",
              "      <button class=\"colab-df-convert\" onclick=\"convertToInteractive('df-8824a989-db17-41e4-827b-2f4ce0c5d16c')\"\n",
              "              title=\"Convert this dataframe to an interactive table.\"\n",
              "              style=\"display:none;\">\n",
              "        \n",
              "  <svg xmlns=\"http://www.w3.org/2000/svg\" height=\"24px\"viewBox=\"0 0 24 24\"\n",
              "       width=\"24px\">\n",
              "    <path d=\"M0 0h24v24H0V0z\" fill=\"none\"/>\n",
              "    <path d=\"M18.56 5.44l.94 2.06.94-2.06 2.06-.94-2.06-.94-.94-2.06-.94 2.06-2.06.94zm-11 1L8.5 8.5l.94-2.06 2.06-.94-2.06-.94L8.5 2.5l-.94 2.06-2.06.94zm10 10l.94 2.06.94-2.06 2.06-.94-2.06-.94-.94-2.06-.94 2.06-2.06.94z\"/><path d=\"M17.41 7.96l-1.37-1.37c-.4-.4-.92-.59-1.43-.59-.52 0-1.04.2-1.43.59L10.3 9.45l-7.72 7.72c-.78.78-.78 2.05 0 2.83L4 21.41c.39.39.9.59 1.41.59.51 0 1.02-.2 1.41-.59l7.78-7.78 2.81-2.81c.8-.78.8-2.07 0-2.86zM5.41 20L4 18.59l7.72-7.72 1.47 1.35L5.41 20z\"/>\n",
              "  </svg>\n",
              "      </button>\n",
              "      \n",
              "  <style>\n",
              "    .colab-df-container {\n",
              "      display:flex;\n",
              "      flex-wrap:wrap;\n",
              "      gap: 12px;\n",
              "    }\n",
              "\n",
              "    .colab-df-convert {\n",
              "      background-color: #E8F0FE;\n",
              "      border: none;\n",
              "      border-radius: 50%;\n",
              "      cursor: pointer;\n",
              "      display: none;\n",
              "      fill: #1967D2;\n",
              "      height: 32px;\n",
              "      padding: 0 0 0 0;\n",
              "      width: 32px;\n",
              "    }\n",
              "\n",
              "    .colab-df-convert:hover {\n",
              "      background-color: #E2EBFA;\n",
              "      box-shadow: 0px 1px 2px rgba(60, 64, 67, 0.3), 0px 1px 3px 1px rgba(60, 64, 67, 0.15);\n",
              "      fill: #174EA6;\n",
              "    }\n",
              "\n",
              "    [theme=dark] .colab-df-convert {\n",
              "      background-color: #3B4455;\n",
              "      fill: #D2E3FC;\n",
              "    }\n",
              "\n",
              "    [theme=dark] .colab-df-convert:hover {\n",
              "      background-color: #434B5C;\n",
              "      box-shadow: 0px 1px 3px 1px rgba(0, 0, 0, 0.15);\n",
              "      filter: drop-shadow(0px 1px 2px rgba(0, 0, 0, 0.3));\n",
              "      fill: #FFFFFF;\n",
              "    }\n",
              "  </style>\n",
              "\n",
              "      <script>\n",
              "        const buttonEl =\n",
              "          document.querySelector('#df-8824a989-db17-41e4-827b-2f4ce0c5d16c button.colab-df-convert');\n",
              "        buttonEl.style.display =\n",
              "          google.colab.kernel.accessAllowed ? 'block' : 'none';\n",
              "\n",
              "        async function convertToInteractive(key) {\n",
              "          const element = document.querySelector('#df-8824a989-db17-41e4-827b-2f4ce0c5d16c');\n",
              "          const dataTable =\n",
              "            await google.colab.kernel.invokeFunction('convertToInteractive',\n",
              "                                                     [key], {});\n",
              "          if (!dataTable) return;\n",
              "\n",
              "          const docLinkHtml = 'Like what you see? Visit the ' +\n",
              "            '<a target=\"_blank\" href=https://colab.research.google.com/notebooks/data_table.ipynb>data table notebook</a>'\n",
              "            + ' to learn more about interactive tables.';\n",
              "          element.innerHTML = '';\n",
              "          dataTable['output_type'] = 'display_data';\n",
              "          await google.colab.output.renderOutput(dataTable, element);\n",
              "          const docLink = document.createElement('div');\n",
              "          docLink.innerHTML = docLinkHtml;\n",
              "          element.appendChild(docLink);\n",
              "        }\n",
              "      </script>\n",
              "    </div>\n",
              "  </div>\n",
              "  "
            ]
          },
          "metadata": {},
          "execution_count": 6
        }
      ]
    },
    {
      "cell_type": "markdown",
      "source": [
        "Now we can mix the tables with the features and the damage_grade so we have our database"
      ],
      "metadata": {
        "id": "-vtEHFY19iMM"
      }
    },
    {
      "cell_type": "code",
      "source": [
        "df_train_values.join(df_train_labels)"
      ],
      "metadata": {
        "id": "8mvtLW4f97N2",
        "colab": {
          "base_uri": "https://localhost:8080/",
          "height": 519
        },
        "outputId": "b70499ed-4dbf-42b0-c48f-766e7a7ab327"
      },
      "execution_count": 7,
      "outputs": [
        {
          "output_type": "execute_result",
          "data": {
            "text/plain": [
              "             geo_level_1_id  geo_level_2_id  geo_level_3_id  \\\n",
              "building_id                                                   \n",
              "802906                    6             487           12198   \n",
              "28830                     8             900            2812   \n",
              "94947                    21             363            8973   \n",
              "590882                   22             418           10694   \n",
              "201944                   11             131            1488   \n",
              "...                     ...             ...             ...   \n",
              "688636                   25            1335            1621   \n",
              "669485                   17             715            2060   \n",
              "602512                   17              51            8163   \n",
              "151409                   26              39            1851   \n",
              "747594                   21               9            9101   \n",
              "\n",
              "             count_floors_pre_eq  age  area_percentage  height_percentage  \\\n",
              "building_id                                                                 \n",
              "802906                         2   30                6                  5   \n",
              "28830                          2   10                8                  7   \n",
              "94947                          2   10                5                  5   \n",
              "590882                         2   10                6                  5   \n",
              "201944                         3   30                8                  9   \n",
              "...                          ...  ...              ...                ...   \n",
              "688636                         1   55                6                  3   \n",
              "669485                         2    0                6                  5   \n",
              "602512                         3   55                6                  7   \n",
              "151409                         2   10               14                  6   \n",
              "747594                         3   10                7                  6   \n",
              "\n",
              "            land_surface_condition foundation_type roof_type  ...  \\\n",
              "building_id                                                   ...   \n",
              "802906                           t               r         n  ...   \n",
              "28830                            o               r         n  ...   \n",
              "94947                            t               r         n  ...   \n",
              "590882                           t               r         n  ...   \n",
              "201944                           t               r         n  ...   \n",
              "...                            ...             ...       ...  ...   \n",
              "688636                           n               r         n  ...   \n",
              "669485                           t               r         n  ...   \n",
              "602512                           t               r         q  ...   \n",
              "151409                           t               r         x  ...   \n",
              "747594                           n               r         n  ...   \n",
              "\n",
              "            has_secondary_use_hotel has_secondary_use_rental  \\\n",
              "building_id                                                    \n",
              "802906                            0                        0   \n",
              "28830                             0                        0   \n",
              "94947                             0                        0   \n",
              "590882                            0                        0   \n",
              "201944                            0                        0   \n",
              "...                             ...                      ...   \n",
              "688636                            0                        0   \n",
              "669485                            0                        0   \n",
              "602512                            0                        0   \n",
              "151409                            0                        0   \n",
              "747594                            0                        0   \n",
              "\n",
              "            has_secondary_use_institution has_secondary_use_school  \\\n",
              "building_id                                                          \n",
              "802906                                  0                        0   \n",
              "28830                                   0                        0   \n",
              "94947                                   0                        0   \n",
              "590882                                  0                        0   \n",
              "201944                                  0                        0   \n",
              "...                                   ...                      ...   \n",
              "688636                                  0                        0   \n",
              "669485                                  0                        0   \n",
              "602512                                  0                        0   \n",
              "151409                                  0                        0   \n",
              "747594                                  0                        0   \n",
              "\n",
              "             has_secondary_use_industry  has_secondary_use_health_post  \\\n",
              "building_id                                                              \n",
              "802906                                0                              0   \n",
              "28830                                 0                              0   \n",
              "94947                                 0                              0   \n",
              "590882                                0                              0   \n",
              "201944                                0                              0   \n",
              "...                                 ...                            ...   \n",
              "688636                                0                              0   \n",
              "669485                                0                              0   \n",
              "602512                                0                              0   \n",
              "151409                                0                              0   \n",
              "747594                                0                              0   \n",
              "\n",
              "             has_secondary_use_gov_office  has_secondary_use_use_police  \\\n",
              "building_id                                                               \n",
              "802906                                  0                             0   \n",
              "28830                                   0                             0   \n",
              "94947                                   0                             0   \n",
              "590882                                  0                             0   \n",
              "201944                                  0                             0   \n",
              "...                                   ...                           ...   \n",
              "688636                                  0                             0   \n",
              "669485                                  0                             0   \n",
              "602512                                  0                             0   \n",
              "151409                                  0                             0   \n",
              "747594                                  0                             0   \n",
              "\n",
              "             has_secondary_use_other  damage_grade  \n",
              "building_id                                         \n",
              "802906                             0             3  \n",
              "28830                              0             2  \n",
              "94947                              0             3  \n",
              "590882                             0             2  \n",
              "201944                             0             3  \n",
              "...                              ...           ...  \n",
              "688636                             0             2  \n",
              "669485                             0             3  \n",
              "602512                             0             3  \n",
              "151409                             0             2  \n",
              "747594                             0             3  \n",
              "\n",
              "[260601 rows x 39 columns]"
            ],
            "text/html": [
              "\n",
              "  <div id=\"df-6336b069-f048-4b4e-adb2-33486d44735f\">\n",
              "    <div class=\"colab-df-container\">\n",
              "      <div>\n",
              "<style scoped>\n",
              "    .dataframe tbody tr th:only-of-type {\n",
              "        vertical-align: middle;\n",
              "    }\n",
              "\n",
              "    .dataframe tbody tr th {\n",
              "        vertical-align: top;\n",
              "    }\n",
              "\n",
              "    .dataframe thead th {\n",
              "        text-align: right;\n",
              "    }\n",
              "</style>\n",
              "<table border=\"1\" class=\"dataframe\">\n",
              "  <thead>\n",
              "    <tr style=\"text-align: right;\">\n",
              "      <th></th>\n",
              "      <th>geo_level_1_id</th>\n",
              "      <th>geo_level_2_id</th>\n",
              "      <th>geo_level_3_id</th>\n",
              "      <th>count_floors_pre_eq</th>\n",
              "      <th>age</th>\n",
              "      <th>area_percentage</th>\n",
              "      <th>height_percentage</th>\n",
              "      <th>land_surface_condition</th>\n",
              "      <th>foundation_type</th>\n",
              "      <th>roof_type</th>\n",
              "      <th>...</th>\n",
              "      <th>has_secondary_use_hotel</th>\n",
              "      <th>has_secondary_use_rental</th>\n",
              "      <th>has_secondary_use_institution</th>\n",
              "      <th>has_secondary_use_school</th>\n",
              "      <th>has_secondary_use_industry</th>\n",
              "      <th>has_secondary_use_health_post</th>\n",
              "      <th>has_secondary_use_gov_office</th>\n",
              "      <th>has_secondary_use_use_police</th>\n",
              "      <th>has_secondary_use_other</th>\n",
              "      <th>damage_grade</th>\n",
              "    </tr>\n",
              "    <tr>\n",
              "      <th>building_id</th>\n",
              "      <th></th>\n",
              "      <th></th>\n",
              "      <th></th>\n",
              "      <th></th>\n",
              "      <th></th>\n",
              "      <th></th>\n",
              "      <th></th>\n",
              "      <th></th>\n",
              "      <th></th>\n",
              "      <th></th>\n",
              "      <th></th>\n",
              "      <th></th>\n",
              "      <th></th>\n",
              "      <th></th>\n",
              "      <th></th>\n",
              "      <th></th>\n",
              "      <th></th>\n",
              "      <th></th>\n",
              "      <th></th>\n",
              "      <th></th>\n",
              "      <th></th>\n",
              "    </tr>\n",
              "  </thead>\n",
              "  <tbody>\n",
              "    <tr>\n",
              "      <th>802906</th>\n",
              "      <td>6</td>\n",
              "      <td>487</td>\n",
              "      <td>12198</td>\n",
              "      <td>2</td>\n",
              "      <td>30</td>\n",
              "      <td>6</td>\n",
              "      <td>5</td>\n",
              "      <td>t</td>\n",
              "      <td>r</td>\n",
              "      <td>n</td>\n",
              "      <td>...</td>\n",
              "      <td>0</td>\n",
              "      <td>0</td>\n",
              "      <td>0</td>\n",
              "      <td>0</td>\n",
              "      <td>0</td>\n",
              "      <td>0</td>\n",
              "      <td>0</td>\n",
              "      <td>0</td>\n",
              "      <td>0</td>\n",
              "      <td>3</td>\n",
              "    </tr>\n",
              "    <tr>\n",
              "      <th>28830</th>\n",
              "      <td>8</td>\n",
              "      <td>900</td>\n",
              "      <td>2812</td>\n",
              "      <td>2</td>\n",
              "      <td>10</td>\n",
              "      <td>8</td>\n",
              "      <td>7</td>\n",
              "      <td>o</td>\n",
              "      <td>r</td>\n",
              "      <td>n</td>\n",
              "      <td>...</td>\n",
              "      <td>0</td>\n",
              "      <td>0</td>\n",
              "      <td>0</td>\n",
              "      <td>0</td>\n",
              "      <td>0</td>\n",
              "      <td>0</td>\n",
              "      <td>0</td>\n",
              "      <td>0</td>\n",
              "      <td>0</td>\n",
              "      <td>2</td>\n",
              "    </tr>\n",
              "    <tr>\n",
              "      <th>94947</th>\n",
              "      <td>21</td>\n",
              "      <td>363</td>\n",
              "      <td>8973</td>\n",
              "      <td>2</td>\n",
              "      <td>10</td>\n",
              "      <td>5</td>\n",
              "      <td>5</td>\n",
              "      <td>t</td>\n",
              "      <td>r</td>\n",
              "      <td>n</td>\n",
              "      <td>...</td>\n",
              "      <td>0</td>\n",
              "      <td>0</td>\n",
              "      <td>0</td>\n",
              "      <td>0</td>\n",
              "      <td>0</td>\n",
              "      <td>0</td>\n",
              "      <td>0</td>\n",
              "      <td>0</td>\n",
              "      <td>0</td>\n",
              "      <td>3</td>\n",
              "    </tr>\n",
              "    <tr>\n",
              "      <th>590882</th>\n",
              "      <td>22</td>\n",
              "      <td>418</td>\n",
              "      <td>10694</td>\n",
              "      <td>2</td>\n",
              "      <td>10</td>\n",
              "      <td>6</td>\n",
              "      <td>5</td>\n",
              "      <td>t</td>\n",
              "      <td>r</td>\n",
              "      <td>n</td>\n",
              "      <td>...</td>\n",
              "      <td>0</td>\n",
              "      <td>0</td>\n",
              "      <td>0</td>\n",
              "      <td>0</td>\n",
              "      <td>0</td>\n",
              "      <td>0</td>\n",
              "      <td>0</td>\n",
              "      <td>0</td>\n",
              "      <td>0</td>\n",
              "      <td>2</td>\n",
              "    </tr>\n",
              "    <tr>\n",
              "      <th>201944</th>\n",
              "      <td>11</td>\n",
              "      <td>131</td>\n",
              "      <td>1488</td>\n",
              "      <td>3</td>\n",
              "      <td>30</td>\n",
              "      <td>8</td>\n",
              "      <td>9</td>\n",
              "      <td>t</td>\n",
              "      <td>r</td>\n",
              "      <td>n</td>\n",
              "      <td>...</td>\n",
              "      <td>0</td>\n",
              "      <td>0</td>\n",
              "      <td>0</td>\n",
              "      <td>0</td>\n",
              "      <td>0</td>\n",
              "      <td>0</td>\n",
              "      <td>0</td>\n",
              "      <td>0</td>\n",
              "      <td>0</td>\n",
              "      <td>3</td>\n",
              "    </tr>\n",
              "    <tr>\n",
              "      <th>...</th>\n",
              "      <td>...</td>\n",
              "      <td>...</td>\n",
              "      <td>...</td>\n",
              "      <td>...</td>\n",
              "      <td>...</td>\n",
              "      <td>...</td>\n",
              "      <td>...</td>\n",
              "      <td>...</td>\n",
              "      <td>...</td>\n",
              "      <td>...</td>\n",
              "      <td>...</td>\n",
              "      <td>...</td>\n",
              "      <td>...</td>\n",
              "      <td>...</td>\n",
              "      <td>...</td>\n",
              "      <td>...</td>\n",
              "      <td>...</td>\n",
              "      <td>...</td>\n",
              "      <td>...</td>\n",
              "      <td>...</td>\n",
              "      <td>...</td>\n",
              "    </tr>\n",
              "    <tr>\n",
              "      <th>688636</th>\n",
              "      <td>25</td>\n",
              "      <td>1335</td>\n",
              "      <td>1621</td>\n",
              "      <td>1</td>\n",
              "      <td>55</td>\n",
              "      <td>6</td>\n",
              "      <td>3</td>\n",
              "      <td>n</td>\n",
              "      <td>r</td>\n",
              "      <td>n</td>\n",
              "      <td>...</td>\n",
              "      <td>0</td>\n",
              "      <td>0</td>\n",
              "      <td>0</td>\n",
              "      <td>0</td>\n",
              "      <td>0</td>\n",
              "      <td>0</td>\n",
              "      <td>0</td>\n",
              "      <td>0</td>\n",
              "      <td>0</td>\n",
              "      <td>2</td>\n",
              "    </tr>\n",
              "    <tr>\n",
              "      <th>669485</th>\n",
              "      <td>17</td>\n",
              "      <td>715</td>\n",
              "      <td>2060</td>\n",
              "      <td>2</td>\n",
              "      <td>0</td>\n",
              "      <td>6</td>\n",
              "      <td>5</td>\n",
              "      <td>t</td>\n",
              "      <td>r</td>\n",
              "      <td>n</td>\n",
              "      <td>...</td>\n",
              "      <td>0</td>\n",
              "      <td>0</td>\n",
              "      <td>0</td>\n",
              "      <td>0</td>\n",
              "      <td>0</td>\n",
              "      <td>0</td>\n",
              "      <td>0</td>\n",
              "      <td>0</td>\n",
              "      <td>0</td>\n",
              "      <td>3</td>\n",
              "    </tr>\n",
              "    <tr>\n",
              "      <th>602512</th>\n",
              "      <td>17</td>\n",
              "      <td>51</td>\n",
              "      <td>8163</td>\n",
              "      <td>3</td>\n",
              "      <td>55</td>\n",
              "      <td>6</td>\n",
              "      <td>7</td>\n",
              "      <td>t</td>\n",
              "      <td>r</td>\n",
              "      <td>q</td>\n",
              "      <td>...</td>\n",
              "      <td>0</td>\n",
              "      <td>0</td>\n",
              "      <td>0</td>\n",
              "      <td>0</td>\n",
              "      <td>0</td>\n",
              "      <td>0</td>\n",
              "      <td>0</td>\n",
              "      <td>0</td>\n",
              "      <td>0</td>\n",
              "      <td>3</td>\n",
              "    </tr>\n",
              "    <tr>\n",
              "      <th>151409</th>\n",
              "      <td>26</td>\n",
              "      <td>39</td>\n",
              "      <td>1851</td>\n",
              "      <td>2</td>\n",
              "      <td>10</td>\n",
              "      <td>14</td>\n",
              "      <td>6</td>\n",
              "      <td>t</td>\n",
              "      <td>r</td>\n",
              "      <td>x</td>\n",
              "      <td>...</td>\n",
              "      <td>0</td>\n",
              "      <td>0</td>\n",
              "      <td>0</td>\n",
              "      <td>0</td>\n",
              "      <td>0</td>\n",
              "      <td>0</td>\n",
              "      <td>0</td>\n",
              "      <td>0</td>\n",
              "      <td>0</td>\n",
              "      <td>2</td>\n",
              "    </tr>\n",
              "    <tr>\n",
              "      <th>747594</th>\n",
              "      <td>21</td>\n",
              "      <td>9</td>\n",
              "      <td>9101</td>\n",
              "      <td>3</td>\n",
              "      <td>10</td>\n",
              "      <td>7</td>\n",
              "      <td>6</td>\n",
              "      <td>n</td>\n",
              "      <td>r</td>\n",
              "      <td>n</td>\n",
              "      <td>...</td>\n",
              "      <td>0</td>\n",
              "      <td>0</td>\n",
              "      <td>0</td>\n",
              "      <td>0</td>\n",
              "      <td>0</td>\n",
              "      <td>0</td>\n",
              "      <td>0</td>\n",
              "      <td>0</td>\n",
              "      <td>0</td>\n",
              "      <td>3</td>\n",
              "    </tr>\n",
              "  </tbody>\n",
              "</table>\n",
              "<p>260601 rows × 39 columns</p>\n",
              "</div>\n",
              "      <button class=\"colab-df-convert\" onclick=\"convertToInteractive('df-6336b069-f048-4b4e-adb2-33486d44735f')\"\n",
              "              title=\"Convert this dataframe to an interactive table.\"\n",
              "              style=\"display:none;\">\n",
              "        \n",
              "  <svg xmlns=\"http://www.w3.org/2000/svg\" height=\"24px\"viewBox=\"0 0 24 24\"\n",
              "       width=\"24px\">\n",
              "    <path d=\"M0 0h24v24H0V0z\" fill=\"none\"/>\n",
              "    <path d=\"M18.56 5.44l.94 2.06.94-2.06 2.06-.94-2.06-.94-.94-2.06-.94 2.06-2.06.94zm-11 1L8.5 8.5l.94-2.06 2.06-.94-2.06-.94L8.5 2.5l-.94 2.06-2.06.94zm10 10l.94 2.06.94-2.06 2.06-.94-2.06-.94-.94-2.06-.94 2.06-2.06.94z\"/><path d=\"M17.41 7.96l-1.37-1.37c-.4-.4-.92-.59-1.43-.59-.52 0-1.04.2-1.43.59L10.3 9.45l-7.72 7.72c-.78.78-.78 2.05 0 2.83L4 21.41c.39.39.9.59 1.41.59.51 0 1.02-.2 1.41-.59l7.78-7.78 2.81-2.81c.8-.78.8-2.07 0-2.86zM5.41 20L4 18.59l7.72-7.72 1.47 1.35L5.41 20z\"/>\n",
              "  </svg>\n",
              "      </button>\n",
              "      \n",
              "  <style>\n",
              "    .colab-df-container {\n",
              "      display:flex;\n",
              "      flex-wrap:wrap;\n",
              "      gap: 12px;\n",
              "    }\n",
              "\n",
              "    .colab-df-convert {\n",
              "      background-color: #E8F0FE;\n",
              "      border: none;\n",
              "      border-radius: 50%;\n",
              "      cursor: pointer;\n",
              "      display: none;\n",
              "      fill: #1967D2;\n",
              "      height: 32px;\n",
              "      padding: 0 0 0 0;\n",
              "      width: 32px;\n",
              "    }\n",
              "\n",
              "    .colab-df-convert:hover {\n",
              "      background-color: #E2EBFA;\n",
              "      box-shadow: 0px 1px 2px rgba(60, 64, 67, 0.3), 0px 1px 3px 1px rgba(60, 64, 67, 0.15);\n",
              "      fill: #174EA6;\n",
              "    }\n",
              "\n",
              "    [theme=dark] .colab-df-convert {\n",
              "      background-color: #3B4455;\n",
              "      fill: #D2E3FC;\n",
              "    }\n",
              "\n",
              "    [theme=dark] .colab-df-convert:hover {\n",
              "      background-color: #434B5C;\n",
              "      box-shadow: 0px 1px 3px 1px rgba(0, 0, 0, 0.15);\n",
              "      filter: drop-shadow(0px 1px 2px rgba(0, 0, 0, 0.3));\n",
              "      fill: #FFFFFF;\n",
              "    }\n",
              "  </style>\n",
              "\n",
              "      <script>\n",
              "        const buttonEl =\n",
              "          document.querySelector('#df-6336b069-f048-4b4e-adb2-33486d44735f button.colab-df-convert');\n",
              "        buttonEl.style.display =\n",
              "          google.colab.kernel.accessAllowed ? 'block' : 'none';\n",
              "\n",
              "        async function convertToInteractive(key) {\n",
              "          const element = document.querySelector('#df-6336b069-f048-4b4e-adb2-33486d44735f');\n",
              "          const dataTable =\n",
              "            await google.colab.kernel.invokeFunction('convertToInteractive',\n",
              "                                                     [key], {});\n",
              "          if (!dataTable) return;\n",
              "\n",
              "          const docLinkHtml = 'Like what you see? Visit the ' +\n",
              "            '<a target=\"_blank\" href=https://colab.research.google.com/notebooks/data_table.ipynb>data table notebook</a>'\n",
              "            + ' to learn more about interactive tables.';\n",
              "          element.innerHTML = '';\n",
              "          dataTable['output_type'] = 'display_data';\n",
              "          await google.colab.output.renderOutput(dataTable, element);\n",
              "          const docLink = document.createElement('div');\n",
              "          docLink.innerHTML = docLinkHtml;\n",
              "          element.appendChild(docLink);\n",
              "        }\n",
              "      </script>\n",
              "    </div>\n",
              "  </div>\n",
              "  "
            ]
          },
          "metadata": {},
          "execution_count": 7
        }
      ]
    },
    {
      "cell_type": "markdown",
      "source": [
        "## Exploratory Data Analysis"
      ],
      "metadata": {
        "id": "kHyukPk87sO2"
      }
    },
    {
      "cell_type": "markdown",
      "source": [
        "We can have an overview of the data collected"
      ],
      "metadata": {
        "id": "u4BqY5-r-CW_"
      }
    },
    {
      "cell_type": "code",
      "source": [
        "(df_train_labels.damage_grade\n",
        "             .value_counts()\n",
        "             .sort_index()\n",
        "             .plot.bar(title=\"Number of Buildings with Each Damage Grade\"))"
      ],
      "metadata": {
        "colab": {
          "base_uri": "https://localhost:8080/",
          "height": 106
        },
        "id": "mGlD6hMz8Tcn",
        "outputId": "fabcaf7d-affe-4df3-9528-956d0d04a2dd"
      },
      "execution_count": 8,
      "outputs": [
        {
          "output_type": "execute_result",
          "data": {
            "text/plain": [
              "<matplotlib.axes._subplots.AxesSubplot at 0x7f06f39334f0>"
            ]
          },
          "metadata": {},
          "execution_count": 8
        },
        {
          "output_type": "display_data",
          "data": {
            "text/plain": [
              "<Figure size 432x288 with 1 Axes>"
            ],
            "image/png": "[encoded data removed]"
          },
          "metadata": {
            "needs_background": "light"
          }
        }
      ]
    },
    {
      "cell_type": "markdown",
      "source": [
        "## Feature Selection/Feature Engineering"
      ],
      "metadata": {
        "id": "LNfCvpdNrBhY"
      }
    },
    {
      "cell_type": "code",
      "source": [
        "selected_features = ['foundation_type', \n",
        "                     'area_percentage', \n",
        "                     'height_percentage',\n",
        "                     'age',\n",
        "                     'geo_level_2_id',\n",
        "                     'geo_level_1_id',\n",
        "                     'roof_type',\n",
        "                     'ground_floor_type',\n",
        "                     'has_secondary_use',\n",
        "                     'position',\n",
        "                     'plan_configuration',\n",
        "                     'has_superstructure_mud_mortar_stone',\n",
        "                     'has_superstructure_timber',\n",
        "                     'has_superstructure_bamboo']\n",
        "\n",
        "df_train_values_subset = df_train_values[selected_features]"
      ],
      "metadata": {
        "id": "zjke6KAU8cJ_"
      },
      "execution_count": 9,
      "outputs": []
    },
    {
      "cell_type": "markdown",
      "source": [
        "## Transforming categorycal into numerical\n",
        "Our dataframe has categorycal values as `foundation_type`so we convert them into numbers so we can compute them with the mathematical algorithms"
      ],
      "metadata": {
        "id": "dt1cmWS7sfd1"
      }
    },
    {
      "cell_type": "code",
      "source": [
        "df_train_values_subset['foundation_type'].replace(['h', 'i', 'r', 'u', 'w'], [0, 1, 2, 3, 4], inplace=True)\n",
        "df_train_values_subset['roof_type'].replace(['n', 'q', 'x'], [0, 1, 2], inplace=True)\n",
        "df_train_values_subset['ground_floor_type'].replace(['f', 'm', 'v', 'x', 'z'], [0, 1, 2, 3, 4], inplace=True)\n",
        "df_train_values_subset['position'].replace(['j', 'o', 's', 't'], [0, 1, 2, 3], inplace=True)\n",
        "df_train_values_subset['plan_configuration'].replace(['a', 'c', 'd', 'f', 'm', 'n', 'o', 'q', 's', 'u'], [0, 1, 2, 3, 4, 5, 6, 7, 8, 9], inplace=True)\n",
        "df_train_values_subset"
      ],
      "metadata": {
        "colab": {
          "base_uri": "https://localhost:8080/",
          "height": 606
        },
        "id": "mbLuHJs48peX",
        "outputId": "12bff189-881b-45b5-9acb-7a8e3872e4a9"
      },
      "execution_count": 10,
      "outputs": [
        {
          "output_type": "stream",
          "name": "stderr",
          "text": [
            "/usr/local/lib/python3.8/dist-packages/pandas/core/generic.py:6619: SettingWithCopyWarning: \n",
            "A value is trying to be set on a copy of a slice from a DataFrame\n",
            "\n",
            "See the caveats in the documentation: https://pandas.pydata.org/pandas-docs/stable/user_guide/indexing.html#returning-a-view-versus-a-copy\n",
            "  return self._update_inplace(result)\n"
          ]
        },
        {
          "output_type": "execute_result",
          "data": {
            "text/plain": [
              "             foundation_type  area_percentage  height_percentage  age  \\\n",
              "building_id                                                             \n",
              "802906                     2                6                  5   30   \n",
              "28830                      2                8                  7   10   \n",
              "94947                      2                5                  5   10   \n",
              "590882                     2                6                  5   10   \n",
              "201944                     2                8                  9   30   \n",
              "...                      ...              ...                ...  ...   \n",
              "688636                     2                6                  3   55   \n",
              "669485                     2                6                  5    0   \n",
              "602512                     2                6                  7   55   \n",
              "151409                     2               14                  6   10   \n",
              "747594                     2                7                  6   10   \n",
              "\n",
              "             geo_level_2_id  geo_level_1_id  roof_type  ground_floor_type  \\\n",
              "building_id                                                                 \n",
              "802906                  487               6          0                  0   \n",
              "28830                   900               8          0                  3   \n",
              "94947                   363              21          0                  0   \n",
              "590882                  418              22          0                  0   \n",
              "201944                  131              11          0                  0   \n",
              "...                     ...             ...        ...                ...   \n",
              "688636                 1335              25          0                  0   \n",
              "669485                  715              17          0                  0   \n",
              "602512                   51              17          1                  0   \n",
              "151409                   39              26          2                  2   \n",
              "747594                    9              21          0                  0   \n",
              "\n",
              "             has_secondary_use  position  plan_configuration  \\\n",
              "building_id                                                    \n",
              "802906                       0         3                   2   \n",
              "28830                        0         2                   2   \n",
              "94947                        0         3                   2   \n",
              "590882                       0         2                   2   \n",
              "201944                       0         2                   2   \n",
              "...                        ...       ...                 ...   \n",
              "688636                       0         2                   7   \n",
              "669485                       0         2                   2   \n",
              "602512                       0         2                   2   \n",
              "151409                       0         0                   2   \n",
              "747594                       0         0                   2   \n",
              "\n",
              "             has_superstructure_mud_mortar_stone  has_superstructure_timber  \\\n",
              "building_id                                                                   \n",
              "802906                                         1                          0   \n",
              "28830                                          1                          0   \n",
              "94947                                          1                          0   \n",
              "590882                                         1                          1   \n",
              "201944                                         0                          0   \n",
              "...                                          ...                        ...   \n",
              "688636                                         1                          0   \n",
              "669485                                         1                          0   \n",
              "602512                                         1                          0   \n",
              "151409                                         0                          0   \n",
              "747594                                         1                          0   \n",
              "\n",
              "             has_superstructure_bamboo  \n",
              "building_id                             \n",
              "802906                               0  \n",
              "28830                                0  \n",
              "94947                                0  \n",
              "590882                               1  \n",
              "201944                               0  \n",
              "...                                ...  \n",
              "688636                               0  \n",
              "669485                               0  \n",
              "602512                               0  \n",
              "151409                               0  \n",
              "747594                               0  \n",
              "\n",
              "[260601 rows x 14 columns]"
            ],
            "text/html": [
              "\n",
              "  <div id=\"df-a2d32964-7eb7-4bdf-8086-26bc8247e606\">\n",
              "    <div class=\"colab-df-container\">\n",
              "      <div>\n",
              "<style scoped>\n",
              "    .dataframe tbody tr th:only-of-type {\n",
              "        vertical-align: middle;\n",
              "    }\n",
              "\n",
              "    .dataframe tbody tr th {\n",
              "        vertical-align: top;\n",
              "    }\n",
              "\n",
              "    .dataframe thead th {\n",
              "        text-align: right;\n",
              "    }\n",
              "</style>\n",
              "<table border=\"1\" class=\"dataframe\">\n",
              "  <thead>\n",
              "    <tr style=\"text-align: right;\">\n",
              "      <th></th>\n",
              "      <th>foundation_type</th>\n",
              "      <th>area_percentage</th>\n",
              "      <th>height_percentage</th>\n",
              "      <th>age</th>\n",
              "      <th>geo_level_2_id</th>\n",
              "      <th>geo_level_1_id</th>\n",
              "      <th>roof_type</th>\n",
              "      <th>ground_floor_type</th>\n",
              "      <th>has_secondary_use</th>\n",
              "      <th>position</th>\n",
              "      <th>plan_configuration</th>\n",
              "      <th>has_superstructure_mud_mortar_stone</th>\n",
              "      <th>has_superstructure_timber</th>\n",
              "      <th>has_superstructure_bamboo</th>\n",
              "    </tr>\n",
              "    <tr>\n",
              "      <th>building_id</th>\n",
              "      <th></th>\n",
              "      <th></th>\n",
              "      <th></th>\n",
              "      <th></th>\n",
              "      <th></th>\n",
              "      <th></th>\n",
              "      <th></th>\n",
              "      <th></th>\n",
              "      <th></th>\n",
              "      <th></th>\n",
              "      <th></th>\n",
              "      <th></th>\n",
              "      <th></th>\n",
              "      <th></th>\n",
              "    </tr>\n",
              "  </thead>\n",
              "  <tbody>\n",
              "    <tr>\n",
              "      <th>802906</th>\n",
              "      <td>2</td>\n",
              "      <td>6</td>\n",
              "      <td>5</td>\n",
              "      <td>30</td>\n",
              "      <td>487</td>\n",
              "      <td>6</td>\n",
              "      <td>0</td>\n",
              "      <td>0</td>\n",
              "      <td>0</td>\n",
              "      <td>3</td>\n",
              "      <td>2</td>\n",
              "      <td>1</td>\n",
              "      <td>0</td>\n",
              "      <td>0</td>\n",
              "    </tr>\n",
              "    <tr>\n",
              "      <th>28830</th>\n",
              "      <td>2</td>\n",
              "      <td>8</td>\n",
              "      <td>7</td>\n",
              "      <td>10</td>\n",
              "      <td>900</td>\n",
              "      <td>8</td>\n",
              "      <td>0</td>\n",
              "      <td>3</td>\n",
              "      <td>0</td>\n",
              "      <td>2</td>\n",
              "      <td>2</td>\n",
              "      <td>1</td>\n",
              "      <td>0</td>\n",
              "      <td>0</td>\n",
              "    </tr>\n",
              "    <tr>\n",
              "      <th>94947</th>\n",
              "      <td>2</td>\n",
              "      <td>5</td>\n",
              "      <td>5</td>\n",
              "      <td>10</td>\n",
              "      <td>363</td>\n",
              "      <td>21</td>\n",
              "      <td>0</td>\n",
              "      <td>0</td>\n",
              "      <td>0</td>\n",
              "      <td>3</td>\n",
              "      <td>2</td>\n",
              "      <td>1</td>\n",
              "      <td>0</td>\n",
              "      <td>0</td>\n",
              "    </tr>\n",
              "    <tr>\n",
              "      <th>590882</th>\n",
              "      <td>2</td>\n",
              "      <td>6</td>\n",
              "      <td>5</td>\n",
              "      <td>10</td>\n",
              "      <td>418</td>\n",
              "      <td>22</td>\n",
              "      <td>0</td>\n",
              "      <td>0</td>\n",
              "      <td>0</td>\n",
              "      <td>2</td>\n",
              "      <td>2</td>\n",
              "      <td>1</td>\n",
              "      <td>1</td>\n",
              "      <td>1</td>\n",
              "    </tr>\n",
              "    <tr>\n",
              "      <th>201944</th>\n",
              "      <td>2</td>\n",
              "      <td>8</td>\n",
              "      <td>9</td>\n",
              "      <td>30</td>\n",
              "      <td>131</td>\n",
              "      <td>11</td>\n",
              "      <td>0</td>\n",
              "      <td>0</td>\n",
              "      <td>0</td>\n",
              "      <td>2</td>\n",
              "      <td>2</td>\n",
              "      <td>0</td>\n",
              "      <td>0</td>\n",
              "      <td>0</td>\n",
              "    </tr>\n",
              "    <tr>\n",
              "      <th>...</th>\n",
              "      <td>...</td>\n",
              "      <td>...</td>\n",
              "      <td>...</td>\n",
              "      <td>...</td>\n",
              "      <td>...</td>\n",
              "      <td>...</td>\n",
              "      <td>...</td>\n",
              "      <td>...</td>\n",
              "      <td>...</td>\n",
              "      <td>...</td>\n",
              "      <td>...</td>\n",
              "      <td>...</td>\n",
              "      <td>...</td>\n",
              "      <td>...</td>\n",
              "    </tr>\n",
              "    <tr>\n",
              "      <th>688636</th>\n",
              "      <td>2</td>\n",
              "      <td>6</td>\n",
              "      <td>3</td>\n",
              "      <td>55</td>\n",
              "      <td>1335</td>\n",
              "      <td>25</td>\n",
              "      <td>0</td>\n",
              "      <td>0</td>\n",
              "      <td>0</td>\n",
              "      <td>2</td>\n",
              "      <td>7</td>\n",
              "      <td>1</td>\n",
              "      <td>0</td>\n",
              "      <td>0</td>\n",
              "    </tr>\n",
              "    <tr>\n",
              "      <th>669485</th>\n",
              "      <td>2</td>\n",
              "      <td>6</td>\n",
              "      <td>5</td>\n",
              "      <td>0</td>\n",
              "      <td>715</td>\n",
              "      <td>17</td>\n",
              "      <td>0</td>\n",
              "      <td>0</td>\n",
              "      <td>0</td>\n",
              "      <td>2</td>\n",
              "      <td>2</td>\n",
              "      <td>1</td>\n",
              "      <td>0</td>\n",
              "      <td>0</td>\n",
              "    </tr>\n",
              "    <tr>\n",
              "      <th>602512</th>\n",
              "      <td>2</td>\n",
              "      <td>6</td>\n",
              "      <td>7</td>\n",
              "      <td>55</td>\n",
              "      <td>51</td>\n",
              "      <td>17</td>\n",
              "      <td>1</td>\n",
              "      <td>0</td>\n",
              "      <td>0</td>\n",
              "      <td>2</td>\n",
              "      <td>2</td>\n",
              "      <td>1</td>\n",
              "      <td>0</td>\n",
              "      <td>0</td>\n",
              "    </tr>\n",
              "    <tr>\n",
              "      <th>151409</th>\n",
              "      <td>2</td>\n",
              "      <td>14</td>\n",
              "      <td>6</td>\n",
              "      <td>10</td>\n",
              "      <td>39</td>\n",
              "      <td>26</td>\n",
              "      <td>2</td>\n",
              "      <td>2</td>\n",
              "      <td>0</td>\n",
              "      <td>0</td>\n",
              "      <td>2</td>\n",
              "      <td>0</td>\n",
              "      <td>0</td>\n",
              "      <td>0</td>\n",
              "    </tr>\n",
              "    <tr>\n",
              "      <th>747594</th>\n",
              "      <td>2</td>\n",
              "      <td>7</td>\n",
              "      <td>6</td>\n",
              "      <td>10</td>\n",
              "      <td>9</td>\n",
              "      <td>21</td>\n",
              "      <td>0</td>\n",
              "      <td>0</td>\n",
              "      <td>0</td>\n",
              "      <td>0</td>\n",
              "      <td>2</td>\n",
              "      <td>1</td>\n",
              "      <td>0</td>\n",
              "      <td>0</td>\n",
              "    </tr>\n",
              "  </tbody>\n",
              "</table>\n",
              "<p>260601 rows × 14 columns</p>\n",
              "</div>\n",
              "      <button class=\"colab-df-convert\" onclick=\"convertToInteractive('df-a2d32964-7eb7-4bdf-8086-26bc8247e606')\"\n",
              "              title=\"Convert this dataframe to an interactive table.\"\n",
              "              style=\"display:none;\">\n",
              "        \n",
              "  <svg xmlns=\"http://www.w3.org/2000/svg\" height=\"24px\"viewBox=\"0 0 24 24\"\n",
              "       width=\"24px\">\n",
              "    <path d=\"M0 0h24v24H0V0z\" fill=\"none\"/>\n",
              "    <path d=\"M18.56 5.44l.94 2.06.94-2.06 2.06-.94-2.06-.94-.94-2.06-.94 2.06-2.06.94zm-11 1L8.5 8.5l.94-2.06 2.06-.94-2.06-.94L8.5 2.5l-.94 2.06-2.06.94zm10 10l.94 2.06.94-2.06 2.06-.94-2.06-.94-.94-2.06-.94 2.06-2.06.94z\"/><path d=\"M17.41 7.96l-1.37-1.37c-.4-.4-.92-.59-1.43-.59-.52 0-1.04.2-1.43.59L10.3 9.45l-7.72 7.72c-.78.78-.78 2.05 0 2.83L4 21.41c.39.39.9.59 1.41.59.51 0 1.02-.2 1.41-.59l7.78-7.78 2.81-2.81c.8-.78.8-2.07 0-2.86zM5.41 20L4 18.59l7.72-7.72 1.47 1.35L5.41 20z\"/>\n",
              "  </svg>\n",
              "      </button>\n",
              "      \n",
              "  <style>\n",
              "    .colab-df-container {\n",
              "      display:flex;\n",
              "      flex-wrap:wrap;\n",
              "      gap: 12px;\n",
              "    }\n",
              "\n",
              "    .colab-df-convert {\n",
              "      background-color: #E8F0FE;\n",
              "      border: none;\n",
              "      border-radius: 50%;\n",
              "      cursor: pointer;\n",
              "      display: none;\n",
              "      fill: #1967D2;\n",
              "      height: 32px;\n",
              "      padding: 0 0 0 0;\n",
              "      width: 32px;\n",
              "    }\n",
              "\n",
              "    .colab-df-convert:hover {\n",
              "      background-color: #E2EBFA;\n",
              "      box-shadow: 0px 1px 2px rgba(60, 64, 67, 0.3), 0px 1px 3px 1px rgba(60, 64, 67, 0.15);\n",
              "      fill: #174EA6;\n",
              "    }\n",
              "\n",
              "    [theme=dark] .colab-df-convert {\n",
              "      background-color: #3B4455;\n",
              "      fill: #D2E3FC;\n",
              "    }\n",
              "\n",
              "    [theme=dark] .colab-df-convert:hover {\n",
              "      background-color: #434B5C;\n",
              "      box-shadow: 0px 1px 3px 1px rgba(0, 0, 0, 0.15);\n",
              "      filter: drop-shadow(0px 1px 2px rgba(0, 0, 0, 0.3));\n",
              "      fill: #FFFFFF;\n",
              "    }\n",
              "  </style>\n",
              "\n",
              "      <script>\n",
              "        const buttonEl =\n",
              "          document.querySelector('#df-a2d32964-7eb7-4bdf-8086-26bc8247e606 button.colab-df-convert');\n",
              "        buttonEl.style.display =\n",
              "          google.colab.kernel.accessAllowed ? 'block' : 'none';\n",
              "\n",
              "        async function convertToInteractive(key) {\n",
              "          const element = document.querySelector('#df-a2d32964-7eb7-4bdf-8086-26bc8247e606');\n",
              "          const dataTable =\n",
              "            await google.colab.kernel.invokeFunction('convertToInteractive',\n",
              "                                                     [key], {});\n",
              "          if (!dataTable) return;\n",
              "\n",
              "          const docLinkHtml = 'Like what you see? Visit the ' +\n",
              "            '<a target=\"_blank\" href=https://colab.research.google.com/notebooks/data_table.ipynb>data table notebook</a>'\n",
              "            + ' to learn more about interactive tables.';\n",
              "          element.innerHTML = '';\n",
              "          dataTable['output_type'] = 'display_data';\n",
              "          await google.colab.output.renderOutput(dataTable, element);\n",
              "          const docLink = document.createElement('div');\n",
              "          docLink.innerHTML = docLinkHtml;\n",
              "          element.appendChild(docLink);\n",
              "        }\n",
              "      </script>\n",
              "    </div>\n",
              "  </div>\n",
              "  "
            ]
          },
          "metadata": {},
          "execution_count": 10
        }
      ]
    },
    {
      "cell_type": "markdown",
      "source": [
        "## Data Pre-processing\n",
        "We divide the dataframe in two halves, one to train the model and the other to test our model"
      ],
      "metadata": {
        "id": "mn4UVlb37uIH"
      }
    },
    {
      "cell_type": "code",
      "source": [
        "from sklearn.model_selection import train_test_split\n",
        "X_train, X_test, y_train, y_test = train_test_split(df_train_values_subset, df_train_labels.damage_grade,\n",
        "                                                random_state=1)\n"
      ],
      "metadata": {
        "id": "DsPsptzR-hxf"
      },
      "execution_count": 11,
      "outputs": []
    },
    {
      "cell_type": "markdown",
      "source": [
        "# Modeling\n"
      ],
      "metadata": {
        "id": "0sOE0m8vslK-"
      }
    },
    {
      "cell_type": "markdown",
      "source": [
        "**Basics.**\n",
        "\n",
        "1. Use NaiveBayes\n",
        "2. Use knn or Decision Trees (Cross-validation)\n",
        "3. Use Ensembles with hyperparameters optimization\n",
        "\n"
      ],
      "metadata": {
        "id": "jpv4YOm_sn8K"
      }
    },
    {
      "cell_type": "markdown",
      "source": [
        "## PREDICTION USING NAIVEBAYES"
      ],
      "metadata": {
        "id": "l9tK051RC0Oi"
      }
    },
    {
      "cell_type": "code",
      "source": [
        "from sklearn.naive_bayes import ComplementNB # 1. choose model class\n",
        "model = ComplementNB()                       # 2. instantiate model\n",
        "model.fit(X_train, y_train)                  # 3. fit model to data\n",
        "y_model = model.predict(X_test) "
      ],
      "metadata": {
        "id": "tU-xwl_R9wD2"
      },
      "execution_count": 12,
      "outputs": []
    },
    {
      "cell_type": "markdown",
      "source": [
        "**Extension: Use of multinomial naive bayes with GridSearch optimization**"
      ],
      "metadata": {
        "id": "k6Kqi1Sny094"
      }
    },
    {
      "cell_type": "code",
      "source": [
        "from sklearn.naive_bayes import MultinomialNB\n",
        "from sklearn.model_selection import GridSearchCV\n",
        "model = MultinomialNB()\n",
        "param={'alpha': [0.00001, 0.0001, 0.001, 0.1, 1, 10, 100,1000]}\n",
        "clf=GridSearchCV(model,param,scoring=\"f1_micro\",cv=10,return_train_score=True)\n",
        "\n",
        "clf.fit(X_train, y_train)\n",
        "y_model_mn = clf.predict(X_test)"
      ],
      "metadata": {
        "id": "bbUCrKDry7Fp"
      },
      "execution_count": 13,
      "outputs": []
    },
    {
      "cell_type": "markdown",
      "source": [
        "**Preevaluation**"
      ],
      "metadata": {
        "id": "7ukzsDDNs8-z"
      }
    },
    {
      "cell_type": "markdown",
      "source": [
        "The metric for the competitions is $F1-score$, which balances the precision and recall of a classifier. We will use a variant called the micro averaged  $F1-score$."
      ],
      "metadata": {
        "id": "-KU53Vuj5o_9"
      }
    },
    {
      "cell_type": "code",
      "source": [
        "from sklearn.metrics import f1_score\n",
        "nb_score = f1_score(y_test, y_model, average='micro')\n",
        "mn_score = f1_score(y_test, y_model_mn, average='micro')\n",
        "\n",
        "print(f\"Naive Bayes score: {nb_score}\")\n",
        "print(f\"Multinomial score: {mn_score}\")"
      ],
      "metadata": {
        "colab": {
          "base_uri": "https://localhost:8080/"
        },
        "id": "gy0Y5nM_-92A",
        "outputId": "932d427c-112b-48d2-8345-6f2f19031e48"
      },
      "execution_count": 14,
      "outputs": [
        {
          "output_type": "stream",
          "name": "stdout",
          "text": [
            "Naive Bayes score: 0.3357738177464659\n",
            "Multinomial score: 0.39861245414498625\n"
          ]
        }
      ]
    },
    {
      "cell_type": "markdown",
      "source": [
        "We will use the multinomial model for better results"
      ],
      "metadata": {
        "id": "U6mH33meH2FF"
      }
    },
    {
      "cell_type": "code",
      "source": [
        "from sklearn.metrics import classification_report\n",
        "print(classification_report(y_test, y_model_mn, labels=clf.classes_))"
      ],
      "metadata": {
        "id": "gDkivxw5YfDY",
        "outputId": "cf70b6e8-a7e5-4744-a193-157170693d8b",
        "colab": {
          "base_uri": "https://localhost:8080/"
        }
      },
      "execution_count": 15,
      "outputs": [
        {
          "output_type": "stream",
          "name": "stdout",
          "text": [
            "              precision    recall  f1-score   support\n",
            "\n",
            "           1       0.20      0.77      0.31      6238\n",
            "           2       0.60      0.39      0.47     37210\n",
            "           3       0.40      0.31      0.35     21703\n",
            "\n",
            "    accuracy                           0.40     65151\n",
            "   macro avg       0.40      0.49      0.38     65151\n",
            "weighted avg       0.50      0.40      0.42     65151\n",
            "\n"
          ]
        }
      ]
    },
    {
      "cell_type": "code",
      "source": [
        "import matplotlib.pyplot as plt\n",
        "from sklearn.metrics import confusion_matrix, ConfusionMatrixDisplay\n",
        "cm = confusion_matrix(y_test, y_model_mn, labels=clf.classes_)\n",
        "disp = ConfusionMatrixDisplay(confusion_matrix=cm, display_labels=clf.classes_)\n",
        "disp.plot()"
      ],
      "metadata": {
        "colab": {
          "base_uri": "https://localhost:8080/",
          "height": 296
        },
        "id": "xRs-Z7NH-xOX",
        "outputId": "e63398ef-9653-4017-b1a9-80e3d001302b"
      },
      "execution_count": 16,
      "outputs": [
        {
          "output_type": "execute_result",
          "data": {
            "text/plain": [
              "<sklearn.metrics._plot.confusion_matrix.ConfusionMatrixDisplay at 0x7f06f32eabb0>"
            ]
          },
          "metadata": {},
          "execution_count": 16
        },
        {
          "output_type": "display_data",
          "data": {
            "text/plain": [
              "<Figure size 432x288 with 2 Axes>"
            ],
            "image/png": "[encoded data removed]"
          },
          "metadata": {
            "needs_background": "light"
          }
        }
      ]
    },
    {
      "cell_type": "markdown",
      "source": [
        "## Prepare Submission\n",
        "\n"
      ],
      "metadata": {
        "id": "YdCC0kcn_UDx"
      }
    },
    {
      "cell_type": "markdown",
      "source": [
        "For the **final** $F1-micro-average$, we'll be using the class predictions, not the class probabilities. \n",
        "\n",
        "Let's load up the data, select the subset of features we used to train the model and create dummy variables, and see what we get on the leaderboard.\n",
        "\n",
        "\n",
        "\n",
        "\n",
        "\n"
      ],
      "metadata": {
        "id": "k6EJqeor579d"
      }
    },
    {
      "cell_type": "code",
      "source": [
        "!wget https://github.com/alan-flint/Richter-DrivenData/raw/master/input/test_values.csv\n",
        "test_values = pd.read_csv('test_values.csv', index_col='building_id')\n",
        "test_values_subset = test_values[selected_features]\n",
        "test_values_subset['foundation_type'].replace(['h', 'i', 'r', 'u', 'w'], [0, 1, 2, 3, 4], inplace=True)\n",
        "test_values_subset['roof_type'].replace(['n', 'q', 'x'], [0, 1, 2], inplace=True)\n",
        "test_values_subset['ground_floor_type'].replace(['f', 'm', 'v', 'x', 'z'], [0, 1, 2, 3, 4], inplace=True)\n",
        "test_values_subset['position'].replace(['j', 'o', 's', 't'], [0, 1, 2, 3], inplace=True)\n",
        "test_values_subset['plan_configuration'].replace(['a', 'c', 'd', 'f', 'm', 'n', 'o', 'q', 's', 'u'], [0, 1, 2, 3, 4, 5, 6, 7, 8, 9], inplace=True)\n",
        "test_values_subset"
      ],
      "metadata": {
        "id": "VU-JukmG_XjZ",
        "colab": {
          "base_uri": "https://localhost:8080/",
          "height": 884
        },
        "outputId": "780a9240-8f6b-471e-e85a-ed8fdeaebe44"
      },
      "execution_count": 17,
      "outputs": [
        {
          "output_type": "stream",
          "name": "stdout",
          "text": [
            "--2022-12-18 16:11:51--  https://github.com/alan-flint/Richter-DrivenData/raw/master/input/test_values.csv\n",
            "Resolving github.com (github.com)... 20.27.177.113\n",
            "Connecting to github.com (github.com)|20.27.177.113|:443... connected.\n",
            "HTTP request sent, awaiting response... 302 Found\n",
            "Location: https://raw.githubusercontent.com/alan-flint/Richter-DrivenData/master/input/test_values.csv [following]\n",
            "--2022-12-18 16:11:52--  https://raw.githubusercontent.com/alan-flint/Richter-DrivenData/master/input/test_values.csv\n",
            "Resolving raw.githubusercontent.com (raw.githubusercontent.com)... 185.199.110.133, 185.199.109.133, 185.199.108.133, ...\n",
            "Connecting to raw.githubusercontent.com (raw.githubusercontent.com)|185.199.110.133|:443... connected.\n",
            "HTTP request sent, awaiting response... 200 OK\n",
            "Length: 7815385 (7.5M) [text/plain]\n",
            "Saving to: ‘test_values.csv’\n",
            "\n",
            "test_values.csv     100%[===================>]   7.45M  --.-KB/s    in 0.1s    \n",
            "\n",
            "2022-12-18 16:11:53 (59.0 MB/s) - ‘test_values.csv’ saved [7815385/7815385]\n",
            "\n"
          ]
        },
        {
          "output_type": "stream",
          "name": "stderr",
          "text": [
            "/usr/local/lib/python3.8/dist-packages/pandas/core/generic.py:6619: SettingWithCopyWarning: \n",
            "A value is trying to be set on a copy of a slice from a DataFrame\n",
            "\n",
            "See the caveats in the documentation: https://pandas.pydata.org/pandas-docs/stable/user_guide/indexing.html#returning-a-view-versus-a-copy\n",
            "  return self._update_inplace(result)\n"
          ]
        },
        {
          "output_type": "execute_result",
          "data": {
            "text/plain": [
              "             foundation_type  area_percentage  height_percentage  age  \\\n",
              "building_id                                                             \n",
              "300051                     2                7                  6   20   \n",
              "99355                      2               13                  5   25   \n",
              "890251                     2                4                  5    5   \n",
              "745817                     2               19                  3    0   \n",
              "421793                     2                8                  7   15   \n",
              "...                      ...              ...                ...  ...   \n",
              "310028                     2               20                  6   70   \n",
              "663567                     2                6                  7   25   \n",
              "1049160                    2                3                  3   50   \n",
              "442785                     2                9                  5    5   \n",
              "501372                     2               11                  4   10   \n",
              "\n",
              "             geo_level_2_id  geo_level_1_id  roof_type  ground_floor_type  \\\n",
              "building_id                                                                 \n",
              "300051                  596              17          0                  0   \n",
              "99355                   141               6          0                  0   \n",
              "890251                   19              22          0                  0   \n",
              "745817                   39              26          2                  2   \n",
              "421793                  289              17          1                  0   \n",
              "...                     ...             ...        ...                ...   \n",
              "310028                  605               4          1                  0   \n",
              "663567                 1407              10          0                  0   \n",
              "1049160                1136              22          0                  0   \n",
              "442785                 1041               6          0                  0   \n",
              "501372                   36              26          1                  2   \n",
              "\n",
              "             has_secondary_use  position  plan_configuration  \\\n",
              "building_id                                                    \n",
              "300051                       0         2                   2   \n",
              "99355                        1         2                   2   \n",
              "890251                       0         2                   2   \n",
              "745817                       1         3                   2   \n",
              "421793                       0         3                   2   \n",
              "...                        ...       ...                 ...   \n",
              "310028                       1         3                   2   \n",
              "663567                       0         2                   2   \n",
              "1049160                      0         2                   2   \n",
              "442785                       0         2                   2   \n",
              "501372                       0         2                   2   \n",
              "\n",
              "             has_superstructure_mud_mortar_stone  has_superstructure_timber  \\\n",
              "building_id                                                                   \n",
              "300051                                         1                          0   \n",
              "99355                                          1                          0   \n",
              "890251                                         1                          0   \n",
              "745817                                         0                          0   \n",
              "421793                                         1                          0   \n",
              "...                                          ...                        ...   \n",
              "310028                                         1                          1   \n",
              "663567                                         1                          0   \n",
              "1049160                                        1                          1   \n",
              "442785                                         1                          0   \n",
              "501372                                         0                          0   \n",
              "\n",
              "             has_superstructure_bamboo  \n",
              "building_id                             \n",
              "300051                               0  \n",
              "99355                                0  \n",
              "890251                               0  \n",
              "745817                               0  \n",
              "421793                               0  \n",
              "...                                ...  \n",
              "310028                               0  \n",
              "663567                               0  \n",
              "1049160                              0  \n",
              "442785                               0  \n",
              "501372                               0  \n",
              "\n",
              "[86868 rows x 14 columns]"
            ],
            "text/html": [
              "\n",
              "  <div id=\"df-38be23fa-bf5b-4359-bdf6-b6ee716b346f\">\n",
              "    <div class=\"colab-df-container\">\n",
              "      <div>\n",
              "<style scoped>\n",
              "    .dataframe tbody tr th:only-of-type {\n",
              "        vertical-align: middle;\n",
              "    }\n",
              "\n",
              "    .dataframe tbody tr th {\n",
              "        vertical-align: top;\n",
              "    }\n",
              "\n",
              "    .dataframe thead th {\n",
              "        text-align: right;\n",
              "    }\n",
              "</style>\n",
              "<table border=\"1\" class=\"dataframe\">\n",
              "  <thead>\n",
              "    <tr style=\"text-align: right;\">\n",
              "      <th></th>\n",
              "      <th>foundation_type</th>\n",
              "      <th>area_percentage</th>\n",
              "      <th>height_percentage</th>\n",
              "      <th>age</th>\n",
              "      <th>geo_level_2_id</th>\n",
              "      <th>geo_level_1_id</th>\n",
              "      <th>roof_type</th>\n",
              "      <th>ground_floor_type</th>\n",
              "      <th>has_secondary_use</th>\n",
              "      <th>position</th>\n",
              "      <th>plan_configuration</th>\n",
              "      <th>has_superstructure_mud_mortar_stone</th>\n",
              "      <th>has_superstructure_timber</th>\n",
              "      <th>has_superstructure_bamboo</th>\n",
              "    </tr>\n",
              "    <tr>\n",
              "      <th>building_id</th>\n",
              "      <th></th>\n",
              "      <th></th>\n",
              "      <th></th>\n",
              "      <th></th>\n",
              "      <th></th>\n",
              "      <th></th>\n",
              "      <th></th>\n",
              "      <th></th>\n",
              "      <th></th>\n",
              "      <th></th>\n",
              "      <th></th>\n",
              "      <th></th>\n",
              "      <th></th>\n",
              "      <th></th>\n",
              "    </tr>\n",
              "  </thead>\n",
              "  <tbody>\n",
              "    <tr>\n",
              "      <th>300051</th>\n",
              "      <td>2</td>\n",
              "      <td>7</td>\n",
              "      <td>6</td>\n",
              "      <td>20</td>\n",
              "      <td>596</td>\n",
              "      <td>17</td>\n",
              "      <td>0</td>\n",
              "      <td>0</td>\n",
              "      <td>0</td>\n",
              "      <td>2</td>\n",
              "      <td>2</td>\n",
              "      <td>1</td>\n",
              "      <td>0</td>\n",
              "      <td>0</td>\n",
              "    </tr>\n",
              "    <tr>\n",
              "      <th>99355</th>\n",
              "      <td>2</td>\n",
              "      <td>13</td>\n",
              "      <td>5</td>\n",
              "      <td>25</td>\n",
              "      <td>141</td>\n",
              "      <td>6</td>\n",
              "      <td>0</td>\n",
              "      <td>0</td>\n",
              "      <td>1</td>\n",
              "      <td>2</td>\n",
              "      <td>2</td>\n",
              "      <td>1</td>\n",
              "      <td>0</td>\n",
              "      <td>0</td>\n",
              "    </tr>\n",
              "    <tr>\n",
              "      <th>890251</th>\n",
              "      <td>2</td>\n",
              "      <td>4</td>\n",
              "      <td>5</td>\n",
              "      <td>5</td>\n",
              "      <td>19</td>\n",
              "      <td>22</td>\n",
              "      <td>0</td>\n",
              "      <td>0</td>\n",
              "      <td>0</td>\n",
              "      <td>2</td>\n",
              "      <td>2</td>\n",
              "      <td>1</td>\n",
              "      <td>0</td>\n",
              "      <td>0</td>\n",
              "    </tr>\n",
              "    <tr>\n",
              "      <th>745817</th>\n",
              "      <td>2</td>\n",
              "      <td>19</td>\n",
              "      <td>3</td>\n",
              "      <td>0</td>\n",
              "      <td>39</td>\n",
              "      <td>26</td>\n",
              "      <td>2</td>\n",
              "      <td>2</td>\n",
              "      <td>1</td>\n",
              "      <td>3</td>\n",
              "      <td>2</td>\n",
              "      <td>0</td>\n",
              "      <td>0</td>\n",
              "      <td>0</td>\n",
              "    </tr>\n",
              "    <tr>\n",
              "      <th>421793</th>\n",
              "      <td>2</td>\n",
              "      <td>8</td>\n",
              "      <td>7</td>\n",
              "      <td>15</td>\n",
              "      <td>289</td>\n",
              "      <td>17</td>\n",
              "      <td>1</td>\n",
              "      <td>0</td>\n",
              "      <td>0</td>\n",
              "      <td>3</td>\n",
              "      <td>2</td>\n",
              "      <td>1</td>\n",
              "      <td>0</td>\n",
              "      <td>0</td>\n",
              "    </tr>\n",
              "    <tr>\n",
              "      <th>...</th>\n",
              "      <td>...</td>\n",
              "      <td>...</td>\n",
              "      <td>...</td>\n",
              "      <td>...</td>\n",
              "      <td>...</td>\n",
              "      <td>...</td>\n",
              "      <td>...</td>\n",
              "      <td>...</td>\n",
              "      <td>...</td>\n",
              "      <td>...</td>\n",
              "      <td>...</td>\n",
              "      <td>...</td>\n",
              "      <td>...</td>\n",
              "      <td>...</td>\n",
              "    </tr>\n",
              "    <tr>\n",
              "      <th>310028</th>\n",
              "      <td>2</td>\n",
              "      <td>20</td>\n",
              "      <td>6</td>\n",
              "      <td>70</td>\n",
              "      <td>605</td>\n",
              "      <td>4</td>\n",
              "      <td>1</td>\n",
              "      <td>0</td>\n",
              "      <td>1</td>\n",
              "      <td>3</td>\n",
              "      <td>2</td>\n",
              "      <td>1</td>\n",
              "      <td>1</td>\n",
              "      <td>0</td>\n",
              "    </tr>\n",
              "    <tr>\n",
              "      <th>663567</th>\n",
              "      <td>2</td>\n",
              "      <td>6</td>\n",
              "      <td>7</td>\n",
              "      <td>25</td>\n",
              "      <td>1407</td>\n",
              "      <td>10</td>\n",
              "      <td>0</td>\n",
              "      <td>0</td>\n",
              "      <td>0</td>\n",
              "      <td>2</td>\n",
              "      <td>2</td>\n",
              "      <td>1</td>\n",
              "      <td>0</td>\n",
              "      <td>0</td>\n",
              "    </tr>\n",
              "    <tr>\n",
              "      <th>1049160</th>\n",
              "      <td>2</td>\n",
              "      <td>3</td>\n",
              "      <td>3</td>\n",
              "      <td>50</td>\n",
              "      <td>1136</td>\n",
              "      <td>22</td>\n",
              "      <td>0</td>\n",
              "      <td>0</td>\n",
              "      <td>0</td>\n",
              "      <td>2</td>\n",
              "      <td>2</td>\n",
              "      <td>1</td>\n",
              "      <td>1</td>\n",
              "      <td>0</td>\n",
              "    </tr>\n",
              "    <tr>\n",
              "      <th>442785</th>\n",
              "      <td>2</td>\n",
              "      <td>9</td>\n",
              "      <td>5</td>\n",
              "      <td>5</td>\n",
              "      <td>1041</td>\n",
              "      <td>6</td>\n",
              "      <td>0</td>\n",
              "      <td>0</td>\n",
              "      <td>0</td>\n",
              "      <td>2</td>\n",
              "      <td>2</td>\n",
              "      <td>1</td>\n",
              "      <td>0</td>\n",
              "      <td>0</td>\n",
              "    </tr>\n",
              "    <tr>\n",
              "      <th>501372</th>\n",
              "      <td>2</td>\n",
              "      <td>11</td>\n",
              "      <td>4</td>\n",
              "      <td>10</td>\n",
              "      <td>36</td>\n",
              "      <td>26</td>\n",
              "      <td>1</td>\n",
              "      <td>2</td>\n",
              "      <td>0</td>\n",
              "      <td>2</td>\n",
              "      <td>2</td>\n",
              "      <td>0</td>\n",
              "      <td>0</td>\n",
              "      <td>0</td>\n",
              "    </tr>\n",
              "  </tbody>\n",
              "</table>\n",
              "<p>86868 rows × 14 columns</p>\n",
              "</div>\n",
              "      <button class=\"colab-df-convert\" onclick=\"convertToInteractive('df-38be23fa-bf5b-4359-bdf6-b6ee716b346f')\"\n",
              "              title=\"Convert this dataframe to an interactive table.\"\n",
              "              style=\"display:none;\">\n",
              "        \n",
              "  <svg xmlns=\"http://www.w3.org/2000/svg\" height=\"24px\"viewBox=\"0 0 24 24\"\n",
              "       width=\"24px\">\n",
              "    <path d=\"M0 0h24v24H0V0z\" fill=\"none\"/>\n",
              "    <path d=\"M18.56 5.44l.94 2.06.94-2.06 2.06-.94-2.06-.94-.94-2.06-.94 2.06-2.06.94zm-11 1L8.5 8.5l.94-2.06 2.06-.94-2.06-.94L8.5 2.5l-.94 2.06-2.06.94zm10 10l.94 2.06.94-2.06 2.06-.94-2.06-.94-.94-2.06-.94 2.06-2.06.94z\"/><path d=\"M17.41 7.96l-1.37-1.37c-.4-.4-.92-.59-1.43-.59-.52 0-1.04.2-1.43.59L10.3 9.45l-7.72 7.72c-.78.78-.78 2.05 0 2.83L4 21.41c.39.39.9.59 1.41.59.51 0 1.02-.2 1.41-.59l7.78-7.78 2.81-2.81c.8-.78.8-2.07 0-2.86zM5.41 20L4 18.59l7.72-7.72 1.47 1.35L5.41 20z\"/>\n",
              "  </svg>\n",
              "      </button>\n",
              "      \n",
              "  <style>\n",
              "    .colab-df-container {\n",
              "      display:flex;\n",
              "      flex-wrap:wrap;\n",
              "      gap: 12px;\n",
              "    }\n",
              "\n",
              "    .colab-df-convert {\n",
              "      background-color: #E8F0FE;\n",
              "      border: none;\n",
              "      border-radius: 50%;\n",
              "      cursor: pointer;\n",
              "      display: none;\n",
              "      fill: #1967D2;\n",
              "      height: 32px;\n",
              "      padding: 0 0 0 0;\n",
              "      width: 32px;\n",
              "    }\n",
              "\n",
              "    .colab-df-convert:hover {\n",
              "      background-color: #E2EBFA;\n",
              "      box-shadow: 0px 1px 2px rgba(60, 64, 67, 0.3), 0px 1px 3px 1px rgba(60, 64, 67, 0.15);\n",
              "      fill: #174EA6;\n",
              "    }\n",
              "\n",
              "    [theme=dark] .colab-df-convert {\n",
              "      background-color: #3B4455;\n",
              "      fill: #D2E3FC;\n",
              "    }\n",
              "\n",
              "    [theme=dark] .colab-df-convert:hover {\n",
              "      background-color: #434B5C;\n",
              "      box-shadow: 0px 1px 3px 1px rgba(0, 0, 0, 0.15);\n",
              "      filter: drop-shadow(0px 1px 2px rgba(0, 0, 0, 0.3));\n",
              "      fill: #FFFFFF;\n",
              "    }\n",
              "  </style>\n",
              "\n",
              "      <script>\n",
              "        const buttonEl =\n",
              "          document.querySelector('#df-38be23fa-bf5b-4359-bdf6-b6ee716b346f button.colab-df-convert');\n",
              "        buttonEl.style.display =\n",
              "          google.colab.kernel.accessAllowed ? 'block' : 'none';\n",
              "\n",
              "        async function convertToInteractive(key) {\n",
              "          const element = document.querySelector('#df-38be23fa-bf5b-4359-bdf6-b6ee716b346f');\n",
              "          const dataTable =\n",
              "            await google.colab.kernel.invokeFunction('convertToInteractive',\n",
              "                                                     [key], {});\n",
              "          if (!dataTable) return;\n",
              "\n",
              "          const docLinkHtml = 'Like what you see? Visit the ' +\n",
              "            '<a target=\"_blank\" href=https://colab.research.google.com/notebooks/data_table.ipynb>data table notebook</a>'\n",
              "            + ' to learn more about interactive tables.';\n",
              "          element.innerHTML = '';\n",
              "          dataTable['output_type'] = 'display_data';\n",
              "          await google.colab.output.renderOutput(dataTable, element);\n",
              "          const docLink = document.createElement('div');\n",
              "          docLink.innerHTML = docLinkHtml;\n",
              "          element.appendChild(docLink);\n",
              "        }\n",
              "      </script>\n",
              "    </div>\n",
              "  </div>\n",
              "  "
            ]
          },
          "metadata": {},
          "execution_count": 17
        }
      ]
    },
    {
      "cell_type": "markdown",
      "source": [
        "**Make Predictions**: Note that we use the class predictions, not the class probabilities."
      ],
      "metadata": {
        "id": "gtHRCnmT6t6e"
      }
    },
    {
      "cell_type": "code",
      "source": [
        "predictions = clf.predict(test_values_subset)"
      ],
      "metadata": {
        "id": "KrfyULaX_dRU"
      },
      "execution_count": 18,
      "outputs": []
    },
    {
      "cell_type": "code",
      "source": [
        "!wget https://github.com/alan-flint/Richter-DrivenData/raw/master/input/submission_format.csv\n",
        "submission_format = pd.read_csv('submission_format.csv', index_col='building_id')\n",
        "my_submission = pd.DataFrame(data=predictions,\n",
        "                             columns=submission_format.columns,\n",
        "                             index=submission_format.index)\n",
        "my_submission.head()"
      ],
      "metadata": {
        "colab": {
          "base_uri": "https://localhost:8080/",
          "height": 515
        },
        "id": "GCeC_LLyet1T",
        "outputId": "91722720-7ff6-41cf-a409-fb48adaa4529"
      },
      "execution_count": 19,
      "outputs": [
        {
          "output_type": "stream",
          "name": "stdout",
          "text": [
            "--2022-12-18 16:11:53--  https://github.com/alan-flint/Richter-DrivenData/raw/master/input/submission_format.csv\n",
            "Resolving github.com (github.com)... 20.27.177.113\n",
            "Connecting to github.com (github.com)|20.27.177.113|:443... connected.\n",
            "HTTP request sent, awaiting response... 302 Found\n",
            "Location: https://raw.githubusercontent.com/alan-flint/Richter-DrivenData/master/input/submission_format.csv [following]\n",
            "--2022-12-18 16:11:54--  https://raw.githubusercontent.com/alan-flint/Richter-DrivenData/master/input/submission_format.csv\n",
            "Resolving raw.githubusercontent.com (raw.githubusercontent.com)... 185.199.108.133, 185.199.109.133, 185.199.110.133, ...\n",
            "Connecting to raw.githubusercontent.com (raw.githubusercontent.com)|185.199.108.133|:443... connected.\n",
            "HTTP request sent, awaiting response... 200 OK\n",
            "Length: 777012 (759K) [text/plain]\n",
            "Saving to: ‘submission_format.csv’\n",
            "\n",
            "submission_format.c 100%[===================>] 758.80K  --.-KB/s    in 0.05s   \n",
            "\n",
            "2022-12-18 16:11:54 (13.9 MB/s) - ‘submission_format.csv’ saved [777012/777012]\n",
            "\n"
          ]
        },
        {
          "output_type": "execute_result",
          "data": {
            "text/plain": [
              "             damage_grade\n",
              "building_id              \n",
              "300051                  2\n",
              "99355                   2\n",
              "890251                  1\n",
              "745817                  1\n",
              "421793                  1"
            ],
            "text/html": [
              "\n",
              "  <div id=\"df-73042c08-4b88-4416-a575-df0d5d901fd4\">\n",
              "    <div class=\"colab-df-container\">\n",
              "      <div>\n",
              "<style scoped>\n",
              "    .dataframe tbody tr th:only-of-type {\n",
              "        vertical-align: middle;\n",
              "    }\n",
              "\n",
              "    .dataframe tbody tr th {\n",
              "        vertical-align: top;\n",
              "    }\n",
              "\n",
              "    .dataframe thead th {\n",
              "        text-align: right;\n",
              "    }\n",
              "</style>\n",
              "<table border=\"1\" class=\"dataframe\">\n",
              "  <thead>\n",
              "    <tr style=\"text-align: right;\">\n",
              "      <th></th>\n",
              "      <th>damage_grade</th>\n",
              "    </tr>\n",
              "    <tr>\n",
              "      <th>building_id</th>\n",
              "      <th></th>\n",
              "    </tr>\n",
              "  </thead>\n",
              "  <tbody>\n",
              "    <tr>\n",
              "      <th>300051</th>\n",
              "      <td>2</td>\n",
              "    </tr>\n",
              "    <tr>\n",
              "      <th>99355</th>\n",
              "      <td>2</td>\n",
              "    </tr>\n",
              "    <tr>\n",
              "      <th>890251</th>\n",
              "      <td>1</td>\n",
              "    </tr>\n",
              "    <tr>\n",
              "      <th>745817</th>\n",
              "      <td>1</td>\n",
              "    </tr>\n",
              "    <tr>\n",
              "      <th>421793</th>\n",
              "      <td>1</td>\n",
              "    </tr>\n",
              "  </tbody>\n",
              "</table>\n",
              "</div>\n",
              "      <button class=\"colab-df-convert\" onclick=\"convertToInteractive('df-73042c08-4b88-4416-a575-df0d5d901fd4')\"\n",
              "              title=\"Convert this dataframe to an interactive table.\"\n",
              "              style=\"display:none;\">\n",
              "        \n",
              "  <svg xmlns=\"http://www.w3.org/2000/svg\" height=\"24px\"viewBox=\"0 0 24 24\"\n",
              "       width=\"24px\">\n",
              "    <path d=\"M0 0h24v24H0V0z\" fill=\"none\"/>\n",
              "    <path d=\"M18.56 5.44l.94 2.06.94-2.06 2.06-.94-2.06-.94-.94-2.06-.94 2.06-2.06.94zm-11 1L8.5 8.5l.94-2.06 2.06-.94-2.06-.94L8.5 2.5l-.94 2.06-2.06.94zm10 10l.94 2.06.94-2.06 2.06-.94-2.06-.94-.94-2.06-.94 2.06-2.06.94z\"/><path d=\"M17.41 7.96l-1.37-1.37c-.4-.4-.92-.59-1.43-.59-.52 0-1.04.2-1.43.59L10.3 9.45l-7.72 7.72c-.78.78-.78 2.05 0 2.83L4 21.41c.39.39.9.59 1.41.59.51 0 1.02-.2 1.41-.59l7.78-7.78 2.81-2.81c.8-.78.8-2.07 0-2.86zM5.41 20L4 18.59l7.72-7.72 1.47 1.35L5.41 20z\"/>\n",
              "  </svg>\n",
              "      </button>\n",
              "      \n",
              "  <style>\n",
              "    .colab-df-container {\n",
              "      display:flex;\n",
              "      flex-wrap:wrap;\n",
              "      gap: 12px;\n",
              "    }\n",
              "\n",
              "    .colab-df-convert {\n",
              "      background-color: #E8F0FE;\n",
              "      border: none;\n",
              "      border-radius: 50%;\n",
              "      cursor: pointer;\n",
              "      display: none;\n",
              "      fill: #1967D2;\n",
              "      height: 32px;\n",
              "      padding: 0 0 0 0;\n",
              "      width: 32px;\n",
              "    }\n",
              "\n",
              "    .colab-df-convert:hover {\n",
              "      background-color: #E2EBFA;\n",
              "      box-shadow: 0px 1px 2px rgba(60, 64, 67, 0.3), 0px 1px 3px 1px rgba(60, 64, 67, 0.15);\n",
              "      fill: #174EA6;\n",
              "    }\n",
              "\n",
              "    [theme=dark] .colab-df-convert {\n",
              "      background-color: #3B4455;\n",
              "      fill: #D2E3FC;\n",
              "    }\n",
              "\n",
              "    [theme=dark] .colab-df-convert:hover {\n",
              "      background-color: #434B5C;\n",
              "      box-shadow: 0px 1px 3px 1px rgba(0, 0, 0, 0.15);\n",
              "      filter: drop-shadow(0px 1px 2px rgba(0, 0, 0, 0.3));\n",
              "      fill: #FFFFFF;\n",
              "    }\n",
              "  </style>\n",
              "\n",
              "      <script>\n",
              "        const buttonEl =\n",
              "          document.querySelector('#df-73042c08-4b88-4416-a575-df0d5d901fd4 button.colab-df-convert');\n",
              "        buttonEl.style.display =\n",
              "          google.colab.kernel.accessAllowed ? 'block' : 'none';\n",
              "\n",
              "        async function convertToInteractive(key) {\n",
              "          const element = document.querySelector('#df-73042c08-4b88-4416-a575-df0d5d901fd4');\n",
              "          const dataTable =\n",
              "            await google.colab.kernel.invokeFunction('convertToInteractive',\n",
              "                                                     [key], {});\n",
              "          if (!dataTable) return;\n",
              "\n",
              "          const docLinkHtml = 'Like what you see? Visit the ' +\n",
              "            '<a target=\"_blank\" href=https://colab.research.google.com/notebooks/data_table.ipynb>data table notebook</a>'\n",
              "            + ' to learn more about interactive tables.';\n",
              "          element.innerHTML = '';\n",
              "          dataTable['output_type'] = 'display_data';\n",
              "          await google.colab.output.renderOutput(dataTable, element);\n",
              "          const docLink = document.createElement('div');\n",
              "          docLink.innerHTML = docLinkHtml;\n",
              "          element.appendChild(docLink);\n",
              "        }\n",
              "      </script>\n",
              "    </div>\n",
              "  </div>\n",
              "  "
            ]
          },
          "metadata": {},
          "execution_count": 19
        }
      ]
    },
    {
      "cell_type": "code",
      "source": [
        "my_submission.to_csv('submissionNB.csv')"
      ],
      "metadata": {
        "id": "NhxhfQ49e1gc"
      },
      "execution_count": 20,
      "outputs": []
    },
    {
      "cell_type": "markdown",
      "source": [
        "**Save Submission**\n",
        "\n",
        "We can use the column name and index from the submission format to ensure our predictions are in the form."
      ],
      "metadata": {
        "id": "hI_JwyAY6TjI"
      }
    },
    {
      "cell_type": "markdown",
      "source": [
        "## KNN"
      ],
      "metadata": {
        "id": "jRtUo3pzzBJV"
      }
    },
    {
      "cell_type": "markdown",
      "source": [
        "**Basic prediction**"
      ],
      "metadata": {
        "id": "N2b1S3fxejfO"
      }
    },
    {
      "cell_type": "markdown",
      "source": [
        "We will look for the K points closest to a specific point in order to infer its value.\n",
        "\n",
        "We load all the necessary libraries. In addition to the KNeighborsClassifier class, to use the KNN algorithm for classification problems.\n",
        "\n",
        "We will use 3 neighbors with the rest of the parameters as default"
      ],
      "metadata": {
        "id": "iyvk5KAR3whE"
      }
    },
    {
      "cell_type": "code",
      "source": [
        "import sklearn\n",
        "from sklearn.model_selection import KFold\n",
        "from sklearn.neighbors import KNeighborsClassifier\n",
        "\n",
        "knn = KNeighborsClassifier (n_neighbors=3)\n",
        "x = df_train_values_subset\n",
        "y = df_train_labels.damage_grade\n",
        "knn.fit(X_train,y_train)\n",
        "basic_prediction = knn.predict(X_test)"
      ],
      "metadata": {
        "id": "YDoXvZ-BewEk"
      },
      "execution_count": 73,
      "outputs": []
    },
    {
      "cell_type": "markdown",
      "source": [
        "**GridSearchCV prediction**"
      ],
      "metadata": {
        "id": "JhX9FLc2HZbe"
      }
    },
    {
      "cell_type": "markdown",
      "source": [
        "We use GridSearch with 3 folds and testing a set of neighbours with uniform and distance weights"
      ],
      "metadata": {
        "id": "VaU7_0MdFAfR"
      }
    },
    {
      "cell_type": "code",
      "source": [
        "from sklearn.model_selection import GridSearchCV\n",
        "from sklearn.neighbors import KNeighborsClassifier\n",
        "grid_params = {\n",
        "    'n_neighbors' : [3,5,11,19],\n",
        "    'weights': ['uniform', 'distance'],\n",
        "}\n",
        "\n",
        "gs = GridSearchCV(KNeighborsClassifier(), grid_params, cv=3, scoring=\"f1_micro\")\n",
        "\n",
        "gs.fit(X_train, y_train)"
      ],
      "metadata": {
        "colab": {
          "base_uri": "https://localhost:8080/"
        },
        "id": "c7WyVZZh_arj",
        "outputId": "6355fd91-680a-44c0-dec0-bd042d6baf6d"
      },
      "execution_count": 45,
      "outputs": [
        {
          "output_type": "execute_result",
          "data": {
            "text/plain": [
              "GridSearchCV(cv=3, estimator=KNeighborsClassifier(),\n",
              "             param_grid={'n_neighbors': [3, 5, 11, 19],\n",
              "                         'weights': ['uniform', 'distance']},\n",
              "             scoring='f1_micro')"
            ]
          },
          "metadata": {},
          "execution_count": 45
        }
      ]
    },
    {
      "cell_type": "markdown",
      "source": [
        "Then the class of the point for which we have no label is predicted."
      ],
      "metadata": {
        "id": "Q7DG1wgK4fZd"
      }
    },
    {
      "cell_type": "code",
      "source": [
        "prediction = gs.predict(X_test)"
      ],
      "metadata": {
        "id": "t5cQQQGz1Wo5"
      },
      "execution_count": 46,
      "outputs": []
    },
    {
      "cell_type": "markdown",
      "source": [
        "Final Visualization"
      ],
      "metadata": {
        "id": "lGf5eJkK82J7"
      }
    },
    {
      "cell_type": "code",
      "source": [
        "# Confusion Matrix\n",
        "import seaborn as sns\n",
        "from sklearn.metrics import confusion_matrix, ConfusionMatrixDisplay\n",
        "cm = confusion_matrix(y_true=y_test, y_pred=prediction)\n",
        "\n",
        "sns.heatmap(cm,annot=True, linewidths=0.5)\n",
        "plt.xlabel(\"y_pred\")\n",
        "plt.ylabel(\"y_true\")\n",
        "plt.show()"
      ],
      "metadata": {
        "colab": {
          "base_uri": "https://localhost:8080/",
          "height": 280
        },
        "id": "gII_k3nq1m4K",
        "outputId": "8515fd4b-4319-4179-8a4c-1493ff7083c8"
      },
      "execution_count": 47,
      "outputs": [
        {
          "output_type": "display_data",
          "data": {
            "text/plain": [
              "<Figure size 432x288 with 2 Axes>"
            ],
            "image/png": "[encoded data removed]"
          },
          "metadata": {
            "needs_background": "light"
          }
        }
      ]
    },
    {
      "cell_type": "code",
      "source": [
        "# Importing accuracy score\n",
        "from sklearn.metrics import f1_score\n",
        "grid_pred_acc = f1_score(y_test, prediction, average='micro')\n",
        "basic_pred_acc = f1_score(y_test, basic_prediction, average='micro')\n",
        "\n",
        "print(f\"Basic prediciton (default hyperparameters) and 3 neighbors: {basic_pred_acc}\")\n",
        "print(f\"Prediciton using GridSearchCV: {grid_pred_acc}\")"
      ],
      "metadata": {
        "colab": {
          "base_uri": "https://localhost:8080/"
        },
        "id": "fFcV_msJ7mHN",
        "outputId": "f8f21a61-c17c-4ba1-b6cb-fb13d1dda79f"
      },
      "execution_count": 74,
      "outputs": [
        {
          "output_type": "stream",
          "name": "stdout",
          "text": [
            "Basic prediciton (default hyperparameters) and 3 neighbors: 0.6627987291062302\n",
            "Prediciton using GridSearchCV: 0.6878789274147749\n"
          ]
        }
      ]
    },
    {
      "cell_type": "code",
      "source": [
        "# Finding the whole report\n",
        "from sklearn.metrics import classification_report\n",
        "print(classification_report(y_test,prediction))"
      ],
      "metadata": {
        "colab": {
          "base_uri": "https://localhost:8080/"
        },
        "id": "Ni6_V8Z15Scz",
        "outputId": "d8a89c2c-9a85-4ad0-eaa0-c6c81918a8d4"
      },
      "execution_count": 49,
      "outputs": [
        {
          "output_type": "stream",
          "name": "stdout",
          "text": [
            "              precision    recall  f1-score   support\n",
            "\n",
            "           1       0.58      0.41      0.48      6238\n",
            "           2       0.71      0.80      0.75     37210\n",
            "           3       0.67      0.58      0.62     21703\n",
            "\n",
            "    accuracy                           0.69     65151\n",
            "   macro avg       0.65      0.60      0.62     65151\n",
            "weighted avg       0.68      0.69      0.68     65151\n",
            "\n"
          ]
        }
      ]
    },
    {
      "cell_type": "markdown",
      "source": [
        "Now using the whole dataset to see the difference"
      ],
      "metadata": {
        "id": "fs9lBw1HNutO"
      }
    },
    {
      "cell_type": "code",
      "source": [
        "predictions = gs.predict(test_values_subset)"
      ],
      "metadata": {
        "id": "avQrXFbSNy0P"
      },
      "execution_count": 50,
      "outputs": []
    },
    {
      "cell_type": "markdown",
      "source": [
        "Now we finish by saving the results"
      ],
      "metadata": {
        "id": "yjrMaFQsKdhZ"
      }
    },
    {
      "cell_type": "code",
      "source": [
        "!wget https://github.com/alan-flint/Richter-DrivenData/raw/master/input/submission_format.csv\n",
        "submission_format = pd.read_csv('submission_format.csv', index_col='building_id')\n",
        "my_submission = pd.DataFrame(data=predictions,\n",
        "                             columns=submission_format.columns,\n",
        "                             index=submission_format.index)\n",
        "\n",
        "my_submission.to_csv('submissionKNN.csv')\n",
        "my_submission.head()"
      ],
      "metadata": {
        "colab": {
          "base_uri": "https://localhost:8080/",
          "height": 515
        },
        "id": "UlLO_qaaKgHS",
        "outputId": "b6c8dd0c-c386-4e73-ffb5-34466b31c543"
      },
      "execution_count": 51,
      "outputs": [
        {
          "output_type": "stream",
          "name": "stdout",
          "text": [
            "--2022-12-18 17:02:00--  https://github.com/alan-flint/Richter-DrivenData/raw/master/input/submission_format.csv\n",
            "Resolving github.com (github.com)... 20.27.177.113\n",
            "Connecting to github.com (github.com)|20.27.177.113|:443... connected.\n",
            "HTTP request sent, awaiting response... 302 Found\n",
            "Location: https://raw.githubusercontent.com/alan-flint/Richter-DrivenData/master/input/submission_format.csv [following]\n",
            "--2022-12-18 17:02:00--  https://raw.githubusercontent.com/alan-flint/Richter-DrivenData/master/input/submission_format.csv\n",
            "Resolving raw.githubusercontent.com (raw.githubusercontent.com)... 185.199.108.133, 185.199.109.133, 185.199.110.133, ...\n",
            "Connecting to raw.githubusercontent.com (raw.githubusercontent.com)|185.199.108.133|:443... connected.\n",
            "HTTP request sent, awaiting response... 200 OK\n",
            "Length: 777012 (759K) [text/plain]\n",
            "Saving to: ‘submission_format.csv.2’\n",
            "\n",
            "submission_format.c 100%[===================>] 758.80K  --.-KB/s    in 0.05s   \n",
            "\n",
            "2022-12-18 17:02:01 (13.9 MB/s) - ‘submission_format.csv.2’ saved [777012/777012]\n",
            "\n"
          ]
        },
        {
          "output_type": "execute_result",
          "data": {
            "text/plain": [
              "             damage_grade\n",
              "building_id              \n",
              "300051                  3\n",
              "99355                   3\n",
              "890251                  2\n",
              "745817                  1\n",
              "421793                  3"
            ],
            "text/html": [
              "\n",
              "  <div id=\"df-8b6cda11-bb91-4e2f-a848-aedcfd063104\">\n",
              "    <div class=\"colab-df-container\">\n",
              "      <div>\n",
              "<style scoped>\n",
              "    .dataframe tbody tr th:only-of-type {\n",
              "        vertical-align: middle;\n",
              "    }\n",
              "\n",
              "    .dataframe tbody tr th {\n",
              "        vertical-align: top;\n",
              "    }\n",
              "\n",
              "    .dataframe thead th {\n",
              "        text-align: right;\n",
              "    }\n",
              "</style>\n",
              "<table border=\"1\" class=\"dataframe\">\n",
              "  <thead>\n",
              "    <tr style=\"text-align: right;\">\n",
              "      <th></th>\n",
              "      <th>damage_grade</th>\n",
              "    </tr>\n",
              "    <tr>\n",
              "      <th>building_id</th>\n",
              "      <th></th>\n",
              "    </tr>\n",
              "  </thead>\n",
              "  <tbody>\n",
              "    <tr>\n",
              "      <th>300051</th>\n",
              "      <td>3</td>\n",
              "    </tr>\n",
              "    <tr>\n",
              "      <th>99355</th>\n",
              "      <td>3</td>\n",
              "    </tr>\n",
              "    <tr>\n",
              "      <th>890251</th>\n",
              "      <td>2</td>\n",
              "    </tr>\n",
              "    <tr>\n",
              "      <th>745817</th>\n",
              "      <td>1</td>\n",
              "    </tr>\n",
              "    <tr>\n",
              "      <th>421793</th>\n",
              "      <td>3</td>\n",
              "    </tr>\n",
              "  </tbody>\n",
              "</table>\n",
              "</div>\n",
              "      <button class=\"colab-df-convert\" onclick=\"convertToInteractive('df-8b6cda11-bb91-4e2f-a848-aedcfd063104')\"\n",
              "              title=\"Convert this dataframe to an interactive table.\"\n",
              "              style=\"display:none;\">\n",
              "        \n",
              "  <svg xmlns=\"http://www.w3.org/2000/svg\" height=\"24px\"viewBox=\"0 0 24 24\"\n",
              "       width=\"24px\">\n",
              "    <path d=\"M0 0h24v24H0V0z\" fill=\"none\"/>\n",
              "    <path d=\"M18.56 5.44l.94 2.06.94-2.06 2.06-.94-2.06-.94-.94-2.06-.94 2.06-2.06.94zm-11 1L8.5 8.5l.94-2.06 2.06-.94-2.06-.94L8.5 2.5l-.94 2.06-2.06.94zm10 10l.94 2.06.94-2.06 2.06-.94-2.06-.94-.94-2.06-.94 2.06-2.06.94z\"/><path d=\"M17.41 7.96l-1.37-1.37c-.4-.4-.92-.59-1.43-.59-.52 0-1.04.2-1.43.59L10.3 9.45l-7.72 7.72c-.78.78-.78 2.05 0 2.83L4 21.41c.39.39.9.59 1.41.59.51 0 1.02-.2 1.41-.59l7.78-7.78 2.81-2.81c.8-.78.8-2.07 0-2.86zM5.41 20L4 18.59l7.72-7.72 1.47 1.35L5.41 20z\"/>\n",
              "  </svg>\n",
              "      </button>\n",
              "      \n",
              "  <style>\n",
              "    .colab-df-container {\n",
              "      display:flex;\n",
              "      flex-wrap:wrap;\n",
              "      gap: 12px;\n",
              "    }\n",
              "\n",
              "    .colab-df-convert {\n",
              "      background-color: #E8F0FE;\n",
              "      border: none;\n",
              "      border-radius: 50%;\n",
              "      cursor: pointer;\n",
              "      display: none;\n",
              "      fill: #1967D2;\n",
              "      height: 32px;\n",
              "      padding: 0 0 0 0;\n",
              "      width: 32px;\n",
              "    }\n",
              "\n",
              "    .colab-df-convert:hover {\n",
              "      background-color: #E2EBFA;\n",
              "      box-shadow: 0px 1px 2px rgba(60, 64, 67, 0.3), 0px 1px 3px 1px rgba(60, 64, 67, 0.15);\n",
              "      fill: #174EA6;\n",
              "    }\n",
              "\n",
              "    [theme=dark] .colab-df-convert {\n",
              "      background-color: #3B4455;\n",
              "      fill: #D2E3FC;\n",
              "    }\n",
              "\n",
              "    [theme=dark] .colab-df-convert:hover {\n",
              "      background-color: #434B5C;\n",
              "      box-shadow: 0px 1px 3px 1px rgba(0, 0, 0, 0.15);\n",
              "      filter: drop-shadow(0px 1px 2px rgba(0, 0, 0, 0.3));\n",
              "      fill: #FFFFFF;\n",
              "    }\n",
              "  </style>\n",
              "\n",
              "      <script>\n",
              "        const buttonEl =\n",
              "          document.querySelector('#df-8b6cda11-bb91-4e2f-a848-aedcfd063104 button.colab-df-convert');\n",
              "        buttonEl.style.display =\n",
              "          google.colab.kernel.accessAllowed ? 'block' : 'none';\n",
              "\n",
              "        async function convertToInteractive(key) {\n",
              "          const element = document.querySelector('#df-8b6cda11-bb91-4e2f-a848-aedcfd063104');\n",
              "          const dataTable =\n",
              "            await google.colab.kernel.invokeFunction('convertToInteractive',\n",
              "                                                     [key], {});\n",
              "          if (!dataTable) return;\n",
              "\n",
              "          const docLinkHtml = 'Like what you see? Visit the ' +\n",
              "            '<a target=\"_blank\" href=https://colab.research.google.com/notebooks/data_table.ipynb>data table notebook</a>'\n",
              "            + ' to learn more about interactive tables.';\n",
              "          element.innerHTML = '';\n",
              "          dataTable['output_type'] = 'display_data';\n",
              "          await google.colab.output.renderOutput(dataTable, element);\n",
              "          const docLink = document.createElement('div');\n",
              "          docLink.innerHTML = docLinkHtml;\n",
              "          element.appendChild(docLink);\n",
              "        }\n",
              "      </script>\n",
              "    </div>\n",
              "  </div>\n",
              "  "
            ]
          },
          "metadata": {},
          "execution_count": 51
        }
      ]
    },
    {
      "cell_type": "markdown",
      "source": [
        "## PREDICTION WITH DECISION TREES"
      ],
      "metadata": {
        "id": "qElsfxIADC9Z"
      }
    },
    {
      "cell_type": "code",
      "source": [
        "import sklearn\n",
        "from sklearn import tree\n",
        "from sklearn.tree import DecisionTreeClassifier"
      ],
      "metadata": {
        "id": "cdeVx08xoHFc"
      },
      "execution_count": 70,
      "outputs": []
    },
    {
      "cell_type": "markdown",
      "source": [
        "**Basic prediction**"
      ],
      "metadata": {
        "id": "Ewj8_sj2c9OB"
      }
    },
    {
      "cell_type": "markdown",
      "source": [
        "We create our tree object using the default constructor first"
      ],
      "metadata": {
        "id": "uPxp8dF6eFcO"
      }
    },
    {
      "cell_type": "code",
      "source": [
        "dtree = DecisionTreeClassifier().fit(X_train, y_train)\n",
        "basic_pred = dtree.predict(X_test)"
      ],
      "metadata": {
        "id": "fzBlwtolc_Ji"
      },
      "execution_count": 71,
      "outputs": []
    },
    {
      "cell_type": "markdown",
      "source": [
        "**GridSearchCV**"
      ],
      "metadata": {
        "id": "ae-K2EuLeJ-K"
      }
    },
    {
      "cell_type": "markdown",
      "source": [
        "For better results, we will use GridSearch for optimization of the hyperparameters"
      ],
      "metadata": {
        "id": "sBDiQ4JEeMGU"
      }
    },
    {
      "cell_type": "code",
      "source": [
        "from sklearn.tree import DecisionTreeClassifier\n",
        "from sklearn.model_selection import GridSearchCV\n",
        "\n",
        "param_dict = {\n",
        "    \"criterion\":[\"gini\", \"entropy\"],\n",
        "    \"max_depth\":range(1,10),\n",
        "    \"min_samples_split\":range(2,10),\n",
        "    \"min_samples_leaf\":range(1,5)\n",
        "}\n",
        "\n",
        "dtree = GridSearchCV(DecisionTreeClassifier(), param_dict, verbose=1, cv=3, scoring=\"f1_micro\")\n",
        "\n",
        "dtree.fit(X_train, y_train)"
      ],
      "metadata": {
        "id": "Tt-vHgDIpoAq",
        "colab": {
          "base_uri": "https://localhost:8080/"
        },
        "outputId": "741c5f65-ab96-49ae-a93a-ab54afe7ced0"
      },
      "execution_count": 64,
      "outputs": [
        {
          "output_type": "stream",
          "name": "stdout",
          "text": [
            "Fitting 3 folds for each of 576 candidates, totalling 1728 fits\n"
          ]
        },
        {
          "output_type": "execute_result",
          "data": {
            "text/plain": [
              "GridSearchCV(cv=3, estimator=DecisionTreeClassifier(),\n",
              "             param_grid={'criterion': ['gini', 'entropy'],\n",
              "                         'max_depth': range(1, 10),\n",
              "                         'min_samples_leaf': range(1, 5),\n",
              "                         'min_samples_split': range(2, 10)},\n",
              "             verbose=1)"
            ]
          },
          "metadata": {},
          "execution_count": 64
        }
      ]
    },
    {
      "cell_type": "markdown",
      "source": [
        "Now we can try our trained tree with a test"
      ],
      "metadata": {
        "id": "5r7DS1T9Fxx0"
      }
    },
    {
      "cell_type": "code",
      "source": [
        "preds_train = dtree.predict(X_test)"
      ],
      "metadata": {
        "id": "PAY6KCBrxch3"
      },
      "execution_count": 65,
      "outputs": []
    },
    {
      "cell_type": "markdown",
      "source": [
        "Once predicted we see the results and the f1-score"
      ],
      "metadata": {
        "id": "cAJ82b2AIqo4"
      }
    },
    {
      "cell_type": "code",
      "source": [
        "from sklearn.metrics import classification_report\n",
        "print(\"Metrics \\n\" \n",
        "      +classification_report(y_true=y_test, y_pred=preds_train))\n",
        "\n",
        "# Confussion Matrix\n",
        "print(\"Confussion Matrix:\\n\")\n",
        "matriz = pd.crosstab(y_test, preds_train, rownames=['actual'], colnames=['preds'])\n",
        "print(matriz)\n"
      ],
      "metadata": {
        "colab": {
          "base_uri": "https://localhost:8080/"
        },
        "id": "HXDsm-YOxv1H",
        "outputId": "abe4c667-a335-47af-a3a0-b5f7566cbffa"
      },
      "execution_count": 66,
      "outputs": [
        {
          "output_type": "stream",
          "name": "stdout",
          "text": [
            "Metrics \n",
            "              precision    recall  f1-score   support\n",
            "\n",
            "           1       0.63      0.35      0.45      6238\n",
            "           2       0.69      0.83      0.75     37210\n",
            "           3       0.69      0.54      0.61     21703\n",
            "\n",
            "    accuracy                           0.69     65151\n",
            "   macro avg       0.67      0.57      0.60     65151\n",
            "weighted avg       0.68      0.69      0.67     65151\n",
            "\n",
            "Confussion Matrix:\n",
            "\n",
            "preds      1      2      3\n",
            "actual                    \n",
            "1       2184   3953    101\n",
            "2       1198  30714   5298\n",
            "3         94   9842  11767\n"
          ]
        }
      ]
    },
    {
      "cell_type": "code",
      "source": [
        "import matplotlib.pyplot as plt\n",
        "from sklearn.metrics import confusion_matrix, ConfusionMatrixDisplay\n",
        "cm = confusion_matrix(y_test, preds_train, labels=dtree.classes_)\n",
        "disp = ConfusionMatrixDisplay(confusion_matrix=cm, display_labels=dtree.classes_)\n",
        "disp.plot()"
      ],
      "metadata": {
        "colab": {
          "base_uri": "https://localhost:8080/",
          "height": 296
        },
        "id": "zfLFOgKXITK-",
        "outputId": "ce612e7e-9b59-4cc6-d7ae-88794549e5c2"
      },
      "execution_count": 67,
      "outputs": [
        {
          "output_type": "execute_result",
          "data": {
            "text/plain": [
              "<sklearn.metrics._plot.confusion_matrix.ConfusionMatrixDisplay at 0x7f06f123e3d0>"
            ]
          },
          "metadata": {},
          "execution_count": 67
        },
        {
          "output_type": "display_data",
          "data": {
            "text/plain": [
              "<Figure size 432x288 with 2 Axes>"
            ],
            "image/png": "[encoded data removed]"
          },
          "metadata": {
            "needs_background": "light"
          }
        }
      ]
    },
    {
      "cell_type": "code",
      "source": [
        "from sklearn.metrics import f1_score\n",
        "grid_pred_acc = f1_score(y_test, preds_train, average='micro')\n",
        "basic_pred_acc = f1_score(y_test, basic_pred, average='micro')\n",
        "\n",
        "print(f\"Basic prediciton (default hyperparameters): {basic_pred_acc}\")\n",
        "print(f\"Prediciton using GridSearchCV: {grid_pred_acc}\")"
      ],
      "metadata": {
        "colab": {
          "base_uri": "https://localhost:8080/"
        },
        "id": "ycQV7xpQLyI8",
        "outputId": "6840a474-d054-4705-90e9-6327392a2f8e"
      },
      "execution_count": 72,
      "outputs": [
        {
          "output_type": "stream",
          "name": "stdout",
          "text": [
            "Basic prediciton (default hyperparameters): 0.6475572132430815\n",
            "Prediciton using GridSearchCV: 0.6855612346702277\n"
          ]
        }
      ]
    },
    {
      "cell_type": "markdown",
      "source": [
        "We can train the tree with the complete dataframe and see that the results are much better"
      ],
      "metadata": {
        "id": "YQFE--IEF9iT"
      }
    },
    {
      "cell_type": "code",
      "source": [
        "x = df_train_values_subset\n",
        "y = df_train_labels.damage_grade\n",
        "\n",
        "preds = dtree.predict(x)\n",
        "\n",
        "from sklearn.metrics import classification_report\n",
        "print(\"Metrics \\n\" \n",
        "      +classification_report(y_true=y, y_pred=preds))\n",
        "\n",
        "# Confussion Matrix\n",
        "print(\"Confussion Matrix:\\n\")\n",
        "matriz = pd.crosstab(y, preds, rownames=['actual'], colnames=['preds'])\n",
        "print(matriz)"
      ],
      "metadata": {
        "colab": {
          "base_uri": "https://localhost:8080/"
        },
        "id": "VszStLU_7T2s",
        "outputId": "7ad1f370-a43e-44d0-cdb4-d597de66510f"
      },
      "execution_count": null,
      "outputs": [
        {
          "output_type": "stream",
          "name": "stdout",
          "text": [
            "Metrics \n",
            "              precision    recall  f1-score   support\n",
            "\n",
            "           1       0.80      0.86      0.83     25124\n",
            "           2       0.89      0.91      0.90    148259\n",
            "           3       0.88      0.83      0.86     87218\n",
            "\n",
            "    accuracy                           0.88    260601\n",
            "   macro avg       0.86      0.87      0.86    260601\n",
            "weighted avg       0.88      0.88      0.88    260601\n",
            "\n",
            "Confussion Matrix:\n",
            "\n",
            "preds       1       2      3\n",
            "actual                      \n",
            "1       21595    3062    467\n",
            "2        4561  134538   9160\n",
            "3         733   13838  72647\n",
            "                                Feature  Importance\n",
            "0                       foundation_type    0.023564\n",
            "1                       area_percentage    0.169056\n",
            "2                     height_percentage    0.105107\n",
            "3                                   age    0.163803\n",
            "4                        geo_level_2_id    0.178264\n",
            "5                        geo_level_1_id    0.172165\n",
            "6                             roof_type    0.028138\n",
            "7                     ground_floor_type    0.023030\n",
            "8                     has_secondary_use    0.018658\n",
            "9                              position    0.041368\n",
            "10                   plan_configuration    0.013899\n",
            "11  has_superstructure_mud_mortar_stone    0.031625\n",
            "12            has_superstructure_timber    0.020803\n",
            "13            has_superstructure_bamboo    0.010519 \n",
            "\n"
          ]
        }
      ]
    },
    {
      "cell_type": "markdown",
      "source": [
        "We export our subset of predictions"
      ],
      "metadata": {
        "id": "zXP7chDbIhax"
      }
    },
    {
      "cell_type": "code",
      "source": [
        "preds = dtree.predict(test_values_subset)\n",
        "!wget https://github.com/alan-flint/Richter-DrivenData/raw/master/input/submission_format.csv\n",
        "submission_format = pd.read_csv('submission_format.csv', index_col='building_id')\n",
        "my_submission = pd.DataFrame(data=preds,\n",
        "                             columns=submission_format.columns,\n",
        "                             index=submission_format.index)\n",
        "my_submission.to_csv('submissionDT.csv')"
      ],
      "metadata": {
        "colab": {
          "base_uri": "https://localhost:8080/"
        },
        "id": "vlQMyl6EGJ23",
        "outputId": "9b0675c1-b133-4b1a-ea82-9b1e68b57010"
      },
      "execution_count": 63,
      "outputs": [
        {
          "output_type": "stream",
          "name": "stdout",
          "text": [
            "--2022-12-18 17:49:50--  https://github.com/alan-flint/Richter-DrivenData/raw/master/input/submission_format.csv\n",
            "Resolving github.com (github.com)... 20.27.177.113\n",
            "Connecting to github.com (github.com)|20.27.177.113|:443... connected.\n",
            "HTTP request sent, awaiting response... 302 Found\n",
            "Location: https://raw.githubusercontent.com/alan-flint/Richter-DrivenData/master/input/submission_format.csv [following]\n",
            "--2022-12-18 17:49:51--  https://raw.githubusercontent.com/alan-flint/Richter-DrivenData/master/input/submission_format.csv\n",
            "Resolving raw.githubusercontent.com (raw.githubusercontent.com)... 185.199.110.133, 185.199.109.133, 185.199.111.133, ...\n",
            "Connecting to raw.githubusercontent.com (raw.githubusercontent.com)|185.199.110.133|:443... connected.\n",
            "HTTP request sent, awaiting response... 200 OK\n",
            "Length: 777012 (759K) [text/plain]\n",
            "Saving to: ‘submission_format.csv.3’\n",
            "\n",
            "submission_format.c 100%[===================>] 758.80K  --.-KB/s    in 0.07s   \n",
            "\n",
            "2022-12-18 17:49:51 (10.3 MB/s) - ‘submission_format.csv.3’ saved [777012/777012]\n",
            "\n"
          ]
        }
      ]
    },
    {
      "cell_type": "markdown",
      "source": [
        "## FOREST TREE CLASSIFIER\n",
        "It is very similar to a single tree classifier but now we have more instances so we can compare them and get a better result"
      ],
      "metadata": {
        "id": "Tw1aPsAdxdCp"
      }
    },
    {
      "cell_type": "markdown",
      "source": [
        "**Basic prediction**"
      ],
      "metadata": {
        "id": "JCEdl1MAoSd1"
      }
    },
    {
      "cell_type": "code",
      "source": [
        "from sklearn.ensemble import RandomForestClassifier\n",
        "\n",
        "RFmodel = RandomForestClassifier(n_estimators=100, random_state=0)\n",
        "RFmodel.fit(X_train, y_train)\n",
        "basic_pred = RFmodel.predict(X_test)"
      ],
      "metadata": {
        "id": "XoLw_gdahLMQ"
      },
      "execution_count": 91,
      "outputs": []
    },
    {
      "cell_type": "markdown",
      "source": [
        "**Grid Search**"
      ],
      "metadata": {
        "id": "2hRMExZ5oz0o"
      }
    },
    {
      "cell_type": "code",
      "source": [
        "from sklearn.model_selection import GridSearchCV\n",
        "from scipy.stats import randint as sp_randint\n",
        "\n",
        "params = { \"max_features\": ['sqrt'], # Number of features to consider at every split\n",
        "            \"max_depth\": range(1,4), # Maximum number of levels in tree\n",
        "            \"min_samples_split\":range(2,8), #  Minimum number of samples required to split a node\n",
        "            \"min_samples_leaf\":range(1,4), # Minimum number of samples required at each leaf node\n",
        "}\n",
        "\n",
        "rm_gs = GridSearchCV(RandomForestClassifier(), params, cv=3, verbose=1, scoring=\"f1_micro\")\n",
        "rm_gs.fit(X_train, y_train)\n",
        "gs_pred = rm_gs.predict(X_test)\n"
      ],
      "metadata": {
        "colab": {
          "base_uri": "https://localhost:8080/"
        },
        "id": "kWFCCX0ro2HB",
        "outputId": "444df0c2-b414-4711-a158-82283e91b8a3"
      },
      "execution_count": 113,
      "outputs": [
        {
          "output_type": "stream",
          "name": "stdout",
          "text": [
            "Fitting 3 folds for each of 54 candidates, totalling 162 fits\n"
          ]
        }
      ]
    },
    {
      "cell_type": "markdown",
      "source": [
        "**Extension: Randomized search for hyperparameters optimization**"
      ],
      "metadata": {
        "id": "CnECkhtLq-Gg"
      }
    },
    {
      "cell_type": "code",
      "source": [
        "from sklearn.model_selection import RandomizedSearchCV\n",
        "\n",
        "params = {\"n_estimators\": [4, 8, 16, 32, 64, 128], # Number of trees in random forest\n",
        "              \"max_features\": ['auto', 'sqrt'],\n",
        "              \"max_depth\": [16,12,8,4, 2,None],\n",
        "              \"min_samples_split\": sp_randint(2, 50),\n",
        "              \"min_samples_leaf\": sp_randint(1, 50),\n",
        "              \"bootstrap\": [True, False],\n",
        "}\n",
        "\n",
        "model = RandomForestClassifier(n_estimators=100, random_state=0)\n",
        "\n",
        "random = RandomizedSearchCV(estimator = model, param_distributions = params, \n",
        "                               n_iter = 20, cv = 5, random_state=0, n_jobs = -1)\n",
        "\n",
        "# Fit the random search model\n",
        "random.fit(X_train, y_train)"
      ],
      "metadata": {
        "id": "1gKvY9tMETd0",
        "outputId": "cc6d04d8-7323-4866-ef28-73b23362b9ff",
        "colab": {
          "base_uri": "https://localhost:8080/"
        }
      },
      "execution_count": 108,
      "outputs": [
        {
          "output_type": "execute_result",
          "data": {
            "text/plain": [
              "RandomizedSearchCV(cv=5, estimator=RandomForestClassifier(random_state=0),\n",
              "                   n_iter=20, n_jobs=-1,\n",
              "                   param_distributions={'bootstrap': [True, False],\n",
              "                                        'max_depth': [16, 12, 8, 4, 2, None],\n",
              "                                        'max_features': ['auto', 'sqrt'],\n",
              "                                        'min_samples_leaf': <scipy.stats._distn_infrastructure.rv_frozen object at 0x7f06ef8b2c40>,\n",
              "                                        'min_samples_split': <scipy.stats._distn_infrastructure.rv_frozen object at 0x7f06ef8b2b20>,\n",
              "                                        'n_estimators': [4, 8, 16, 32, 64,\n",
              "                                                         128]},\n",
              "                   random_state=0)"
            ]
          },
          "metadata": {},
          "execution_count": 108
        }
      ]
    },
    {
      "cell_type": "code",
      "source": [
        "def report(results, n_top=3): \n",
        "    for i in range(1, n_top + 1):\n",
        "        candidates = np.flatnonzero(results['rank_test_score'] == i)\n",
        "        for candidate in candidates:\n",
        "            print(\"Model with rank: {0}\".format(i))\n",
        "            print(\"Mean validation score: {0:.3f} (std: {1:.3f})\".format(\n",
        "                  results['mean_test_score'][candidate],\n",
        "                  results['std_test_score'][candidate]))\n",
        "            print(\"Parameters: {0}\".format(results['params'][candidate]))\n",
        "            print(\"\")\n",
        "\n",
        "report(random.cv_results_, n_top = 5)"
      ],
      "metadata": {
        "id": "O4Ed4DxTFR0C",
        "outputId": "2e18f643-3102-4ecc-9125-1b301424715a",
        "colab": {
          "base_uri": "https://localhost:8080/"
        }
      },
      "execution_count": 109,
      "outputs": [
        {
          "output_type": "stream",
          "name": "stdout",
          "text": [
            "Model with rank: 1\n",
            "Mean validation score: 0.705 (std: 0.001)\n",
            "Parameters: {'bootstrap': False, 'max_depth': None, 'max_features': 'auto', 'min_samples_leaf': 6, 'min_samples_split': 43, 'n_estimators': 32}\n",
            "\n",
            "Model with rank: 2\n",
            "Mean validation score: 0.704 (std: 0.002)\n",
            "Parameters: {'bootstrap': True, 'max_depth': None, 'max_features': 'auto', 'min_samples_leaf': 1, 'min_samples_split': 38, 'n_estimators': 16}\n",
            "\n",
            "Model with rank: 3\n",
            "Mean validation score: 0.704 (std: 0.001)\n",
            "Parameters: {'bootstrap': True, 'max_depth': None, 'max_features': 'sqrt', 'min_samples_leaf': 1, 'min_samples_split': 12, 'n_estimators': 16}\n",
            "\n",
            "Model with rank: 4\n",
            "Mean validation score: 0.697 (std: 0.002)\n",
            "Parameters: {'bootstrap': True, 'max_depth': None, 'max_features': 'auto', 'min_samples_leaf': 4, 'min_samples_split': 5, 'n_estimators': 8}\n",
            "\n",
            "Model with rank: 5\n",
            "Mean validation score: 0.695 (std: 0.003)\n",
            "Parameters: {'bootstrap': False, 'max_depth': None, 'max_features': 'sqrt', 'min_samples_leaf': 14, 'min_samples_split': 10, 'n_estimators': 8}\n",
            "\n"
          ]
        }
      ]
    },
    {
      "cell_type": "code",
      "source": [
        "random.best_params_"
      ],
      "metadata": {
        "id": "x9xJYc9_Fcyt",
        "outputId": "2145d466-7d4f-4253-884f-d2dd79901cd0",
        "colab": {
          "base_uri": "https://localhost:8080/"
        }
      },
      "execution_count": 110,
      "outputs": [
        {
          "output_type": "execute_result",
          "data": {
            "text/plain": [
              "{'bootstrap': False,\n",
              " 'max_depth': None,\n",
              " 'max_features': 'auto',\n",
              " 'min_samples_leaf': 6,\n",
              " 'min_samples_split': 43,\n",
              " 'n_estimators': 32}"
            ]
          },
          "metadata": {},
          "execution_count": 110
        }
      ]
    },
    {
      "cell_type": "code",
      "source": [
        "# choose the best\n",
        "\n",
        "best_random = random.best_estimator_\n",
        "# fit and predict\n",
        "best_random.fit(X_train, y_train)\n",
        "rm_pred = best_random.predict(X_test)"
      ],
      "metadata": {
        "id": "acpP4JQzFtzW"
      },
      "execution_count": 120,
      "outputs": []
    },
    {
      "cell_type": "markdown",
      "source": [
        "Let's see the most accurate model"
      ],
      "metadata": {
        "id": "qMCyHLyUDiro"
      }
    },
    {
      "cell_type": "code",
      "source": [
        "from sklearn.metrics import f1_score\n",
        "\n",
        "print(f\"Basic prediction: {f1_score(y_test, basic_pred, average='micro')}\")\n",
        "print(f\"SearchGrid prediction: {f1_score(y_test, gs_pred, average='micro')}\")\n",
        "print(f\"Random search prediction: {f1_score(y_test, rm_pred, average='micro')}\")\n"
      ],
      "metadata": {
        "colab": {
          "base_uri": "https://localhost:8080/"
        },
        "id": "8YKMI3_lDh33",
        "outputId": "ea15317f-78a7-4bd8-99c5-dcddcbae95f4"
      },
      "execution_count": 121,
      "outputs": [
        {
          "output_type": "stream",
          "name": "stdout",
          "text": [
            "Basic prediction: 0.6950161931512947\n",
            "SearchGrid prediction: 0.5780724777823825\n",
            "Random search prediction: 0.710794922564504\n"
          ]
        }
      ]
    },
    {
      "cell_type": "markdown",
      "source": [
        "If we see the results we have had an improvement"
      ],
      "metadata": {
        "id": "bqJUlrEczaHh"
      }
    },
    {
      "cell_type": "code",
      "source": [
        "from sklearn import metrics\n",
        "print(\"Metrics \\n\" \n",
        "      +classification_report(y_true=y_test, y_pred=rm_pred))\n",
        "\n",
        "# Confussion Matrix\n",
        "print(\"Confussion Matrix:\\n\")\n",
        "matriz = pd.crosstab(y_test, rm_pred, rownames=['actual'], colnames=['preds'])\n",
        "print(matriz)\n",
        "\n",
        "print(pd.DataFrame({'Feature': selected_features ,\n",
        "              'Importance': best_random.feature_importances_}),\"\\n\")"
      ],
      "metadata": {
        "colab": {
          "base_uri": "https://localhost:8080/"
        },
        "id": "hMgADfG2iFNv",
        "outputId": "b3fbef3a-1739-4046-afc7-13397dbd5ba0"
      },
      "execution_count": 119,
      "outputs": [
        {
          "output_type": "stream",
          "name": "stdout",
          "text": [
            "Metrics \n",
            "              precision    recall  f1-score   support\n",
            "\n",
            "           1       0.67      0.39      0.49      6238\n",
            "           2       0.70      0.86      0.77     37210\n",
            "           3       0.75      0.54      0.63     21703\n",
            "\n",
            "    accuracy                           0.71     65151\n",
            "   macro avg       0.71      0.60      0.63     65151\n",
            "weighted avg       0.71      0.71      0.70     65151\n",
            "\n",
            "Confussion Matrix:\n",
            "\n",
            "preds      1      2      3\n",
            "actual                    \n",
            "1       2408   3767     63\n",
            "2       1123  32178   3909\n",
            "3         65   9915  11723\n",
            "                                Feature  Importance\n",
            "0                       foundation_type    0.073181\n",
            "1                       area_percentage    0.049587\n",
            "2                     height_percentage    0.049738\n",
            "3                                   age    0.070769\n",
            "4                        geo_level_2_id    0.177828\n",
            "5                        geo_level_1_id    0.382583\n",
            "6                             roof_type    0.044252\n",
            "7                     ground_floor_type    0.030032\n",
            "8                     has_secondary_use    0.010587\n",
            "9                              position    0.015821\n",
            "10                   plan_configuration    0.006905\n",
            "11  has_superstructure_mud_mortar_stone    0.061703\n",
            "12            has_superstructure_timber    0.016379\n",
            "13            has_superstructure_bamboo    0.010635 \n",
            "\n"
          ]
        }
      ]
    },
    {
      "cell_type": "code",
      "source": [
        "preds = best_random.predict(test_values_subset)\n",
        "!wget https://github.com/alan-flint/Richter-DrivenData/raw/master/input/submission_format.csv\n",
        "submission_format = pd.read_csv('submission_format.csv', index_col='building_id')\n",
        "my_submission = pd.DataFrame(data=preds,\n",
        "                             columns=submission_format.columns,\n",
        "                             index=submission_format.index)\n",
        "my_submission.to_csv('submissionFDT.csv')"
      ],
      "metadata": {
        "id": "ZlALe-dVz5Sm",
        "outputId": "baa1fb0b-68d2-444b-c268-fcd81df489f1",
        "colab": {
          "base_uri": "https://localhost:8080/"
        }
      },
      "execution_count": 118,
      "outputs": [
        {
          "output_type": "stream",
          "name": "stdout",
          "text": [
            "--2022-12-18 21:28:27--  https://github.com/alan-flint/Richter-DrivenData/raw/master/input/submission_format.csv\n",
            "Resolving github.com (github.com)... 20.27.177.113\n",
            "Connecting to github.com (github.com)|20.27.177.113|:443... connected.\n",
            "HTTP request sent, awaiting response... 302 Found\n",
            "Location: https://raw.githubusercontent.com/alan-flint/Richter-DrivenData/master/input/submission_format.csv [following]\n",
            "--2022-12-18 21:28:27--  https://raw.githubusercontent.com/alan-flint/Richter-DrivenData/master/input/submission_format.csv\n",
            "Resolving raw.githubusercontent.com (raw.githubusercontent.com)... 185.199.108.133, 185.199.109.133, 185.199.110.133, ...\n",
            "Connecting to raw.githubusercontent.com (raw.githubusercontent.com)|185.199.108.133|:443... connected.\n",
            "HTTP request sent, awaiting response... 200 OK\n",
            "Length: 777012 (759K) [text/plain]\n",
            "Saving to: ‘submission_format.csv.5’\n",
            "\n",
            "submission_format.c 100%[===================>] 758.80K  --.-KB/s    in 0.06s   \n",
            "\n",
            "2022-12-18 21:28:28 (13.4 MB/s) - ‘submission_format.csv.5’ saved [777012/777012]\n",
            "\n"
          ]
        }
      ]
    }
  ]
}
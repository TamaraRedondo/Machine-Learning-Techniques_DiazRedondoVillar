{
  "nbformat": 4,
  "nbformat_minor": 0,
  "metadata": {
    "colab": {
      "provenance": []
    },
    "kernelspec": {
      "name": "python3",
      "display_name": "Python 3"
    },
    "language_info": {
      "name": "python"
    }
  },
  "cells": [
    {
      "cell_type": "code",
      "execution_count": 1,
      "metadata": {
        "id": "NAgtbOBG5U9P"
      },
      "outputs": [],
      "source": [
        "import numpy as np\n",
        "import pandas as pd\n",
        "from google.colab import drive\n",
        "\n",
        "import matplotlib.pyplot as plt\n",
        "import seaborn as sns"
      ]
    },
    {
      "cell_type": "code",
      "source": [
        "drive.mount('/content/drive')\n",
        "df_prods = pd.read_csv(\"drive/MyDrive/products.csv\", on_bad_lines='skip')\n",
        "df_prods.head()"
      ],
      "metadata": {
        "colab": {
          "base_uri": "https://localhost:8080/",
          "height": 444
        },
        "id": "DlXUwka46dAX",
        "outputId": "55a1f46b-82c9-4e2b-8b0d-69697a45fcb1"
      },
      "execution_count": 2,
      "outputs": [
        {
          "output_type": "stream",
          "name": "stdout",
          "text": [
            "Drive already mounted at /content/drive; to attempt to forcibly remount, call drive.mount(\"/content/drive\", force_remount=True).\n"
          ]
        },
        {
          "output_type": "stream",
          "name": "stderr",
          "text": [
            "/usr/local/lib/python3.8/dist-packages/IPython/core/interactiveshell.py:3326: DtypeWarning: Columns (1,2,3,4,5,6,7,8,9) have mixed types.Specify dtype option on import or set low_memory=False.\n",
            "  exec(code_obj, self.user_global_ns, self.user_ns)\n"
          ]
        },
        {
          "output_type": "execute_result",
          "data": {
            "text/plain": [
              "                                                  Id   ProductId  \\\n",
              "0                                                  1  B001E4KFG0   \n",
              "1  2,B00813GRG4,A1D87F6ZCVE5NK,dll pa,0,0,1,13469...         NaN   \n",
              "2  3,B000LQOCH0,ABXLMWJIXXAIN,\"Natalia Corres \"\"N...         NaN   \n",
              "3                                                  4  B000UA0QIQ   \n",
              "4  5,B006K2ZZ7K,A1UQRSCLF8GW1T,\"Michael D. Bigham...         NaN   \n",
              "\n",
              "           UserId ProfileName HelpfulnessNumerator HelpfulnessDenominator  \\\n",
              "0  A3SGXH7AUHU8GW  delmartian                    1                      1   \n",
              "1             NaN         NaN                  NaN                    NaN   \n",
              "2             NaN         NaN                  NaN                    NaN   \n",
              "3  A395BORC6FGVXV        Karl                    3                      3   \n",
              "4             NaN         NaN                  NaN                    NaN   \n",
              "\n",
              "  Score        Time                Summary  \\\n",
              "0     5  1303862400  Good Quality Dog Food   \n",
              "1   NaN         NaN                    NaN   \n",
              "2   NaN         NaN                    NaN   \n",
              "3     2  1307923200         Cough Medicine   \n",
              "4   NaN         NaN                    NaN   \n",
              "\n",
              "                        Text;;;;;;;;;;;;;;;;;;;;;;;;  \n",
              "0  I have bought several of the Vitality canned d...  \n",
              "1                                                NaN  \n",
              "2                                                NaN  \n",
              "3  If you are looking for the secret ingredient i...  \n",
              "4                                                NaN  "
            ],
            "text/html": [
              "\n",
              "  <div id=\"df-63aefd91-6fe3-4102-a753-99a565ce66a8\">\n",
              "    <div class=\"colab-df-container\">\n",
              "      <div>\n",
              "<style scoped>\n",
              "    .dataframe tbody tr th:only-of-type {\n",
              "        vertical-align: middle;\n",
              "    }\n",
              "\n",
              "    .dataframe tbody tr th {\n",
              "        vertical-align: top;\n",
              "    }\n",
              "\n",
              "    .dataframe thead th {\n",
              "        text-align: right;\n",
              "    }\n",
              "</style>\n",
              "<table border=\"1\" class=\"dataframe\">\n",
              "  <thead>\n",
              "    <tr style=\"text-align: right;\">\n",
              "      <th></th>\n",
              "      <th>Id</th>\n",
              "      <th>ProductId</th>\n",
              "      <th>UserId</th>\n",
              "      <th>ProfileName</th>\n",
              "      <th>HelpfulnessNumerator</th>\n",
              "      <th>HelpfulnessDenominator</th>\n",
              "      <th>Score</th>\n",
              "      <th>Time</th>\n",
              "      <th>Summary</th>\n",
              "      <th>Text;;;;;;;;;;;;;;;;;;;;;;;;</th>\n",
              "    </tr>\n",
              "  </thead>\n",
              "  <tbody>\n",
              "    <tr>\n",
              "      <th>0</th>\n",
              "      <td>1</td>\n",
              "      <td>B001E4KFG0</td>\n",
              "      <td>A3SGXH7AUHU8GW</td>\n",
              "      <td>delmartian</td>\n",
              "      <td>1</td>\n",
              "      <td>1</td>\n",
              "      <td>5</td>\n",
              "      <td>1303862400</td>\n",
              "      <td>Good Quality Dog Food</td>\n",
              "      <td>I have bought several of the Vitality canned d...</td>\n",
              "    </tr>\n",
              "    <tr>\n",
              "      <th>1</th>\n",
              "      <td>2,B00813GRG4,A1D87F6ZCVE5NK,dll pa,0,0,1,13469...</td>\n",
              "      <td>NaN</td>\n",
              "      <td>NaN</td>\n",
              "      <td>NaN</td>\n",
              "      <td>NaN</td>\n",
              "      <td>NaN</td>\n",
              "      <td>NaN</td>\n",
              "      <td>NaN</td>\n",
              "      <td>NaN</td>\n",
              "      <td>NaN</td>\n",
              "    </tr>\n",
              "    <tr>\n",
              "      <th>2</th>\n",
              "      <td>3,B000LQOCH0,ABXLMWJIXXAIN,\"Natalia Corres \"\"N...</td>\n",
              "      <td>NaN</td>\n",
              "      <td>NaN</td>\n",
              "      <td>NaN</td>\n",
              "      <td>NaN</td>\n",
              "      <td>NaN</td>\n",
              "      <td>NaN</td>\n",
              "      <td>NaN</td>\n",
              "      <td>NaN</td>\n",
              "      <td>NaN</td>\n",
              "    </tr>\n",
              "    <tr>\n",
              "      <th>3</th>\n",
              "      <td>4</td>\n",
              "      <td>B000UA0QIQ</td>\n",
              "      <td>A395BORC6FGVXV</td>\n",
              "      <td>Karl</td>\n",
              "      <td>3</td>\n",
              "      <td>3</td>\n",
              "      <td>2</td>\n",
              "      <td>1307923200</td>\n",
              "      <td>Cough Medicine</td>\n",
              "      <td>If you are looking for the secret ingredient i...</td>\n",
              "    </tr>\n",
              "    <tr>\n",
              "      <th>4</th>\n",
              "      <td>5,B006K2ZZ7K,A1UQRSCLF8GW1T,\"Michael D. Bigham...</td>\n",
              "      <td>NaN</td>\n",
              "      <td>NaN</td>\n",
              "      <td>NaN</td>\n",
              "      <td>NaN</td>\n",
              "      <td>NaN</td>\n",
              "      <td>NaN</td>\n",
              "      <td>NaN</td>\n",
              "      <td>NaN</td>\n",
              "      <td>NaN</td>\n",
              "    </tr>\n",
              "  </tbody>\n",
              "</table>\n",
              "</div>\n",
              "      <button class=\"colab-df-convert\" onclick=\"convertToInteractive('df-63aefd91-6fe3-4102-a753-99a565ce66a8')\"\n",
              "              title=\"Convert this dataframe to an interactive table.\"\n",
              "              style=\"display:none;\">\n",
              "        \n",
              "  <svg xmlns=\"http://www.w3.org/2000/svg\" height=\"24px\"viewBox=\"0 0 24 24\"\n",
              "       width=\"24px\">\n",
              "    <path d=\"M0 0h24v24H0V0z\" fill=\"none\"/>\n",
              "    <path d=\"M18.56 5.44l.94 2.06.94-2.06 2.06-.94-2.06-.94-.94-2.06-.94 2.06-2.06.94zm-11 1L8.5 8.5l.94-2.06 2.06-.94-2.06-.94L8.5 2.5l-.94 2.06-2.06.94zm10 10l.94 2.06.94-2.06 2.06-.94-2.06-.94-.94-2.06-.94 2.06-2.06.94z\"/><path d=\"M17.41 7.96l-1.37-1.37c-.4-.4-.92-.59-1.43-.59-.52 0-1.04.2-1.43.59L10.3 9.45l-7.72 7.72c-.78.78-.78 2.05 0 2.83L4 21.41c.39.39.9.59 1.41.59.51 0 1.02-.2 1.41-.59l7.78-7.78 2.81-2.81c.8-.78.8-2.07 0-2.86zM5.41 20L4 18.59l7.72-7.72 1.47 1.35L5.41 20z\"/>\n",
              "  </svg>\n",
              "      </button>\n",
              "      \n",
              "  <style>\n",
              "    .colab-df-container {\n",
              "      display:flex;\n",
              "      flex-wrap:wrap;\n",
              "      gap: 12px;\n",
              "    }\n",
              "\n",
              "    .colab-df-convert {\n",
              "      background-color: #E8F0FE;\n",
              "      border: none;\n",
              "      border-radius: 50%;\n",
              "      cursor: pointer;\n",
              "      display: none;\n",
              "      fill: #1967D2;\n",
              "      height: 32px;\n",
              "      padding: 0 0 0 0;\n",
              "      width: 32px;\n",
              "    }\n",
              "\n",
              "    .colab-df-convert:hover {\n",
              "      background-color: #E2EBFA;\n",
              "      box-shadow: 0px 1px 2px rgba(60, 64, 67, 0.3), 0px 1px 3px 1px rgba(60, 64, 67, 0.15);\n",
              "      fill: #174EA6;\n",
              "    }\n",
              "\n",
              "    [theme=dark] .colab-df-convert {\n",
              "      background-color: #3B4455;\n",
              "      fill: #D2E3FC;\n",
              "    }\n",
              "\n",
              "    [theme=dark] .colab-df-convert:hover {\n",
              "      background-color: #434B5C;\n",
              "      box-shadow: 0px 1px 3px 1px rgba(0, 0, 0, 0.15);\n",
              "      filter: drop-shadow(0px 1px 2px rgba(0, 0, 0, 0.3));\n",
              "      fill: #FFFFFF;\n",
              "    }\n",
              "  </style>\n",
              "\n",
              "      <script>\n",
              "        const buttonEl =\n",
              "          document.querySelector('#df-63aefd91-6fe3-4102-a753-99a565ce66a8 button.colab-df-convert');\n",
              "        buttonEl.style.display =\n",
              "          google.colab.kernel.accessAllowed ? 'block' : 'none';\n",
              "\n",
              "        async function convertToInteractive(key) {\n",
              "          const element = document.querySelector('#df-63aefd91-6fe3-4102-a753-99a565ce66a8');\n",
              "          const dataTable =\n",
              "            await google.colab.kernel.invokeFunction('convertToInteractive',\n",
              "                                                     [key], {});\n",
              "          if (!dataTable) return;\n",
              "\n",
              "          const docLinkHtml = 'Like what you see? Visit the ' +\n",
              "            '<a target=\"_blank\" href=https://colab.research.google.com/notebooks/data_table.ipynb>data table notebook</a>'\n",
              "            + ' to learn more about interactive tables.';\n",
              "          element.innerHTML = '';\n",
              "          dataTable['output_type'] = 'display_data';\n",
              "          await google.colab.output.renderOutput(dataTable, element);\n",
              "          const docLink = document.createElement('div');\n",
              "          docLink.innerHTML = docLinkHtml;\n",
              "          element.appendChild(docLink);\n",
              "        }\n",
              "      </script>\n",
              "    </div>\n",
              "  </div>\n",
              "  "
            ]
          },
          "metadata": {},
          "execution_count": 2
        }
      ]
    },
    {
      "cell_type": "code",
      "source": [
        "# Delete rows with bad \"Score\" field (strings values)\n",
        "df_prods['Score'] = pd.to_numeric(df_prods['Score'], errors = 'coerce')\n",
        "df_prods.dropna(inplace = True, subset=['Score', 'Summary', 'Text;;;;;;;;;;;;;;;;;;;;;;;;'])\n",
        "\n",
        "#There are blank columns after Text, that is the reason of the ;\n",
        "texts = df_prods[\"Text;;;;;;;;;;;;;;;;;;;;;;;;\"]\n",
        "summs = df_prods[\"Summary\"]\n",
        "df_prods[\"Comment\"] = df_prods[\"Text;;;;;;;;;;;;;;;;;;;;;;;;\"] + df_prods[\"Summary\"]\n",
        "\n",
        "d = {'Comment': df_prods[\"Comment\"]}\n",
        "comms_df = pd.DataFrame(data=d)\n"
      ],
      "metadata": {
        "id": "4IAJlFUJFLQ1"
      },
      "execution_count": 3,
      "outputs": []
    },
    {
      "cell_type": "markdown",
      "source": [
        "# 1. Preprocessing"
      ],
      "metadata": {
        "id": "vvFJL45HD-zZ"
      }
    },
    {
      "cell_type": "markdown",
      "source": [
        "Removal of useless characters"
      ],
      "metadata": {
        "id": "Lx9G0EBncUza"
      }
    },
    {
      "cell_type": "code",
      "source": [
        "bad_chars = [\"!\", \"\\\"\", \"\\$\", \"%\", \"&\", \"/\", \"\\(\", \"\\)\", \"=\", \"_\", \"ˆ\", \"¡\", \"@\", \";\", \"\\*\", \"\\+\", \"\\.\", \"\\?\"]\n",
        "for c in bad_chars:\n",
        "  comms_df['Comment'] = comms_df['Comment'].replace({c:\"\"}, regex=True)\n",
        "comms_df['Comment'] = comms_df['Comment'].replace({\"<br >\":\" \"}, regex=True)\n",
        "\n",
        "comms_df['Comment'] = comms_df['Comment'].str.lower()\n",
        "print(comms_df.shape)\n",
        "comms_df.head()"
      ],
      "metadata": {
        "colab": {
          "base_uri": "https://localhost:8080/",
          "height": 224
        },
        "id": "xmBnTBlJKzJQ",
        "outputId": "fd66c220-3f51-4b48-ba35-93de818bf7af"
      },
      "execution_count": 4,
      "outputs": [
        {
          "output_type": "stream",
          "name": "stdout",
          "text": [
            "(9620, 1)\n"
          ]
        },
        {
          "output_type": "execute_result",
          "data": {
            "text/plain": [
              "                                              Comment\n",
              "0   i have bought several of the vitality canned d...\n",
              "3   if you are looking for the secret ingredient i...\n",
              "8   right now i'm mostly just sprouting this so my...\n",
              "9   this is a very healthy dog food good for their...\n",
              "16  i love eating them and they are good for watch..."
            ],
            "text/html": [
              "\n",
              "  <div id=\"df-432722af-f22a-4fb7-adef-21d424e8cb69\">\n",
              "    <div class=\"colab-df-container\">\n",
              "      <div>\n",
              "<style scoped>\n",
              "    .dataframe tbody tr th:only-of-type {\n",
              "        vertical-align: middle;\n",
              "    }\n",
              "\n",
              "    .dataframe tbody tr th {\n",
              "        vertical-align: top;\n",
              "    }\n",
              "\n",
              "    .dataframe thead th {\n",
              "        text-align: right;\n",
              "    }\n",
              "</style>\n",
              "<table border=\"1\" class=\"dataframe\">\n",
              "  <thead>\n",
              "    <tr style=\"text-align: right;\">\n",
              "      <th></th>\n",
              "      <th>Comment</th>\n",
              "    </tr>\n",
              "  </thead>\n",
              "  <tbody>\n",
              "    <tr>\n",
              "      <th>0</th>\n",
              "      <td>i have bought several of the vitality canned d...</td>\n",
              "    </tr>\n",
              "    <tr>\n",
              "      <th>3</th>\n",
              "      <td>if you are looking for the secret ingredient i...</td>\n",
              "    </tr>\n",
              "    <tr>\n",
              "      <th>8</th>\n",
              "      <td>right now i'm mostly just sprouting this so my...</td>\n",
              "    </tr>\n",
              "    <tr>\n",
              "      <th>9</th>\n",
              "      <td>this is a very healthy dog food good for their...</td>\n",
              "    </tr>\n",
              "    <tr>\n",
              "      <th>16</th>\n",
              "      <td>i love eating them and they are good for watch...</td>\n",
              "    </tr>\n",
              "  </tbody>\n",
              "</table>\n",
              "</div>\n",
              "      <button class=\"colab-df-convert\" onclick=\"convertToInteractive('df-432722af-f22a-4fb7-adef-21d424e8cb69')\"\n",
              "              title=\"Convert this dataframe to an interactive table.\"\n",
              "              style=\"display:none;\">\n",
              "        \n",
              "  <svg xmlns=\"http://www.w3.org/2000/svg\" height=\"24px\"viewBox=\"0 0 24 24\"\n",
              "       width=\"24px\">\n",
              "    <path d=\"M0 0h24v24H0V0z\" fill=\"none\"/>\n",
              "    <path d=\"M18.56 5.44l.94 2.06.94-2.06 2.06-.94-2.06-.94-.94-2.06-.94 2.06-2.06.94zm-11 1L8.5 8.5l.94-2.06 2.06-.94-2.06-.94L8.5 2.5l-.94 2.06-2.06.94zm10 10l.94 2.06.94-2.06 2.06-.94-2.06-.94-.94-2.06-.94 2.06-2.06.94z\"/><path d=\"M17.41 7.96l-1.37-1.37c-.4-.4-.92-.59-1.43-.59-.52 0-1.04.2-1.43.59L10.3 9.45l-7.72 7.72c-.78.78-.78 2.05 0 2.83L4 21.41c.39.39.9.59 1.41.59.51 0 1.02-.2 1.41-.59l7.78-7.78 2.81-2.81c.8-.78.8-2.07 0-2.86zM5.41 20L4 18.59l7.72-7.72 1.47 1.35L5.41 20z\"/>\n",
              "  </svg>\n",
              "      </button>\n",
              "      \n",
              "  <style>\n",
              "    .colab-df-container {\n",
              "      display:flex;\n",
              "      flex-wrap:wrap;\n",
              "      gap: 12px;\n",
              "    }\n",
              "\n",
              "    .colab-df-convert {\n",
              "      background-color: #E8F0FE;\n",
              "      border: none;\n",
              "      border-radius: 50%;\n",
              "      cursor: pointer;\n",
              "      display: none;\n",
              "      fill: #1967D2;\n",
              "      height: 32px;\n",
              "      padding: 0 0 0 0;\n",
              "      width: 32px;\n",
              "    }\n",
              "\n",
              "    .colab-df-convert:hover {\n",
              "      background-color: #E2EBFA;\n",
              "      box-shadow: 0px 1px 2px rgba(60, 64, 67, 0.3), 0px 1px 3px 1px rgba(60, 64, 67, 0.15);\n",
              "      fill: #174EA6;\n",
              "    }\n",
              "\n",
              "    [theme=dark] .colab-df-convert {\n",
              "      background-color: #3B4455;\n",
              "      fill: #D2E3FC;\n",
              "    }\n",
              "\n",
              "    [theme=dark] .colab-df-convert:hover {\n",
              "      background-color: #434B5C;\n",
              "      box-shadow: 0px 1px 3px 1px rgba(0, 0, 0, 0.15);\n",
              "      filter: drop-shadow(0px 1px 2px rgba(0, 0, 0, 0.3));\n",
              "      fill: #FFFFFF;\n",
              "    }\n",
              "  </style>\n",
              "\n",
              "      <script>\n",
              "        const buttonEl =\n",
              "          document.querySelector('#df-432722af-f22a-4fb7-adef-21d424e8cb69 button.colab-df-convert');\n",
              "        buttonEl.style.display =\n",
              "          google.colab.kernel.accessAllowed ? 'block' : 'none';\n",
              "\n",
              "        async function convertToInteractive(key) {\n",
              "          const element = document.querySelector('#df-432722af-f22a-4fb7-adef-21d424e8cb69');\n",
              "          const dataTable =\n",
              "            await google.colab.kernel.invokeFunction('convertToInteractive',\n",
              "                                                     [key], {});\n",
              "          if (!dataTable) return;\n",
              "\n",
              "          const docLinkHtml = 'Like what you see? Visit the ' +\n",
              "            '<a target=\"_blank\" href=https://colab.research.google.com/notebooks/data_table.ipynb>data table notebook</a>'\n",
              "            + ' to learn more about interactive tables.';\n",
              "          element.innerHTML = '';\n",
              "          dataTable['output_type'] = 'display_data';\n",
              "          await google.colab.output.renderOutput(dataTable, element);\n",
              "          const docLink = document.createElement('div');\n",
              "          docLink.innerHTML = docLinkHtml;\n",
              "          element.appendChild(docLink);\n",
              "        }\n",
              "      </script>\n",
              "    </div>\n",
              "  </div>\n",
              "  "
            ]
          },
          "metadata": {},
          "execution_count": 4
        }
      ]
    },
    {
      "cell_type": "markdown",
      "source": [
        "Lemmatization"
      ],
      "metadata": {
        "id": "i-PLxbiPcS_m"
      }
    },
    {
      "cell_type": "code",
      "source": [
        "import nltk\n",
        "nltk.download('wordnet')\n",
        "nltk.download('omw-1.4')\n",
        "nltk.download('averaged_perceptron_tagger')\n",
        "\n",
        "from nltk.stem import WordNetLemmatizer\n",
        "lemmatizer = WordNetLemmatizer()\n",
        "w_tokenizer = nltk.tokenize.WhitespaceTokenizer()\n",
        "\n",
        "comms_df = comms_df.astype(str)\n",
        "\n",
        "def lemmatize3_text(text):\n",
        "  row = []\n",
        "  for word, tag in nltk.pos_tag(w_tokenizer.tokenize(text)):\n",
        "    wntag = tag[0].lower()\n",
        "    wntag = wntag if wntag in ['a', 'r', 'n', 'v'] else None # We lemmatize adverbs, nouns and verbs\n",
        "    if not wntag:\n",
        "      lemma = word\n",
        "    else:\n",
        "      lemma = lemmatizer.lemmatize(word, wntag)\n",
        "    row.append(lemma)\n",
        "  return row \n",
        "\n",
        "comms_df['Comment'] = comms_df['Comment'].apply(lemmatize3_text)\n",
        "comms_df['Comment'] = comms_df['Comment'].apply(lambda x : \" \".join(x))\n",
        "\n",
        "comms_df.head(100)"
      ],
      "metadata": {
        "id": "Sh0vDte7EBsN",
        "outputId": "72bbbe18-029f-4ca9-cfa3-e3837bf7c85c",
        "colab": {
          "base_uri": "https://localhost:8080/",
          "height": 563
        }
      },
      "execution_count": 5,
      "outputs": [
        {
          "output_type": "stream",
          "name": "stderr",
          "text": [
            "[nltk_data] Downloading package wordnet to /root/nltk_data...\n",
            "[nltk_data]   Package wordnet is already up-to-date!\n",
            "[nltk_data] Downloading package omw-1.4 to /root/nltk_data...\n",
            "[nltk_data]   Package omw-1.4 is already up-to-date!\n",
            "[nltk_data] Downloading package averaged_perceptron_tagger to\n",
            "[nltk_data]     /root/nltk_data...\n",
            "[nltk_data]   Package averaged_perceptron_tagger is already up-to-\n",
            "[nltk_data]       date!\n"
          ]
        },
        {
          "output_type": "execute_result",
          "data": {
            "text/plain": [
              "                                               Comment\n",
              "0    i have buy several of the vitality can dog foo...\n",
              "3    if you be look for the secret ingredient in ro...\n",
              "8    right now i'm mostly just sprout this so my ca...\n",
              "9    this be a very healthy dog food good for their...\n",
              "16   i love eat them and they be good for watch tv ...\n",
              "..                                                 ...\n",
              "522  i have try a lot of sv chip and these be the b...\n",
              "526  these backyard bbq kettle chip be a great deal...\n",
              "529  these bag have a lot of overcooked brown piece...\n",
              "534  after open numerous bag i find that none of th...\n",
              "543  i buy this brand as a trial since i be tire of...\n",
              "\n",
              "[100 rows x 1 columns]"
            ],
            "text/html": [
              "\n",
              "  <div id=\"df-f04bf34e-2d6c-4d62-a9b3-175866a66e94\">\n",
              "    <div class=\"colab-df-container\">\n",
              "      <div>\n",
              "<style scoped>\n",
              "    .dataframe tbody tr th:only-of-type {\n",
              "        vertical-align: middle;\n",
              "    }\n",
              "\n",
              "    .dataframe tbody tr th {\n",
              "        vertical-align: top;\n",
              "    }\n",
              "\n",
              "    .dataframe thead th {\n",
              "        text-align: right;\n",
              "    }\n",
              "</style>\n",
              "<table border=\"1\" class=\"dataframe\">\n",
              "  <thead>\n",
              "    <tr style=\"text-align: right;\">\n",
              "      <th></th>\n",
              "      <th>Comment</th>\n",
              "    </tr>\n",
              "  </thead>\n",
              "  <tbody>\n",
              "    <tr>\n",
              "      <th>0</th>\n",
              "      <td>i have buy several of the vitality can dog foo...</td>\n",
              "    </tr>\n",
              "    <tr>\n",
              "      <th>3</th>\n",
              "      <td>if you be look for the secret ingredient in ro...</td>\n",
              "    </tr>\n",
              "    <tr>\n",
              "      <th>8</th>\n",
              "      <td>right now i'm mostly just sprout this so my ca...</td>\n",
              "    </tr>\n",
              "    <tr>\n",
              "      <th>9</th>\n",
              "      <td>this be a very healthy dog food good for their...</td>\n",
              "    </tr>\n",
              "    <tr>\n",
              "      <th>16</th>\n",
              "      <td>i love eat them and they be good for watch tv ...</td>\n",
              "    </tr>\n",
              "    <tr>\n",
              "      <th>...</th>\n",
              "      <td>...</td>\n",
              "    </tr>\n",
              "    <tr>\n",
              "      <th>522</th>\n",
              "      <td>i have try a lot of sv chip and these be the b...</td>\n",
              "    </tr>\n",
              "    <tr>\n",
              "      <th>526</th>\n",
              "      <td>these backyard bbq kettle chip be a great deal...</td>\n",
              "    </tr>\n",
              "    <tr>\n",
              "      <th>529</th>\n",
              "      <td>these bag have a lot of overcooked brown piece...</td>\n",
              "    </tr>\n",
              "    <tr>\n",
              "      <th>534</th>\n",
              "      <td>after open numerous bag i find that none of th...</td>\n",
              "    </tr>\n",
              "    <tr>\n",
              "      <th>543</th>\n",
              "      <td>i buy this brand as a trial since i be tire of...</td>\n",
              "    </tr>\n",
              "  </tbody>\n",
              "</table>\n",
              "<p>100 rows × 1 columns</p>\n",
              "</div>\n",
              "      <button class=\"colab-df-convert\" onclick=\"convertToInteractive('df-f04bf34e-2d6c-4d62-a9b3-175866a66e94')\"\n",
              "              title=\"Convert this dataframe to an interactive table.\"\n",
              "              style=\"display:none;\">\n",
              "        \n",
              "  <svg xmlns=\"http://www.w3.org/2000/svg\" height=\"24px\"viewBox=\"0 0 24 24\"\n",
              "       width=\"24px\">\n",
              "    <path d=\"M0 0h24v24H0V0z\" fill=\"none\"/>\n",
              "    <path d=\"M18.56 5.44l.94 2.06.94-2.06 2.06-.94-2.06-.94-.94-2.06-.94 2.06-2.06.94zm-11 1L8.5 8.5l.94-2.06 2.06-.94-2.06-.94L8.5 2.5l-.94 2.06-2.06.94zm10 10l.94 2.06.94-2.06 2.06-.94-2.06-.94-.94-2.06-.94 2.06-2.06.94z\"/><path d=\"M17.41 7.96l-1.37-1.37c-.4-.4-.92-.59-1.43-.59-.52 0-1.04.2-1.43.59L10.3 9.45l-7.72 7.72c-.78.78-.78 2.05 0 2.83L4 21.41c.39.39.9.59 1.41.59.51 0 1.02-.2 1.41-.59l7.78-7.78 2.81-2.81c.8-.78.8-2.07 0-2.86zM5.41 20L4 18.59l7.72-7.72 1.47 1.35L5.41 20z\"/>\n",
              "  </svg>\n",
              "      </button>\n",
              "      \n",
              "  <style>\n",
              "    .colab-df-container {\n",
              "      display:flex;\n",
              "      flex-wrap:wrap;\n",
              "      gap: 12px;\n",
              "    }\n",
              "\n",
              "    .colab-df-convert {\n",
              "      background-color: #E8F0FE;\n",
              "      border: none;\n",
              "      border-radius: 50%;\n",
              "      cursor: pointer;\n",
              "      display: none;\n",
              "      fill: #1967D2;\n",
              "      height: 32px;\n",
              "      padding: 0 0 0 0;\n",
              "      width: 32px;\n",
              "    }\n",
              "\n",
              "    .colab-df-convert:hover {\n",
              "      background-color: #E2EBFA;\n",
              "      box-shadow: 0px 1px 2px rgba(60, 64, 67, 0.3), 0px 1px 3px 1px rgba(60, 64, 67, 0.15);\n",
              "      fill: #174EA6;\n",
              "    }\n",
              "\n",
              "    [theme=dark] .colab-df-convert {\n",
              "      background-color: #3B4455;\n",
              "      fill: #D2E3FC;\n",
              "    }\n",
              "\n",
              "    [theme=dark] .colab-df-convert:hover {\n",
              "      background-color: #434B5C;\n",
              "      box-shadow: 0px 1px 3px 1px rgba(0, 0, 0, 0.15);\n",
              "      filter: drop-shadow(0px 1px 2px rgba(0, 0, 0, 0.3));\n",
              "      fill: #FFFFFF;\n",
              "    }\n",
              "  </style>\n",
              "\n",
              "      <script>\n",
              "        const buttonEl =\n",
              "          document.querySelector('#df-f04bf34e-2d6c-4d62-a9b3-175866a66e94 button.colab-df-convert');\n",
              "        buttonEl.style.display =\n",
              "          google.colab.kernel.accessAllowed ? 'block' : 'none';\n",
              "\n",
              "        async function convertToInteractive(key) {\n",
              "          const element = document.querySelector('#df-f04bf34e-2d6c-4d62-a9b3-175866a66e94');\n",
              "          const dataTable =\n",
              "            await google.colab.kernel.invokeFunction('convertToInteractive',\n",
              "                                                     [key], {});\n",
              "          if (!dataTable) return;\n",
              "\n",
              "          const docLinkHtml = 'Like what you see? Visit the ' +\n",
              "            '<a target=\"_blank\" href=https://colab.research.google.com/notebooks/data_table.ipynb>data table notebook</a>'\n",
              "            + ' to learn more about interactive tables.';\n",
              "          element.innerHTML = '';\n",
              "          dataTable['output_type'] = 'display_data';\n",
              "          await google.colab.output.renderOutput(dataTable, element);\n",
              "          const docLink = document.createElement('div');\n",
              "          docLink.innerHTML = docLinkHtml;\n",
              "          element.appendChild(docLink);\n",
              "        }\n",
              "      </script>\n",
              "    </div>\n",
              "  </div>\n",
              "  "
            ]
          },
          "metadata": {},
          "execution_count": 5
        }
      ]
    },
    {
      "cell_type": "markdown",
      "source": [
        "# 2. Vectorization"
      ],
      "metadata": {
        "id": "cHL5ox2HEJs2"
      }
    },
    {
      "cell_type": "markdown",
      "source": [
        "## 2.1 TFIDF"
      ],
      "metadata": {
        "id": "-yVnoItg2CPm"
      }
    },
    {
      "cell_type": "code",
      "source": [
        "####################################################\n",
        "#--------------------CONFIGS-----------------------#\n",
        "# 1 TFIDF                                          #\n",
        "# 2 TFIDF + N-grams                                #\n",
        "# 3 TFIDF + N-grams + POS tagging                  #\n",
        "# 4 TFIDF + N-grams + POS tagging + other features #\n",
        "#--------------------------------------------------#\n",
        "####################################################\n",
        "\n",
        "from sklearn.feature_extraction.text import TfidfVectorizer\n",
        "import scipy.sparse as sp\n",
        "\n",
        "vectorizer = TfidfVectorizer(use_idf=True, smooth_idf=True)\n",
        "config1 = vectorizer.fit_transform(comms_df['Comment'])\n",
        "config1_df=pd.DataFrame.sparse.from_spmatrix(config1,columns=vectorizer.get_feature_names())\n",
        "print(config1_df.shape, type(config1_df))\n",
        "config1_df.head()\n"
      ],
      "metadata": {
        "id": "iqt1BaOpEF5A",
        "colab": {
          "base_uri": "https://localhost:8080/",
          "height": 308
        },
        "outputId": "8099d3cf-3c6d-4102-8113-e2de0a004c05"
      },
      "execution_count": 6,
      "outputs": [
        {
          "output_type": "stream",
          "name": "stderr",
          "text": [
            "/usr/local/lib/python3.8/dist-packages/sklearn/utils/deprecation.py:87: FutureWarning: Function get_feature_names is deprecated; get_feature_names is deprecated in 1.0 and will be removed in 1.2. Please use get_feature_names_out instead.\n",
            "  warnings.warn(msg, category=FutureWarning)\n"
          ]
        },
        {
          "output_type": "stream",
          "name": "stdout",
          "text": [
            "(9620, 18801) <class 'pandas.core.frame.DataFrame'>\n"
          ]
        },
        {
          "output_type": "execute_result",
          "data": {
            "text/plain": [
              "   00g  00try   01  0107  021  03510  060cup  065  075   08  ...  ziwipeak  \\\n",
              "0  0.0    0.0  0.0   0.0  0.0    0.0     0.0  0.0  0.0  0.0  ...       0.0   \n",
              "1  0.0    0.0  0.0   0.0  0.0    0.0     0.0  0.0  0.0  0.0  ...       0.0   \n",
              "2  0.0    0.0  0.0   0.0  0.0    0.0     0.0  0.0  0.0  0.0  ...       0.0   \n",
              "3  0.0    0.0  0.0   0.0  0.0    0.0     0.0  0.0  0.0  0.0  ...       0.0   \n",
              "4  0.0    0.0  0.0   0.0  0.0    0.0     0.0  0.0  0.0  0.0  ...       0.0   \n",
              "\n",
              "   zoe  zon  zots  zotz  zucchini  zuke  zukes  zuma  zyto  \n",
              "0  0.0  0.0   0.0   0.0       0.0   0.0    0.0   0.0   0.0  \n",
              "1  0.0  0.0   0.0   0.0       0.0   0.0    0.0   0.0   0.0  \n",
              "2  0.0  0.0   0.0   0.0       0.0   0.0    0.0   0.0   0.0  \n",
              "3  0.0  0.0   0.0   0.0       0.0   0.0    0.0   0.0   0.0  \n",
              "4  0.0  0.0   0.0   0.0       0.0   0.0    0.0   0.0   0.0  \n",
              "\n",
              "[5 rows x 18801 columns]"
            ],
            "text/html": [
              "\n",
              "  <div id=\"df-a4afee3e-76e2-4163-8f3b-dbf0fa1096ba\">\n",
              "    <div class=\"colab-df-container\">\n",
              "      <div>\n",
              "<style scoped>\n",
              "    .dataframe tbody tr th:only-of-type {\n",
              "        vertical-align: middle;\n",
              "    }\n",
              "\n",
              "    .dataframe tbody tr th {\n",
              "        vertical-align: top;\n",
              "    }\n",
              "\n",
              "    .dataframe thead th {\n",
              "        text-align: right;\n",
              "    }\n",
              "</style>\n",
              "<table border=\"1\" class=\"dataframe\">\n",
              "  <thead>\n",
              "    <tr style=\"text-align: right;\">\n",
              "      <th></th>\n",
              "      <th>00g</th>\n",
              "      <th>00try</th>\n",
              "      <th>01</th>\n",
              "      <th>0107</th>\n",
              "      <th>021</th>\n",
              "      <th>03510</th>\n",
              "      <th>060cup</th>\n",
              "      <th>065</th>\n",
              "      <th>075</th>\n",
              "      <th>08</th>\n",
              "      <th>...</th>\n",
              "      <th>ziwipeak</th>\n",
              "      <th>zoe</th>\n",
              "      <th>zon</th>\n",
              "      <th>zots</th>\n",
              "      <th>zotz</th>\n",
              "      <th>zucchini</th>\n",
              "      <th>zuke</th>\n",
              "      <th>zukes</th>\n",
              "      <th>zuma</th>\n",
              "      <th>zyto</th>\n",
              "    </tr>\n",
              "  </thead>\n",
              "  <tbody>\n",
              "    <tr>\n",
              "      <th>0</th>\n",
              "      <td>0.0</td>\n",
              "      <td>0.0</td>\n",
              "      <td>0.0</td>\n",
              "      <td>0.0</td>\n",
              "      <td>0.0</td>\n",
              "      <td>0.0</td>\n",
              "      <td>0.0</td>\n",
              "      <td>0.0</td>\n",
              "      <td>0.0</td>\n",
              "      <td>0.0</td>\n",
              "      <td>...</td>\n",
              "      <td>0.0</td>\n",
              "      <td>0.0</td>\n",
              "      <td>0.0</td>\n",
              "      <td>0.0</td>\n",
              "      <td>0.0</td>\n",
              "      <td>0.0</td>\n",
              "      <td>0.0</td>\n",
              "      <td>0.0</td>\n",
              "      <td>0.0</td>\n",
              "      <td>0.0</td>\n",
              "    </tr>\n",
              "    <tr>\n",
              "      <th>1</th>\n",
              "      <td>0.0</td>\n",
              "      <td>0.0</td>\n",
              "      <td>0.0</td>\n",
              "      <td>0.0</td>\n",
              "      <td>0.0</td>\n",
              "      <td>0.0</td>\n",
              "      <td>0.0</td>\n",
              "      <td>0.0</td>\n",
              "      <td>0.0</td>\n",
              "      <td>0.0</td>\n",
              "      <td>...</td>\n",
              "      <td>0.0</td>\n",
              "      <td>0.0</td>\n",
              "      <td>0.0</td>\n",
              "      <td>0.0</td>\n",
              "      <td>0.0</td>\n",
              "      <td>0.0</td>\n",
              "      <td>0.0</td>\n",
              "      <td>0.0</td>\n",
              "      <td>0.0</td>\n",
              "      <td>0.0</td>\n",
              "    </tr>\n",
              "    <tr>\n",
              "      <th>2</th>\n",
              "      <td>0.0</td>\n",
              "      <td>0.0</td>\n",
              "      <td>0.0</td>\n",
              "      <td>0.0</td>\n",
              "      <td>0.0</td>\n",
              "      <td>0.0</td>\n",
              "      <td>0.0</td>\n",
              "      <td>0.0</td>\n",
              "      <td>0.0</td>\n",
              "      <td>0.0</td>\n",
              "      <td>...</td>\n",
              "      <td>0.0</td>\n",
              "      <td>0.0</td>\n",
              "      <td>0.0</td>\n",
              "      <td>0.0</td>\n",
              "      <td>0.0</td>\n",
              "      <td>0.0</td>\n",
              "      <td>0.0</td>\n",
              "      <td>0.0</td>\n",
              "      <td>0.0</td>\n",
              "      <td>0.0</td>\n",
              "    </tr>\n",
              "    <tr>\n",
              "      <th>3</th>\n",
              "      <td>0.0</td>\n",
              "      <td>0.0</td>\n",
              "      <td>0.0</td>\n",
              "      <td>0.0</td>\n",
              "      <td>0.0</td>\n",
              "      <td>0.0</td>\n",
              "      <td>0.0</td>\n",
              "      <td>0.0</td>\n",
              "      <td>0.0</td>\n",
              "      <td>0.0</td>\n",
              "      <td>...</td>\n",
              "      <td>0.0</td>\n",
              "      <td>0.0</td>\n",
              "      <td>0.0</td>\n",
              "      <td>0.0</td>\n",
              "      <td>0.0</td>\n",
              "      <td>0.0</td>\n",
              "      <td>0.0</td>\n",
              "      <td>0.0</td>\n",
              "      <td>0.0</td>\n",
              "      <td>0.0</td>\n",
              "    </tr>\n",
              "    <tr>\n",
              "      <th>4</th>\n",
              "      <td>0.0</td>\n",
              "      <td>0.0</td>\n",
              "      <td>0.0</td>\n",
              "      <td>0.0</td>\n",
              "      <td>0.0</td>\n",
              "      <td>0.0</td>\n",
              "      <td>0.0</td>\n",
              "      <td>0.0</td>\n",
              "      <td>0.0</td>\n",
              "      <td>0.0</td>\n",
              "      <td>...</td>\n",
              "      <td>0.0</td>\n",
              "      <td>0.0</td>\n",
              "      <td>0.0</td>\n",
              "      <td>0.0</td>\n",
              "      <td>0.0</td>\n",
              "      <td>0.0</td>\n",
              "      <td>0.0</td>\n",
              "      <td>0.0</td>\n",
              "      <td>0.0</td>\n",
              "      <td>0.0</td>\n",
              "    </tr>\n",
              "  </tbody>\n",
              "</table>\n",
              "<p>5 rows × 18801 columns</p>\n",
              "</div>\n",
              "      <button class=\"colab-df-convert\" onclick=\"convertToInteractive('df-a4afee3e-76e2-4163-8f3b-dbf0fa1096ba')\"\n",
              "              title=\"Convert this dataframe to an interactive table.\"\n",
              "              style=\"display:none;\">\n",
              "        \n",
              "  <svg xmlns=\"http://www.w3.org/2000/svg\" height=\"24px\"viewBox=\"0 0 24 24\"\n",
              "       width=\"24px\">\n",
              "    <path d=\"M0 0h24v24H0V0z\" fill=\"none\"/>\n",
              "    <path d=\"M18.56 5.44l.94 2.06.94-2.06 2.06-.94-2.06-.94-.94-2.06-.94 2.06-2.06.94zm-11 1L8.5 8.5l.94-2.06 2.06-.94-2.06-.94L8.5 2.5l-.94 2.06-2.06.94zm10 10l.94 2.06.94-2.06 2.06-.94-2.06-.94-.94-2.06-.94 2.06-2.06.94z\"/><path d=\"M17.41 7.96l-1.37-1.37c-.4-.4-.92-.59-1.43-.59-.52 0-1.04.2-1.43.59L10.3 9.45l-7.72 7.72c-.78.78-.78 2.05 0 2.83L4 21.41c.39.39.9.59 1.41.59.51 0 1.02-.2 1.41-.59l7.78-7.78 2.81-2.81c.8-.78.8-2.07 0-2.86zM5.41 20L4 18.59l7.72-7.72 1.47 1.35L5.41 20z\"/>\n",
              "  </svg>\n",
              "      </button>\n",
              "      \n",
              "  <style>\n",
              "    .colab-df-container {\n",
              "      display:flex;\n",
              "      flex-wrap:wrap;\n",
              "      gap: 12px;\n",
              "    }\n",
              "\n",
              "    .colab-df-convert {\n",
              "      background-color: #E8F0FE;\n",
              "      border: none;\n",
              "      border-radius: 50%;\n",
              "      cursor: pointer;\n",
              "      display: none;\n",
              "      fill: #1967D2;\n",
              "      height: 32px;\n",
              "      padding: 0 0 0 0;\n",
              "      width: 32px;\n",
              "    }\n",
              "\n",
              "    .colab-df-convert:hover {\n",
              "      background-color: #E2EBFA;\n",
              "      box-shadow: 0px 1px 2px rgba(60, 64, 67, 0.3), 0px 1px 3px 1px rgba(60, 64, 67, 0.15);\n",
              "      fill: #174EA6;\n",
              "    }\n",
              "\n",
              "    [theme=dark] .colab-df-convert {\n",
              "      background-color: #3B4455;\n",
              "      fill: #D2E3FC;\n",
              "    }\n",
              "\n",
              "    [theme=dark] .colab-df-convert:hover {\n",
              "      background-color: #434B5C;\n",
              "      box-shadow: 0px 1px 3px 1px rgba(0, 0, 0, 0.15);\n",
              "      filter: drop-shadow(0px 1px 2px rgba(0, 0, 0, 0.3));\n",
              "      fill: #FFFFFF;\n",
              "    }\n",
              "  </style>\n",
              "\n",
              "      <script>\n",
              "        const buttonEl =\n",
              "          document.querySelector('#df-a4afee3e-76e2-4163-8f3b-dbf0fa1096ba button.colab-df-convert');\n",
              "        buttonEl.style.display =\n",
              "          google.colab.kernel.accessAllowed ? 'block' : 'none';\n",
              "\n",
              "        async function convertToInteractive(key) {\n",
              "          const element = document.querySelector('#df-a4afee3e-76e2-4163-8f3b-dbf0fa1096ba');\n",
              "          const dataTable =\n",
              "            await google.colab.kernel.invokeFunction('convertToInteractive',\n",
              "                                                     [key], {});\n",
              "          if (!dataTable) return;\n",
              "\n",
              "          const docLinkHtml = 'Like what you see? Visit the ' +\n",
              "            '<a target=\"_blank\" href=https://colab.research.google.com/notebooks/data_table.ipynb>data table notebook</a>'\n",
              "            + ' to learn more about interactive tables.';\n",
              "          element.innerHTML = '';\n",
              "          dataTable['output_type'] = 'display_data';\n",
              "          await google.colab.output.renderOutput(dataTable, element);\n",
              "          const docLink = document.createElement('div');\n",
              "          docLink.innerHTML = docLinkHtml;\n",
              "          element.appendChild(docLink);\n",
              "        }\n",
              "      </script>\n",
              "    </div>\n",
              "  </div>\n",
              "  "
            ]
          },
          "metadata": {},
          "execution_count": 6
        }
      ]
    },
    {
      "cell_type": "markdown",
      "source": [
        "## 2.2 TFIDF + Ngram"
      ],
      "metadata": {
        "id": "EV8QN2ed2Fdn"
      }
    },
    {
      "cell_type": "code",
      "source": [
        "ngram_vectorizer = TfidfVectorizer(use_idf=True, smooth_idf=True, ngram_range=(1,3))\n",
        "config2 = ngram_vectorizer.fit_transform(comms_df['Comment'])\n",
        "config2_df=pd.DataFrame.sparse.from_spmatrix(config2,columns=ngram_vectorizer.get_feature_names())\n",
        "print(config2_df.shape)"
      ],
      "metadata": {
        "id": "JoBFR2juEOt3",
        "colab": {
          "base_uri": "https://localhost:8080/"
        },
        "outputId": "fd3db54f-0972-429b-de60-505ee9482278"
      },
      "execution_count": 7,
      "outputs": [
        {
          "output_type": "stream",
          "name": "stderr",
          "text": [
            "/usr/local/lib/python3.8/dist-packages/sklearn/utils/deprecation.py:87: FutureWarning: Function get_feature_names is deprecated; get_feature_names is deprecated in 1.0 and will be removed in 1.2. Please use get_feature_names_out instead.\n",
            "  warnings.warn(msg, category=FutureWarning)\n"
          ]
        },
        {
          "output_type": "stream",
          "name": "stdout",
          "text": [
            "(9620, 390270)\n"
          ]
        }
      ]
    },
    {
      "cell_type": "markdown",
      "source": [
        "## 2.3 TFIDF + Ngram + POS tagging"
      ],
      "metadata": {
        "id": "2JDED2vo2JYH"
      }
    },
    {
      "cell_type": "code",
      "source": [
        "import copy\n",
        "nltk.download('punkt')\n",
        "nltk.download('averaged_perceptron_tagger')\n",
        "\n",
        "ngram_vectorizer = TfidfVectorizer(use_idf=True, smooth_idf=True, ngram_range=(1,3))\n",
        "comms_tokenized_df = copy.deepcopy(comms_df)\n",
        "comms_tokenized_df['Comment'] = comms_tokenized_df['Comment'].str.lower().apply(nltk.word_tokenize)\n",
        "comms_tokenized_df['Comment'] = comms_tokenized_df['Comment'].apply(nltk.pos_tag)\n",
        "comms_tokenized_df['Comment'] = comms_tokenized_df['Comment'].apply(lambda x : ' '.join(map(str, x)))\n",
        "\n",
        "comms_tokenized_df['Comment'] = comms_tokenized_df['Comment'].replace(\", \", \"\", regex=True)\n",
        "comms_tokenized_df['Comment'] = comms_tokenized_df['Comment'].replace(\"''\", \"0\", regex=True)\n",
        "comms_tokenized_df['Comment'] = comms_tokenized_df['Comment'].replace(\"'\", \"\", regex=True)\n",
        "comms_tokenized_df['Comment'] = comms_tokenized_df['Comment'].replace(\"\\(\", \"\", regex=True)\n",
        "comms_tokenized_df['Comment'] = comms_tokenized_df['Comment'].replace(\"\\)\", \"\", regex=True)\n",
        "\n",
        "print(comms_tokenized_df['Comment'].head())\n",
        "\n",
        "config3 = ngram_vectorizer.fit_transform(comms_tokenized_df['Comment'])\n",
        "config3_df=pd.DataFrame.sparse.from_spmatrix(config3,columns=ngram_vectorizer.get_feature_names())"
      ],
      "metadata": {
        "id": "esliY-o_EPyd",
        "colab": {
          "base_uri": "https://localhost:8080/"
        },
        "outputId": "53f4684a-8a27-48fa-d591-808b0c959e07"
      },
      "execution_count": 8,
      "outputs": [
        {
          "output_type": "stream",
          "name": "stderr",
          "text": [
            "[nltk_data] Downloading package punkt to /root/nltk_data...\n",
            "[nltk_data]   Package punkt is already up-to-date!\n",
            "[nltk_data] Downloading package averaged_perceptron_tagger to\n",
            "[nltk_data]     /root/nltk_data...\n",
            "[nltk_data]   Package averaged_perceptron_tagger is already up-to-\n",
            "[nltk_data]       date!\n"
          ]
        },
        {
          "output_type": "stream",
          "name": "stdout",
          "text": [
            "0     i0NN have0VBP buy0VBN several0JJ of0IN the0DT ...\n",
            "3     if0IN you0PRP be0VB look0VBN for0IN the0DT sec...\n",
            "8     right0RB now0RB i0JJ \"m\"VBP mostly0RB just0RB ...\n",
            "9     this0DT be0VB a0DT very0RB healthy0JJ dog0NN f...\n",
            "16    i0NN love0VBP eat0VB them0PRP and0CC they0PRP ...\n",
            "Name: Comment, dtype: object\n"
          ]
        }
      ]
    },
    {
      "cell_type": "markdown",
      "source": [
        "# 3. Feature Selection"
      ],
      "metadata": {
        "id": "2DqPnEXbsjeH"
      }
    },
    {
      "cell_type": "code",
      "source": [
        "from sklearn.feature_selection import SelectKBest, f_regression, chi2\n",
        "best = int(len(config1_df.columns)*0.3)\n",
        "k_config1 =  SelectKBest(k=best, score_func=chi2)\n",
        "k_config2 =  SelectKBest(k=best, score_func=chi2)\n",
        "k_config3 =  SelectKBest(k=best, score_func=chi2)"
      ],
      "metadata": {
        "id": "tzl285DjETrz"
      },
      "execution_count": 9,
      "outputs": []
    },
    {
      "cell_type": "code",
      "source": [
        "import copy\n",
        "X_train_config1 = copy.deepcopy(config1_df)\n",
        "X_train_config2 = copy.deepcopy(config2_df)\n",
        "X_train_config3 = copy.deepcopy(config3_df)\n",
        "\n",
        "# Se usa la misma y en todos los algoritmos siguientes\n",
        "Y_train_config1 = copy.deepcopy(df_prods)\n",
        "Y_train_config1 = Y_train_config1[\"Score\"]\n",
        "Y_train_config1 = Y_train_config1.astype({\"Score\" : \"int\"})\n",
        "\n",
        "print(X_train_config1.shape)\n",
        "print(Y_train_config1.shape)\n",
        "\n",
        "k_config1 = k_config1.fit(X_train_config1, Y_train_config1)\n",
        "X_train_config1 = k_config1.transform(X_train_config1)\n",
        "\n",
        "k_config2 = k_config2.fit(X_train_config2, Y_train_config1)\n",
        "X_train_config2 = k_config2.transform(X_train_config2)\n",
        "\n",
        "k_config3 = k_config3.fit(X_train_config3, Y_train_config1)\n",
        "X_train_config3 = k_config3.transform(X_train_config3)\n",
        "\n",
        "\n",
        "Y_train_config1.value_counts()\n"
      ],
      "metadata": {
        "colab": {
          "base_uri": "https://localhost:8080/"
        },
        "id": "q8h_wPcl2tEG",
        "outputId": "2384fa6d-3c0c-433f-fdee-33670973bf86"
      },
      "execution_count": 11,
      "outputs": [
        {
          "output_type": "stream",
          "name": "stdout",
          "text": [
            "(9620, 18801)\n",
            "(9620,)\n"
          ]
        },
        {
          "output_type": "execute_result",
          "data": {
            "text/plain": [
              "5    6807\n",
              "4    1049\n",
              "1     918\n",
              "3     482\n",
              "2     364\n",
              "Name: Score, dtype: int64"
            ]
          },
          "metadata": {},
          "execution_count": 11
        }
      ]
    },
    {
      "cell_type": "markdown",
      "source": [
        "## 3.1 Dealing with Imbalanced Data (DO NOT EXECUTE)"
      ],
      "metadata": {
        "id": "dMwv772_Wvs-"
      }
    },
    {
      "cell_type": "markdown",
      "source": [
        "We have to deal with imbalance data (too many 5 star reviews) with a combination of oversampling and undersampling using SMOTEENN. We will resample all targets except the 5 star reviews. Unfortunately there is no enough RAM in Colab to execute this code"
      ],
      "metadata": {
        "id": "-cpaGYixJyD6"
      }
    },
    {
      "cell_type": "code",
      "source": [
        "from imblearn.combine import SMOTEENN\n",
        "\n",
        "sample = SMOTEENN(sampling_strategy=\"auto\") \n",
        "X, Y = sample.fit_resample(X_train_config1.to_numpy(), Y_train_config1.to_numpy())\n",
        "\n",
        "Y_train_config1.value_counts()"
      ],
      "metadata": {
        "id": "8myXVHbFJm1Z",
        "colab": {
          "base_uri": "https://localhost:8080/"
        },
        "outputId": "3f04ee5e-cc26-4da8-d538-494b62696547"
      },
      "execution_count": null,
      "outputs": [
        {
          "output_type": "execute_result",
          "data": {
            "text/plain": [
              "5    6807\n",
              "4    1049\n",
              "1     918\n",
              "3     482\n",
              "2     364\n",
              "Name: Score, dtype: int64"
            ]
          },
          "metadata": {},
          "execution_count": 12
        }
      ]
    },
    {
      "cell_type": "code",
      "source": [
        "import collections\n",
        "counter = collections.Counter(Y)\n",
        "counter\n"
      ],
      "metadata": {
        "colab": {
          "base_uri": "https://localhost:8080/"
        },
        "id": "N-62jsu6VWWS",
        "outputId": "dc05b9cf-1eb9-47b2-fb11-eeda28bd3742"
      },
      "execution_count": null,
      "outputs": [
        {
          "output_type": "execute_result",
          "data": {
            "text/plain": [
              "Counter({1: 6, 2: 6807, 4: 1, 5: 431})"
            ]
          },
          "metadata": {},
          "execution_count": 18
        }
      ]
    },
    {
      "cell_type": "markdown",
      "source": [
        "# 4. Classification algorithms"
      ],
      "metadata": {
        "id": "RTrRAKvg2tbB"
      }
    },
    {
      "cell_type": "markdown",
      "source": [
        "## 4.1 Multinomial Naive Bayes"
      ],
      "metadata": {
        "id": "j0dokby1-kSf"
      }
    },
    {
      "cell_type": "markdown",
      "source": [
        "Fit and predict for TFIDF, TFIDF + Ngram, TFIDF + Ngram + Pos tagging"
      ],
      "metadata": {
        "id": "QO4VbdmwZ3yB"
      }
    },
    {
      "cell_type": "code",
      "source": [
        "from sklearn.model_selection import train_test_split\n",
        "from sklearn.naive_bayes import MultinomialNB\n",
        "from sklearn.model_selection import GridSearchCV\n",
        "\n",
        "X_train,X_test,y_train,y_test = train_test_split(X_train_config1, Y_train_config1, test_size=0.3)\n",
        "\n",
        "model = MultinomialNB()\n",
        "param={'alpha': [0.00001, 0.0001, 0.001, 0.1, 1, 10, 100,1000]}\n",
        "clf=GridSearchCV(model,param,scoring=\"f1_micro\",cv=10,return_train_score=True)\n",
        "\n",
        "clf.fit(X_train, y_train)\n",
        "y_model_mn = clf.predict(X_test)\n",
        "\n",
        "\n",
        "X_train_2,X_test_2,y_train_2,y_test_2 = train_test_split(X_train_config2, Y_train_config1, test_size=0.3)\n",
        "\n",
        "clf_2 = GridSearchCV(model,param,scoring=\"f1_micro\",cv=10,return_train_score=True)\n",
        "clf_2.fit(X_train_2, y_train_2)\n",
        "y_model_mn_2 = clf_2.predict(X_test_2)\n",
        "\n",
        "\n",
        "X_train_3,X_test_3,y_train_3,y_test_3 = train_test_split(X_train_config2, Y_train_config1, test_size=0.3)\n",
        "\n",
        "clf_3 = GridSearchCV(model,param,scoring=\"f1_micro\",cv=10,return_train_score=True)\n",
        "clf_3.fit(X_train_3, y_train_3)\n",
        "y_model_mn_3 = clf_3.predict(X_test_3)\n",
        "\n"
      ],
      "metadata": {
        "id": "GWgpIuUUronT"
      },
      "execution_count": 13,
      "outputs": []
    },
    {
      "cell_type": "markdown",
      "source": [
        "Results"
      ],
      "metadata": {
        "id": "1zSV47_9Z_pf"
      }
    },
    {
      "cell_type": "code",
      "source": [
        "from sklearn.metrics import f1_score\n",
        "\n",
        "mn_score = f1_score(y_test, y_model_mn, average='micro')\n",
        "mn_score_2 = f1_score(y_test_2, y_model_mn_2, average='micro')\n",
        "mn_score_3 = f1_score(y_test_3, y_model_mn_3, average='micro')\n",
        "\n",
        "print(f\"Multinomial score TFIDF: {mn_score}\")\n",
        "print(f\"Multinomial score TFIDF + Ngram: {mn_score_2}\")\n",
        "print(f\"Multinomial score TFIDF + Ngram + POS tagging: {mn_score_3}\")"
      ],
      "metadata": {
        "colab": {
          "base_uri": "https://localhost:8080/"
        },
        "id": "pPNb8KhQAEr6",
        "outputId": "bf7d9625-98c3-4924-94e0-1926e16b5bf7"
      },
      "execution_count": 14,
      "outputs": [
        {
          "output_type": "stream",
          "name": "stdout",
          "text": [
            "Multinomial score TFIDF: 0.7716562716562717\n",
            "Multinomial score TFIDF + Ngram: 0.7505197505197505\n",
            "Multinomial score TFIDF + Ngram + POS tagging: 0.7428967428967429\n"
          ]
        }
      ]
    },
    {
      "cell_type": "markdown",
      "source": [
        "Confusion matrixes"
      ],
      "metadata": {
        "id": "Fyk22JX2aB_r"
      }
    },
    {
      "cell_type": "code",
      "source": [
        "from sklearn.metrics import classification_report\n",
        "\n",
        "print(\"TFIDF\")\n",
        "print(classification_report(y_test, y_model_mn, labels=clf.classes_))\n",
        "print(\"\\nTFIDF + Ngram\")\n",
        "print(classification_report(y_test_2, y_model_mn_2, labels=clf_2.classes_))\n",
        "print(\"\\nTFIDF + Ngram + Pos tagging\")\n",
        "print(classification_report(y_test_3, y_model_mn_3, labels=clf_3.classes_))"
      ],
      "metadata": {
        "colab": {
          "base_uri": "https://localhost:8080/"
        },
        "id": "1SVXh4v6AK1d",
        "outputId": "7fa14268-722d-4aaf-f994-5360b5b1406e"
      },
      "execution_count": 25,
      "outputs": [
        {
          "output_type": "stream",
          "name": "stdout",
          "text": [
            "TFIDF\n",
            "              precision    recall  f1-score   support\n",
            "\n",
            "           1       0.78      0.42      0.55       294\n",
            "           2       0.33      0.11      0.16       101\n",
            "           3       0.49      0.18      0.26       150\n",
            "           4       0.62      0.16      0.25       308\n",
            "           5       0.79      0.99      0.88      2033\n",
            "\n",
            "    accuracy                           0.77      2886\n",
            "   macro avg       0.60      0.37      0.42      2886\n",
            "weighted avg       0.74      0.77      0.72      2886\n",
            "\n",
            "\n",
            "TFIDF + Ngram\n",
            "              precision    recall  f1-score   support\n",
            "\n",
            "           1       0.79      0.30      0.43       267\n",
            "           2       0.82      0.08      0.15       107\n",
            "           3       0.96      0.16      0.28       136\n",
            "           4       0.23      0.03      0.05       328\n",
            "           5       0.75      1.00      0.86      2048\n",
            "\n",
            "    accuracy                           0.75      2886\n",
            "   macro avg       0.71      0.31      0.35      2886\n",
            "weighted avg       0.71      0.75      0.67      2886\n",
            "\n",
            "\n",
            "TFIDF + Ngram + Pos tagging\n",
            "              precision    recall  f1-score   support\n",
            "\n",
            "           1       0.79      0.29      0.43       287\n",
            "           2       0.85      0.14      0.24       121\n",
            "           3       0.91      0.20      0.33       155\n",
            "           4       0.23      0.03      0.06       317\n",
            "           5       0.75      1.00      0.85      2006\n",
            "\n",
            "    accuracy                           0.74      2886\n",
            "   macro avg       0.71      0.33      0.38      2886\n",
            "weighted avg       0.71      0.74      0.67      2886\n",
            "\n"
          ]
        }
      ]
    },
    {
      "cell_type": "code",
      "source": [
        "import matplotlib.pyplot as plt\n",
        "from sklearn.metrics import confusion_matrix, ConfusionMatrixDisplay\n",
        "\n",
        "cm = confusion_matrix(y_test, y_model_mn, labels=clf.classes_)\n",
        "disp = ConfusionMatrixDisplay(confusion_matrix=cm, display_labels=clf.classes_)\n",
        "disp.plot()\n",
        "plt.title(\"TFIDF\")\n",
        "\n",
        "cm = confusion_matrix(y_test_2, y_model_mn_2, labels=clf_2.classes_)\n",
        "disp = ConfusionMatrixDisplay(confusion_matrix=cm, display_labels=clf_2.classes_)\n",
        "disp.plot()\n",
        "plt.title(\"TFIDF + Ngram\")\n",
        "\n",
        "cm = confusion_matrix(y_test_3, y_model_mn_3, labels=clf_3.classes_)\n",
        "disp = ConfusionMatrixDisplay(confusion_matrix=cm, display_labels=clf_3.classes_)\n",
        "disp.plot()\n",
        "plt.title(\"TFIDF + Ngram + Pos Tagging\")"
      ],
      "metadata": {
        "colab": {
          "base_uri": "https://localhost:8080/",
          "height": 868
        },
        "id": "CLNUsu5dAUX2",
        "outputId": "ff2b43a2-38c2-4977-ce02-f74ff0411d53"
      },
      "execution_count": 32,
      "outputs": [
        {
          "output_type": "execute_result",
          "data": {
            "text/plain": [
              "Text(0.5, 1.0, 'TFIDF + Ngram + Pos Tagging')"
            ]
          },
          "metadata": {},
          "execution_count": 32
        },
        {
          "output_type": "display_data",
          "data": {
            "text/plain": [
              "<Figure size 432x288 with 2 Axes>"
            ],
            "image/png": "[encoded data removed]"
          },
          "metadata": {
            "needs_background": "light"
          }
        },
        {
          "output_type": "display_data",
          "data": {
            "text/plain": [
              "<Figure size 432x288 with 2 Axes>"
            ],
            "image/png": "[encoded data removed]"
          },
          "metadata": {
            "needs_background": "light"
          }
        },
        {
          "output_type": "display_data",
          "data": {
            "text/plain": [
              "<Figure size 432x288 with 2 Axes>"
            ],
            "image/png": "[encoded data removed]"
          },
          "metadata": {
            "needs_background": "light"
          }
        }
      ]
    },
    {
      "cell_type": "markdown",
      "source": [
        "## 4.2 Decision Tree"
      ],
      "metadata": {
        "id": "Yxvkm6__D-KZ"
      }
    },
    {
      "cell_type": "markdown",
      "source": [
        "Fit and predict for TFIDF"
      ],
      "metadata": {
        "id": "_z2rDlRPZnK0"
      }
    },
    {
      "cell_type": "code",
      "source": [
        "from sklearn.tree import DecisionTreeClassifier\n",
        "from sklearn.model_selection import GridSearchCV\n",
        "\n",
        "param_dict = {\n",
        "    \"criterion\":[\"gini\", \"entropy\"],\n",
        "    \"max_depth\":range(1,10),\n",
        "    \"min_samples_split\":range(2,10),\n",
        "    \"min_samples_leaf\":range(1,5)\n",
        "}\n",
        "\n",
        "dtree = GridSearchCV(DecisionTreeClassifier(), param_dict, verbose=1, cv=3, scoring=\"f1_micro\")\n",
        "\n",
        "dtree.fit(X_train, y_train)\n",
        "preds_train = dtree.predict(X_test)"
      ],
      "metadata": {
        "colab": {
          "base_uri": "https://localhost:8080/"
        },
        "id": "B9RR0tS1ECjZ",
        "outputId": "3e93026e-2e70-4bc2-9823-2c68a0442630"
      },
      "execution_count": 17,
      "outputs": [
        {
          "output_type": "stream",
          "name": "stdout",
          "text": [
            "Fitting 3 folds for each of 576 candidates, totalling 1728 fits\n"
          ]
        }
      ]
    },
    {
      "cell_type": "markdown",
      "source": [
        "Fit and predict for TFIDF + Ngram"
      ],
      "metadata": {
        "id": "cgtbiDAUZri8"
      }
    },
    {
      "cell_type": "code",
      "source": [
        "dtree = GridSearchCV(DecisionTreeClassifier(), param_dict, verbose=1, cv=3, scoring=\"f1_micro\")\n",
        "\n",
        "dtree.fit(X_train_2, y_train_2)\n",
        "preds_train_2 = dtree.predict(X_test_2)"
      ],
      "metadata": {
        "id": "qYE2sC_ZYP76",
        "colab": {
          "base_uri": "https://localhost:8080/"
        },
        "outputId": "e91258f8-6de7-4787-f9c0-bc128f8ab9e4"
      },
      "execution_count": 18,
      "outputs": [
        {
          "output_type": "stream",
          "name": "stdout",
          "text": [
            "Fitting 3 folds for each of 576 candidates, totalling 1728 fits\n"
          ]
        }
      ]
    },
    {
      "cell_type": "markdown",
      "source": [
        "Fit and predict for TFIDF + Ngram + Pos tagging"
      ],
      "metadata": {
        "id": "g_6tD40DZtFE"
      }
    },
    {
      "cell_type": "code",
      "source": [
        "dtree = GridSearchCV(DecisionTreeClassifier(), param_dict, verbose=1, cv=3, scoring=\"f1_micro\")\n",
        "\n",
        "dtree.fit(X_train_3, y_train_3)\n",
        "preds_train_3 = dtree.predict(X_test_3)"
      ],
      "metadata": {
        "id": "-CtBQReIY30b",
        "colab": {
          "base_uri": "https://localhost:8080/"
        },
        "outputId": "2e69923a-8647-44ec-f0be-d019b658dcef"
      },
      "execution_count": 19,
      "outputs": [
        {
          "output_type": "stream",
          "name": "stdout",
          "text": [
            "Fitting 3 folds for each of 576 candidates, totalling 1728 fits\n"
          ]
        }
      ]
    },
    {
      "cell_type": "markdown",
      "source": [
        "Confusion matrixes"
      ],
      "metadata": {
        "id": "BWUQmMcOZwly"
      }
    },
    {
      "cell_type": "code",
      "source": [
        "from sklearn.metrics import classification_report\n",
        "print(\"TFIDF \\n\" \n",
        "      +classification_report(y_true=y_test, y_pred=preds_train))\n",
        "\n",
        "print(\"\\nTFIDF + Ngram \\n\" \n",
        "      +classification_report(y_true=y_test_2, y_pred=preds_train_2))\n",
        "\n",
        "print(\"\\nTFIDF + Ngram + Pos tagging\\n\" \n",
        "      +classification_report(y_true=y_test_3, y_pred=preds_train_3))\n",
        "\n",
        "# Confussion Matrix\n",
        "print(\"Confussion Matrix TFIDF:\\n\")\n",
        "matriz = pd.crosstab(y_test, preds_train, rownames=['actual'], colnames=['preds'])\n",
        "print(matriz)\n",
        "\n",
        "print(\"\\nConfussion Matrix TFIDF + Ngram:\\n\")\n",
        "matriz = pd.crosstab(y_test_2, preds_train_2, rownames=['actual'], colnames=['preds'])\n",
        "print(matriz)\n",
        "\n",
        "print(\"\\nConfussion Matrix TFIDF + Ngram + Pos tagging:\\n\")\n",
        "matriz = pd.crosstab(y_test_3, preds_train_3, rownames=['actual'], colnames=['preds'])\n",
        "print(matriz)"
      ],
      "metadata": {
        "colab": {
          "base_uri": "https://localhost:8080/"
        },
        "id": "uLn-5BJQEckJ",
        "outputId": "f3e8bebf-a5fc-4373-a0aa-0497d39859c5"
      },
      "execution_count": 34,
      "outputs": [
        {
          "output_type": "stream",
          "name": "stdout",
          "text": [
            "TFIDF \n",
            "              precision    recall  f1-score   support\n",
            "\n",
            "           1       0.60      0.05      0.09       294\n",
            "           2       0.00      0.00      0.00       101\n",
            "           3       0.38      0.02      0.04       150\n",
            "           4       0.17      0.00      0.01       308\n",
            "           5       0.71      0.99      0.83      2033\n",
            "\n",
            "    accuracy                           0.71      2886\n",
            "   macro avg       0.37      0.21      0.19      2886\n",
            "weighted avg       0.60      0.71      0.59      2886\n",
            "\n",
            "\n",
            "TFIDF + Ngram \n",
            "              precision    recall  f1-score   support\n",
            "\n",
            "           1       0.56      0.13      0.21       267\n",
            "           2       0.15      0.02      0.03       107\n",
            "           3       0.20      0.04      0.06       136\n",
            "           4       0.30      0.05      0.08       328\n",
            "           5       0.73      0.98      0.84      2048\n",
            "\n",
            "    accuracy                           0.71      2886\n",
            "   macro avg       0.39      0.24      0.24      2886\n",
            "weighted avg       0.62      0.71      0.63      2886\n",
            "\n",
            "\n",
            "TFIDF + Ngram + Pos tagging\n",
            "              precision    recall  f1-score   support\n",
            "\n",
            "           1       0.46      0.13      0.21       287\n",
            "           2       0.00      0.00      0.00       121\n",
            "           3       0.29      0.03      0.06       155\n",
            "           4       0.28      0.06      0.10       317\n",
            "           5       0.72      0.98      0.83      2006\n",
            "\n",
            "    accuracy                           0.70      2886\n",
            "   macro avg       0.35      0.24      0.24      2886\n",
            "weighted avg       0.59      0.70      0.61      2886\n",
            "\n",
            "Confussion Matrix TFIDF:\n",
            "\n",
            "preds    1  2  3  4     5\n",
            "actual                   \n",
            "1       15  0  2  0   277\n",
            "2        0  0  0  0   101\n",
            "3        0  0  3  0   147\n",
            "4        2  0  0  1   305\n",
            "5        8  1  3  5  2016\n",
            "\n",
            "Confussion Matrix TFIDF + Ngram:\n",
            "\n",
            "preds    1  2  3   4     5\n",
            "actual                    \n",
            "1       34  2  6   3   222\n",
            "2        4  2  2   6    93\n",
            "3        2  2  5  13   114\n",
            "4        3  3  4  15   303\n",
            "5       18  4  8  13  2005\n",
            "\n",
            "Confussion Matrix TFIDF + Ngram + Pos tagging:\n",
            "\n",
            "preds    1  2  3   4     5\n",
            "actual                    \n",
            "1       38  1  2   4   242\n",
            "2       10  0  5   7    99\n",
            "3       10  1  5  17   122\n",
            "4        6  0  3  19   289\n",
            "5       19  0  2  21  1964\n"
          ]
        }
      ]
    },
    {
      "cell_type": "code",
      "source": [
        "import matplotlib.pyplot as plt\n",
        "from sklearn.metrics import confusion_matrix, ConfusionMatrixDisplay\n",
        "\n",
        "cm = confusion_matrix(y_test, preds_train, labels=dtree.classes_)\n",
        "disp = ConfusionMatrixDisplay(confusion_matrix=cm, display_labels=dtree.classes_)\n",
        "disp.plot()\n",
        "plt.title(\"TFIDF\")\n",
        "\n",
        "cm = confusion_matrix(y_test_2, preds_train_2, labels=dtree.classes_)\n",
        "disp = ConfusionMatrixDisplay(confusion_matrix=cm, display_labels=dtree.classes_)\n",
        "disp.plot()\n",
        "plt.title(\"TFIDF + Ngram\")\n",
        "\n",
        "cm = confusion_matrix(y_test_3, preds_train_3, labels=dtree.classes_)\n",
        "disp = ConfusionMatrixDisplay(confusion_matrix=cm, display_labels=dtree.classes_)\n",
        "disp.plot()\n",
        "plt.title(\"TFIDF + Ngram + Pos tagging\")"
      ],
      "metadata": {
        "colab": {
          "base_uri": "https://localhost:8080/",
          "height": 868
        },
        "id": "96wmsJPOFZTm",
        "outputId": "7f0d33af-348d-45f3-9444-6bbd80431397"
      },
      "execution_count": 35,
      "outputs": [
        {
          "output_type": "execute_result",
          "data": {
            "text/plain": [
              "Text(0.5, 1.0, 'TFIDF + Ngram + Pos tagging')"
            ]
          },
          "metadata": {},
          "execution_count": 35
        },
        {
          "output_type": "display_data",
          "data": {
            "text/plain": [
              "<Figure size 432x288 with 2 Axes>"
            ],
            "image/png": "[encoded data removed]"
          },
          "metadata": {
            "needs_background": "light"
          }
        },
        {
          "output_type": "display_data",
          "data": {
            "text/plain": [
              "<Figure size 432x288 with 2 Axes>"
            ],
            "image/png": "[encoded data removed]"
          },
          "metadata": {
            "needs_background": "light"
          }
        },
        {
          "output_type": "display_data",
          "data": {
            "text/plain": [
              "<Figure size 432x288 with 2 Axes>"
            ],
            "image/png": "[encoded data removed]"
          },
          "metadata": {
            "needs_background": "light"
          }
        }
      ]
    },
    {
      "cell_type": "markdown",
      "source": [
        "Comparing results"
      ],
      "metadata": {
        "id": "ob4QPX51ZzlB"
      }
    },
    {
      "cell_type": "code",
      "source": [
        "from sklearn.metrics import f1_score\n",
        "\n",
        "grid_pred_acc = f1_score(y_test, preds_train, average='micro')\n",
        "grid_pred_acc_2 = f1_score(y_test_2, preds_train_2, average='micro')\n",
        "grid_pred_acc_3 = f1_score(y_test_3, preds_train_3, average='micro')\n",
        "\n",
        "print(f\"Prediciton using Decision Tree + GridSearchCV (with cross validation)\")\n",
        "print(f\" - TFIDF: {grid_pred_acc}\")\n",
        "print(f\" - TFIDF + Ngram: {grid_pred_acc_2}\")\n",
        "print(f\" - TFIDF + Ngram + POS tagging: {grid_pred_acc_3}\")\n"
      ],
      "metadata": {
        "colab": {
          "base_uri": "https://localhost:8080/"
        },
        "id": "idSVrKLQFhp1",
        "outputId": "d59cada2-51d4-4d8c-b195-8d37fb158678"
      },
      "execution_count": 22,
      "outputs": [
        {
          "output_type": "stream",
          "name": "stdout",
          "text": [
            "Prediciton using Decision Tree + GridSearchCV (with cross validation)\n",
            " - TFIDF: 0.7051282051282052\n",
            " - TFIDF + Ngram: 0.7141372141372141\n",
            " - TFIDF + Ngram + POS tagging: 0.702009702009702\n"
          ]
        }
      ]
    }
  ]
}